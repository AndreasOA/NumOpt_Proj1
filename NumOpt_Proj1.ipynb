{
  "nbformat": 4,
  "nbformat_minor": 0,
  "metadata": {
    "kernelspec": {
      "display_name": "Python 3",
      "language": "python",
      "name": "python3"
    },
    "language_info": {
      "codemirror_mode": {
        "name": "ipython",
        "version": 3
      },
      "file_extension": ".py",
      "mimetype": "text/x-python",
      "name": "python",
      "nbconvert_exporter": "python",
      "pygments_lexer": "ipython3",
      "version": "3.7.6"
    },
    "colab": {
      "name": "NO_K11916624.ipynb",
      "provenance": [],
      "collapsed_sections": [
        "db7PrUvCmXnY",
        "kt7onhpImXnZ",
        "w7RON4G1mXnZ",
        "aO7uwQ0YmXna",
        "yy9Hb1r4mXnb",
        "9wEYB7AnmXnc",
        "dk2KPBocmXnc",
        "gL3I1-rfmXnd",
        "FHG-KAPtmXnd",
        "uaVfQyxNmXnd",
        "OTx7uKvHmXne",
        "VQTBDVGGmXne",
        "EXTSyU4cmXne",
        "yh8WYET0mXnf",
        "NHLiZyzCmXnf",
        "lQEMaNJ4mXng",
        "0Rwru_yymXng",
        "UlI4YYdTmXng",
        "8XDE_xszmXnh",
        "Dc9qnmKYmXnh",
        "dgG_GUwXmXnh",
        "3GX_3Nh9mXni",
        "PD_DRGyHmXni",
        "q3a_EzpAmXni",
        "Oopn4hPHmXnj",
        "AAdV93h8mXnj",
        "FBKTYJTrmXnl",
        "ldtwO_-VmXnl",
        "4U_SVypemXnl",
        "DWv7yt-PmXnm",
        "Pre-2fphmXnm",
        "2b8x_o81mXnm",
        "sFplb0dUmXnn",
        "tZMazBj0mXnn",
        "Uzf8F5kQmXnn",
        "AqzeNuoNmXno",
        "ieTbV1DymXno",
        "q31jepfJmXnp",
        "9WYBG6icmXnp",
        "il6Ng_1bmXnp",
        "LP6zERDGmXnq",
        "MQHoCsHlmXnq",
        "BWvjZypNmXnq",
        "LUTEB82-mXnr",
        "lGdRpk-gmXnr"
      ],
      "toc_visible": true,
      "include_colab_link": true
    }
  },
  "cells": [
    {
      "cell_type": "markdown",
      "metadata": {
        "id": "view-in-github",
        "colab_type": "text"
      },
      "source": [
        "<a href=\"https://colab.research.google.com/github/AndreasOA/NumOpt_Proj1/blob/main/NumOpt_Proj1.ipynb\" target=\"_parent\"><img src=\"https://colab.research.google.com/assets/colab-badge.svg\" alt=\"Open In Colab\"/></a>"
      ]
    },
    {
      "cell_type": "code",
      "metadata": {
        "id": "0lLXHsZdmXnU"
      },
      "source": [
        "import numpy as np\n",
        "import pandas as pd\n",
        "import time"
      ],
      "execution_count": null,
      "outputs": []
    },
    {
      "cell_type": "markdown",
      "metadata": {
        "id": "BpXBaZVRmXnS"
      },
      "source": [
        "# Numerical Optimization - Group project phase 2\n"
      ]
    },
    {
      "cell_type": "markdown",
      "metadata": {
        "id": "pmQeqRH4mXnV"
      },
      "source": [
        "## Problems"
      ]
    },
    {
      "cell_type": "code",
      "metadata": {
        "scrolled": true,
        "id": "QW-yxu0BmXnV"
      },
      "source": [
        "def get_random_A_b_minimizer(seed):\n",
        "    np.random.seed(seed)\n",
        "    A=np.random.randint(0, 2, (11, 11))\n",
        "    A=A@A.T\n",
        "\n",
        "    np.random.seed(seed)\n",
        "    minimizer=np.random.randint(0, 10, (11, 1))\n",
        "\n",
        "    b=A@minimizer\n",
        "    \n",
        "    return A, b, minimizer"
      ],
      "execution_count": null,
      "outputs": []
    },
    {
      "cell_type": "markdown",
      "metadata": {
        "id": "F0pSOVB2mXnV"
      },
      "source": [
        "### #1"
      ]
    },
    {
      "cell_type": "code",
      "metadata": {
        "id": "iQOOw1uEmXnW"
      },
      "source": [
        "A_1, b_1, minimizer_1 = get_random_A_b_minimizer(0)\n",
        "\n",
        "def problem_1(x):\n",
        "    return (x.T@A_1@x)/2-b_1.T@x\n",
        "\n",
        "def grad_problem_1(x):\n",
        "    return A_1@x-b_1\n",
        "\n",
        "def hessian_problem_1(x):\n",
        "    return A_1"
      ],
      "execution_count": null,
      "outputs": []
    },
    {
      "cell_type": "markdown",
      "metadata": {
        "id": "VGUqO259mXnW"
      },
      "source": [
        "### #2"
      ]
    },
    {
      "cell_type": "code",
      "metadata": {
        "id": "7pEUHHy0mXnW"
      },
      "source": [
        "A_2, b_2, minimizer_2 = get_random_A_b_minimizer(2)\n",
        "\n",
        "def problem_2(x):\n",
        "    return (x.T@A_2@x)/2-b_2.T@x\n",
        "\n",
        "def grad_problem_2(x):\n",
        "    return A_2@x-b_2\n",
        "\n",
        "def hessian_problem_2(x):\n",
        "    return A_2"
      ],
      "execution_count": null,
      "outputs": []
    },
    {
      "cell_type": "markdown",
      "metadata": {
        "id": "dodqvlg9mXnW"
      },
      "source": [
        "### #3"
      ]
    },
    {
      "cell_type": "code",
      "metadata": {
        "id": "OlSYwYwHmXnX"
      },
      "source": [
        "A_3, b_3, minimizer_3 = get_random_A_b_minimizer(3)\n",
        "\n",
        "def problem_3(x):\n",
        "    return (x.T@A_3@x)/2-b_3.T@x\n",
        "\n",
        "def grad_problem_3(x):\n",
        "    return A_3@x-b_3\n",
        "\n",
        "def hessian_problem_3(x):\n",
        "    return A_3"
      ],
      "execution_count": null,
      "outputs": []
    },
    {
      "cell_type": "markdown",
      "metadata": {
        "id": "WBzAzUzxmXnX"
      },
      "source": [
        "### #4"
      ]
    },
    {
      "cell_type": "code",
      "metadata": {
        "id": "YxNpTobymXnX"
      },
      "source": [
        "A_4, b_4, minimizer_4 = get_random_A_b_minimizer(4)\n",
        "\n",
        "def problem_4(x):\n",
        "    return (x.T@A_4@x)/2-b_4.T@x\n",
        "\n",
        "def grad_problem_4(x):\n",
        "    return A_4@x-b_4\n",
        "\n",
        "def hessian_problem_4(x):\n",
        "    return A_4"
      ],
      "execution_count": null,
      "outputs": []
    },
    {
      "cell_type": "markdown",
      "metadata": {
        "id": "YNmxtb3BmXnX"
      },
      "source": [
        "### #5"
      ]
    },
    {
      "cell_type": "code",
      "metadata": {
        "id": "Bwxee0wwmXnY"
      },
      "source": [
        "A_5, b_5, minimizer_5 = get_random_A_b_minimizer(6)\n",
        "\n",
        "def problem_5(x):\n",
        "    return (x.T@A_5@x)/2-b_5.T@x\n",
        "\n",
        "def grad_problem_5(x):\n",
        "    return A_5@x-b_5\n",
        "\n",
        "def hessian_problem_5(x):\n",
        "    return A_5"
      ],
      "execution_count": null,
      "outputs": []
    },
    {
      "cell_type": "markdown",
      "metadata": {
        "id": "0rukaW2AmXnY"
      },
      "source": [
        "### #6"
      ]
    },
    {
      "cell_type": "code",
      "metadata": {
        "id": "GmUSD0ZCmXnY"
      },
      "source": [
        "abc_6 = np.array([1, 20, 300])\n",
        "\n",
        "def problem_6(x):\n",
        "    return -(x*(3*x**3+(-4*abc_6[2]-4*abc_6[1]-4*abc_6[0])*x**2+((6*abc_6[1]+6*abc_6[0])*abc_6[2]+6*abc_6[0]*abc_6[1])*x-12*abc_6[0]*abc_6[1]*abc_6[2]))/12\n",
        "\n",
        "def derivative_problem_6(x):\n",
        "    return (abc_6[0]-x)*(abc_6[1]-x)*(abc_6[2]-x)\n",
        "\n",
        "def second_derivative_problem_6(x):\n",
        "    return -(abc_6[1]-x)*(abc_6[2]-x)-(abc_6[0]-x)*(abc_6[2]-x)-(abc_6[0]-x)*(abc_6[1]-x)"
      ],
      "execution_count": null,
      "outputs": []
    },
    {
      "cell_type": "markdown",
      "metadata": {
        "id": "db7PrUvCmXnY"
      },
      "source": [
        "### #7"
      ]
    },
    {
      "cell_type": "code",
      "metadata": {
        "id": "cdo1a97MmXnY"
      },
      "source": [
        "abc_7 = np.array([4, 50, 600])\n",
        "\n",
        "def problem_7(x):\n",
        "    return -(x*(3*x**3+(-4*abc_7[2]-4*abc_7[1]-4*abc_7[0])*x**2+((6*abc_7[1]+6*abc_7[0])*abc_7[2]+6*abc_7[0]*abc_7[1])*x-12*abc_7[0]*abc_7[1]*abc_7[2]))/12\n",
        "\n",
        "def derivative_problem_7(x):\n",
        "    return (abc_7[0]-x)*(abc_7[1]-x)*(abc_7[2]-x)\n",
        "\n",
        "def second_derivative_problem_7(x):\n",
        "    return -(abc_7[1]-x)*(abc_7[2]-x)-(abc_7[0]-x)*(abc_7[2]-x)-(abc_7[0]-x)*(abc_7[1]-x)"
      ],
      "execution_count": null,
      "outputs": []
    },
    {
      "cell_type": "markdown",
      "metadata": {
        "id": "kt7onhpImXnZ"
      },
      "source": [
        "### #8"
      ]
    },
    {
      "cell_type": "code",
      "metadata": {
        "id": "tXeUcX3XmXnZ"
      },
      "source": [
        "abc_8 = np.array([7, 80, 900])\n",
        "\n",
        "def problem_8(x):\n",
        "    return -(x*(3*x**3+(-4*abc_8[2]-4*abc_8[1]-4*abc_8[0])*x**2+((6*abc_8[1]+6*abc_8[0])*abc_8[2]+6*abc_8[0]*abc_8[1])*x-12*abc_8[0]*abc_8[1]*abc_8[2]))/12\n",
        "\n",
        "def derivative_problem_8(x):\n",
        "    return (abc_8[0]-x)*(abc_8[1]-x)*(abc_8[2]-x)\n",
        "\n",
        "def second_derivative_problem_8(x):\n",
        "    return -(abc_8[1]-x)*(abc_8[2]-x)-(abc_8[0]-x)*(abc_8[2]-x)-(abc_8[0]-x)*(abc_8[1]-x)"
      ],
      "execution_count": null,
      "outputs": []
    },
    {
      "cell_type": "markdown",
      "metadata": {
        "id": "w7RON4G1mXnZ"
      },
      "source": [
        "### #9"
      ]
    },
    {
      "cell_type": "code",
      "metadata": {
        "id": "V4ZY3hdVmXnZ"
      },
      "source": [
        "abc_9 = np.array([1, 100, 200])\n",
        "\n",
        "def problem_9(x):\n",
        "    return -(x*(3*x**3+(-4*abc_9[2]-4*abc_9[1]-4*abc_9[0])*x**2+((6*abc_9[1]+6*abc_9[0])*abc_9[2]+6*abc_9[0]*abc_9[1])*x-12*abc_9[0]*abc_9[1]*abc_9[2]))/12\n",
        "\n",
        "def derivative_problem_9(x):\n",
        "    return (abc_9[0]-x)*(abc_9[1]-x)*(abc_9[2]-x)\n",
        "\n",
        "def second_derivative_problem_9(x):\n",
        "    return -(abc_9[1]-x)*(abc_9[2]-x)-(abc_9[0]-x)*(abc_9[2]-x)-(abc_9[0]-x)*(abc_9[1]-x)"
      ],
      "execution_count": null,
      "outputs": []
    },
    {
      "cell_type": "markdown",
      "metadata": {
        "id": "aO7uwQ0YmXna"
      },
      "source": [
        "### #10"
      ]
    },
    {
      "cell_type": "code",
      "metadata": {
        "id": "0HqtscAjmXna"
      },
      "source": [
        "abc_10 = np.array([2, 120, 200])\n",
        "\n",
        "def problem_10(x):\n",
        "    return -(x*(3*x**3+(-4*abc_10[2]-4*abc_10[1]-4*abc_10[0])*x**2+((6*abc_10[1]+6*abc_10[0])*abc_10[2]+6*abc_10[0]*abc_10[1])*x-12*abc_10[0]*abc_10[1]*abc_10[2]))/12\n",
        "\n",
        "def derivative_problem_10(x):\n",
        "    return (abc_10[0]-x)*(abc_10[1]-x)*(abc_10[2]-x)\n",
        "\n",
        "def second_derivative_problem_10(x):\n",
        "    return -(abc_10[1]-x)*(abc_10[2]-x)-(abc_10[0]-x)*(abc_10[2]-x)-(abc_10[0]-x)*(abc_10[1]-x)"
      ],
      "execution_count": null,
      "outputs": []
    },
    {
      "cell_type": "markdown",
      "metadata": {
        "id": "dqDjtPGvmXna"
      },
      "source": [
        "## Gradient-Descent"
      ]
    },
    {
      "cell_type": "code",
      "metadata": {
        "id": "fekndr3ZmXna"
      },
      "source": [
        "def steepest_descent_multi(xk, minimizer, gradient, lr=1e-3, max_steps=1e6, epsilon=1e-5):\n",
        "    start_time = time.time()\n",
        "    for p in range(int(max_steps)):\n",
        "        grad = gradient(xk)\n",
        "        grad_norm = np.linalg.norm(grad)\n",
        "        if grad_norm <= epsilon:\n",
        "            break\n",
        "        xk=xk-(lr * grad)\n",
        "    print(\"performed \" + str(p+1) + \" iterations. Final norm of gradient: \" + str(grad_norm))\n",
        "    print(\"--- %s seconds ---\" % (time.time() - start_time))\n",
        "    return xk\n",
        "\n",
        "def steepest_descent_uni(xk, minimizers, derivative, lr=1e-7, max_steps=1e5, epsilon=1e-5):\n",
        "    start_time = time.time()\n",
        "    for p in range(int(max_steps)):\n",
        "        der = derivative(xk)        \n",
        "        if abs(der) <= epsilon:\n",
        "            break  \n",
        "        xk=xk-(lr * der)\n",
        "    print(\"performed \" + str(p+1) + \" iterations. Final derivative: \" + str(der))\n",
        "    print(\"--- %s seconds ---\" % (time.time() - start_time))\n",
        "    return xk"
      ],
      "execution_count": null,
      "outputs": []
    },
    {
      "cell_type": "code",
      "metadata": {
        "id": "_2wFSncAmXnb"
      },
      "source": [
        "# random starting vector for all algorithms and functions\n",
        "init=np.array([[6],[1],[2],[6],[7],[8],[1],[5],[1],[3],[6]])"
      ],
      "execution_count": null,
      "outputs": []
    },
    {
      "cell_type": "markdown",
      "metadata": {
        "id": "yy9Hb1r4mXnb"
      },
      "source": [
        "### #1"
      ]
    },
    {
      "cell_type": "code",
      "metadata": {
        "id": "Dm4DfDMymXnb",
        "outputId": "bf1de6bf-28d7-4ff4-b28f-1aad318065ef"
      },
      "source": [
        "x_hat=steepest_descent_multi(init, minimizer_1, grad_problem_1, lr=1.5e-3)\n",
        "pd.DataFrame(data={'approximated minimizer': x_hat[:,0], 'real minimizer': minimizer_1[:,0]})"
      ],
      "execution_count": null,
      "outputs": [
        {
          "output_type": "stream",
          "text": [
            "performed 167056 iterations. Final norm of gradient: 9.999772305747871e-06\n",
            "--- 2.4243271350860596 seconds ---\n"
          ],
          "name": "stdout"
        },
        {
          "output_type": "execute_result",
          "data": {
            "text/html": [
              "<div>\n",
              "<style scoped>\n",
              "    .dataframe tbody tr th:only-of-type {\n",
              "        vertical-align: middle;\n",
              "    }\n",
              "\n",
              "    .dataframe tbody tr th {\n",
              "        vertical-align: top;\n",
              "    }\n",
              "\n",
              "    .dataframe thead th {\n",
              "        text-align: right;\n",
              "    }\n",
              "</style>\n",
              "<table border=\"1\" class=\"dataframe\">\n",
              "  <thead>\n",
              "    <tr style=\"text-align: right;\">\n",
              "      <th></th>\n",
              "      <th>approximated minimizer</th>\n",
              "      <th>real minimizer</th>\n",
              "    </tr>\n",
              "  </thead>\n",
              "  <tbody>\n",
              "    <tr>\n",
              "      <th>0</th>\n",
              "      <td>5.000103</td>\n",
              "      <td>5</td>\n",
              "    </tr>\n",
              "    <tr>\n",
              "      <th>1</th>\n",
              "      <td>-0.000180</td>\n",
              "      <td>0</td>\n",
              "    </tr>\n",
              "    <tr>\n",
              "      <th>2</th>\n",
              "      <td>2.999975</td>\n",
              "      <td>3</td>\n",
              "    </tr>\n",
              "    <tr>\n",
              "      <th>3</th>\n",
              "      <td>3.000025</td>\n",
              "      <td>3</td>\n",
              "    </tr>\n",
              "    <tr>\n",
              "      <th>4</th>\n",
              "      <td>7.000084</td>\n",
              "      <td>7</td>\n",
              "    </tr>\n",
              "    <tr>\n",
              "      <th>5</th>\n",
              "      <td>8.999770</td>\n",
              "      <td>9</td>\n",
              "    </tr>\n",
              "    <tr>\n",
              "      <th>6</th>\n",
              "      <td>3.000062</td>\n",
              "      <td>3</td>\n",
              "    </tr>\n",
              "    <tr>\n",
              "      <th>7</th>\n",
              "      <td>5.000023</td>\n",
              "      <td>5</td>\n",
              "    </tr>\n",
              "    <tr>\n",
              "      <th>8</th>\n",
              "      <td>1.999953</td>\n",
              "      <td>2</td>\n",
              "    </tr>\n",
              "    <tr>\n",
              "      <th>9</th>\n",
              "      <td>4.000014</td>\n",
              "      <td>4</td>\n",
              "    </tr>\n",
              "    <tr>\n",
              "      <th>10</th>\n",
              "      <td>6.999962</td>\n",
              "      <td>7</td>\n",
              "    </tr>\n",
              "  </tbody>\n",
              "</table>\n",
              "</div>"
            ],
            "text/plain": [
              "    approximated minimizer  real minimizer\n",
              "0                 5.000103               5\n",
              "1                -0.000180               0\n",
              "2                 2.999975               3\n",
              "3                 3.000025               3\n",
              "4                 7.000084               7\n",
              "5                 8.999770               9\n",
              "6                 3.000062               3\n",
              "7                 5.000023               5\n",
              "8                 1.999953               2\n",
              "9                 4.000014               4\n",
              "10                6.999962               7"
            ]
          },
          "metadata": {
            "tags": []
          },
          "execution_count": 15
        }
      ]
    },
    {
      "cell_type": "markdown",
      "metadata": {
        "id": "9wEYB7AnmXnc"
      },
      "source": [
        "### #2"
      ]
    },
    {
      "cell_type": "code",
      "metadata": {
        "id": "299p0es0mXnc",
        "outputId": "12c79e8c-ac51-4a44-e813-5bc7cd10774f"
      },
      "source": [
        "x_hat=steepest_descent_multi(init, minimizer_2, grad_problem_2, lr=1.5e-3)\n",
        "pd.DataFrame(data={'approximated minimizer': x_hat[:,0], 'real minimizer': minimizer_2[:,0]})"
      ],
      "execution_count": null,
      "outputs": [
        {
          "output_type": "stream",
          "text": [
            "performed 121366 iterations. Final norm of gradient: 9.99935872980607e-06\n",
            "--- 1.5279018878936768 seconds ---\n"
          ],
          "name": "stdout"
        },
        {
          "output_type": "execute_result",
          "data": {
            "text/html": [
              "<div>\n",
              "<style scoped>\n",
              "    .dataframe tbody tr th:only-of-type {\n",
              "        vertical-align: middle;\n",
              "    }\n",
              "\n",
              "    .dataframe tbody tr th {\n",
              "        vertical-align: top;\n",
              "    }\n",
              "\n",
              "    .dataframe thead th {\n",
              "        text-align: right;\n",
              "    }\n",
              "</style>\n",
              "<table border=\"1\" class=\"dataframe\">\n",
              "  <thead>\n",
              "    <tr style=\"text-align: right;\">\n",
              "      <th></th>\n",
              "      <th>approximated minimizer</th>\n",
              "      <th>real minimizer</th>\n",
              "    </tr>\n",
              "  </thead>\n",
              "  <tbody>\n",
              "    <tr>\n",
              "      <th>0</th>\n",
              "      <td>8.000030</td>\n",
              "      <td>8</td>\n",
              "    </tr>\n",
              "    <tr>\n",
              "      <th>1</th>\n",
              "      <td>7.999945</td>\n",
              "      <td>8</td>\n",
              "    </tr>\n",
              "    <tr>\n",
              "      <th>2</th>\n",
              "      <td>6.000073</td>\n",
              "      <td>6</td>\n",
              "    </tr>\n",
              "    <tr>\n",
              "      <th>3</th>\n",
              "      <td>2.000107</td>\n",
              "      <td>2</td>\n",
              "    </tr>\n",
              "    <tr>\n",
              "      <th>4</th>\n",
              "      <td>8.000000</td>\n",
              "      <td>8</td>\n",
              "    </tr>\n",
              "    <tr>\n",
              "      <th>5</th>\n",
              "      <td>6.999916</td>\n",
              "      <td>7</td>\n",
              "    </tr>\n",
              "    <tr>\n",
              "      <th>6</th>\n",
              "      <td>2.000003</td>\n",
              "      <td>2</td>\n",
              "    </tr>\n",
              "    <tr>\n",
              "      <th>7</th>\n",
              "      <td>0.999921</td>\n",
              "      <td>1</td>\n",
              "    </tr>\n",
              "    <tr>\n",
              "      <th>8</th>\n",
              "      <td>4.999935</td>\n",
              "      <td>5</td>\n",
              "    </tr>\n",
              "    <tr>\n",
              "      <th>9</th>\n",
              "      <td>4.000001</td>\n",
              "      <td>4</td>\n",
              "    </tr>\n",
              "    <tr>\n",
              "      <th>10</th>\n",
              "      <td>4.000034</td>\n",
              "      <td>4</td>\n",
              "    </tr>\n",
              "  </tbody>\n",
              "</table>\n",
              "</div>"
            ],
            "text/plain": [
              "    approximated minimizer  real minimizer\n",
              "0                 8.000030               8\n",
              "1                 7.999945               8\n",
              "2                 6.000073               6\n",
              "3                 2.000107               2\n",
              "4                 8.000000               8\n",
              "5                 6.999916               7\n",
              "6                 2.000003               2\n",
              "7                 0.999921               1\n",
              "8                 4.999935               5\n",
              "9                 4.000001               4\n",
              "10                4.000034               4"
            ]
          },
          "metadata": {
            "tags": []
          },
          "execution_count": 16
        }
      ]
    },
    {
      "cell_type": "markdown",
      "metadata": {
        "id": "dk2KPBocmXnc"
      },
      "source": [
        "### #3"
      ]
    },
    {
      "cell_type": "code",
      "metadata": {
        "id": "gUYI7w2tmXnc",
        "outputId": "ec46654e-a03d-40b6-8657-888715cc318f"
      },
      "source": [
        "x_hat=steepest_descent_multi(init, minimizer_3, grad_problem_3, lr=1.5e-3)\n",
        "pd.DataFrame(data={'approximated minimizer': x_hat[:,0], 'real minimizer': minimizer_3[:,0]})"
      ],
      "execution_count": null,
      "outputs": [
        {
          "output_type": "stream",
          "text": [
            "performed 219804 iterations. Final norm of gradient: 9.999903023051028e-06\n",
            "--- 2.596342086791992 seconds ---\n"
          ],
          "name": "stdout"
        },
        {
          "output_type": "execute_result",
          "data": {
            "text/html": [
              "<div>\n",
              "<style scoped>\n",
              "    .dataframe tbody tr th:only-of-type {\n",
              "        vertical-align: middle;\n",
              "    }\n",
              "\n",
              "    .dataframe tbody tr th {\n",
              "        vertical-align: top;\n",
              "    }\n",
              "\n",
              "    .dataframe thead th {\n",
              "        text-align: right;\n",
              "    }\n",
              "</style>\n",
              "<table border=\"1\" class=\"dataframe\">\n",
              "  <thead>\n",
              "    <tr style=\"text-align: right;\">\n",
              "      <th></th>\n",
              "      <th>approximated minimizer</th>\n",
              "      <th>real minimizer</th>\n",
              "    </tr>\n",
              "  </thead>\n",
              "  <tbody>\n",
              "    <tr>\n",
              "      <th>0</th>\n",
              "      <td>7.999910</td>\n",
              "      <td>8</td>\n",
              "    </tr>\n",
              "    <tr>\n",
              "      <th>1</th>\n",
              "      <td>8.999833</td>\n",
              "      <td>9</td>\n",
              "    </tr>\n",
              "    <tr>\n",
              "      <th>2</th>\n",
              "      <td>2.999990</td>\n",
              "      <td>3</td>\n",
              "    </tr>\n",
              "    <tr>\n",
              "      <th>3</th>\n",
              "      <td>7.999903</td>\n",
              "      <td>8</td>\n",
              "    </tr>\n",
              "    <tr>\n",
              "      <th>4</th>\n",
              "      <td>8.000018</td>\n",
              "      <td>8</td>\n",
              "    </tr>\n",
              "    <tr>\n",
              "      <th>5</th>\n",
              "      <td>0.000096</td>\n",
              "      <td>0</td>\n",
              "    </tr>\n",
              "    <tr>\n",
              "      <th>6</th>\n",
              "      <td>5.000103</td>\n",
              "      <td>5</td>\n",
              "    </tr>\n",
              "    <tr>\n",
              "      <th>7</th>\n",
              "      <td>3.000071</td>\n",
              "      <td>3</td>\n",
              "    </tr>\n",
              "    <tr>\n",
              "      <th>8</th>\n",
              "      <td>8.999975</td>\n",
              "      <td>9</td>\n",
              "    </tr>\n",
              "    <tr>\n",
              "      <th>9</th>\n",
              "      <td>9.000111</td>\n",
              "      <td>9</td>\n",
              "    </tr>\n",
              "    <tr>\n",
              "      <th>10</th>\n",
              "      <td>4.999803</td>\n",
              "      <td>5</td>\n",
              "    </tr>\n",
              "  </tbody>\n",
              "</table>\n",
              "</div>"
            ],
            "text/plain": [
              "    approximated minimizer  real minimizer\n",
              "0                 7.999910               8\n",
              "1                 8.999833               9\n",
              "2                 2.999990               3\n",
              "3                 7.999903               8\n",
              "4                 8.000018               8\n",
              "5                 0.000096               0\n",
              "6                 5.000103               5\n",
              "7                 3.000071               3\n",
              "8                 8.999975               9\n",
              "9                 9.000111               9\n",
              "10                4.999803               5"
            ]
          },
          "metadata": {
            "tags": []
          },
          "execution_count": 17
        }
      ]
    },
    {
      "cell_type": "markdown",
      "metadata": {
        "id": "gL3I1-rfmXnd"
      },
      "source": [
        "### #4"
      ]
    },
    {
      "cell_type": "code",
      "metadata": {
        "id": "qMV4I95WmXnd",
        "outputId": "4363fc95-b5b3-4263-9fe4-ed261fe0287e"
      },
      "source": [
        "x_hat=steepest_descent_multi(init, minimizer_4, grad_problem_4, lr=1.5e-3)\n",
        "pd.DataFrame(data={'approximated minimizer': x_hat[:,0], 'real minimizer': minimizer_4[:,0]})"
      ],
      "execution_count": null,
      "outputs": [
        {
          "output_type": "stream",
          "text": [
            "performed 114220 iterations. Final norm of gradient: 9.999232035561592e-06\n",
            "--- 1.5091917514801025 seconds ---\n"
          ],
          "name": "stdout"
        },
        {
          "output_type": "execute_result",
          "data": {
            "text/html": [
              "<div>\n",
              "<style scoped>\n",
              "    .dataframe tbody tr th:only-of-type {\n",
              "        vertical-align: middle;\n",
              "    }\n",
              "\n",
              "    .dataframe tbody tr th {\n",
              "        vertical-align: top;\n",
              "    }\n",
              "\n",
              "    .dataframe thead th {\n",
              "        text-align: right;\n",
              "    }\n",
              "</style>\n",
              "<table border=\"1\" class=\"dataframe\">\n",
              "  <thead>\n",
              "    <tr style=\"text-align: right;\">\n",
              "      <th></th>\n",
              "      <th>approximated minimizer</th>\n",
              "      <th>real minimizer</th>\n",
              "    </tr>\n",
              "  </thead>\n",
              "  <tbody>\n",
              "    <tr>\n",
              "      <th>0</th>\n",
              "      <td>7.000088</td>\n",
              "      <td>7</td>\n",
              "    </tr>\n",
              "    <tr>\n",
              "      <th>1</th>\n",
              "      <td>4.999977</td>\n",
              "      <td>5</td>\n",
              "    </tr>\n",
              "    <tr>\n",
              "      <th>2</th>\n",
              "      <td>1.000013</td>\n",
              "      <td>1</td>\n",
              "    </tr>\n",
              "    <tr>\n",
              "      <th>3</th>\n",
              "      <td>8.000047</td>\n",
              "      <td>8</td>\n",
              "    </tr>\n",
              "    <tr>\n",
              "      <th>4</th>\n",
              "      <td>6.999909</td>\n",
              "      <td>7</td>\n",
              "    </tr>\n",
              "    <tr>\n",
              "      <th>5</th>\n",
              "      <td>8.000036</td>\n",
              "      <td>8</td>\n",
              "    </tr>\n",
              "    <tr>\n",
              "      <th>6</th>\n",
              "      <td>2.000049</td>\n",
              "      <td>2</td>\n",
              "    </tr>\n",
              "    <tr>\n",
              "      <th>7</th>\n",
              "      <td>8.999966</td>\n",
              "      <td>9</td>\n",
              "    </tr>\n",
              "    <tr>\n",
              "      <th>8</th>\n",
              "      <td>6.999932</td>\n",
              "      <td>7</td>\n",
              "    </tr>\n",
              "    <tr>\n",
              "      <th>9</th>\n",
              "      <td>6.999973</td>\n",
              "      <td>7</td>\n",
              "    </tr>\n",
              "    <tr>\n",
              "      <th>10</th>\n",
              "      <td>7.000053</td>\n",
              "      <td>7</td>\n",
              "    </tr>\n",
              "  </tbody>\n",
              "</table>\n",
              "</div>"
            ],
            "text/plain": [
              "    approximated minimizer  real minimizer\n",
              "0                 7.000088               7\n",
              "1                 4.999977               5\n",
              "2                 1.000013               1\n",
              "3                 8.000047               8\n",
              "4                 6.999909               7\n",
              "5                 8.000036               8\n",
              "6                 2.000049               2\n",
              "7                 8.999966               9\n",
              "8                 6.999932               7\n",
              "9                 6.999973               7\n",
              "10                7.000053               7"
            ]
          },
          "metadata": {
            "tags": []
          },
          "execution_count": 18
        }
      ]
    },
    {
      "cell_type": "markdown",
      "metadata": {
        "id": "FHG-KAPtmXnd"
      },
      "source": [
        "### #5"
      ]
    },
    {
      "cell_type": "code",
      "metadata": {
        "id": "04LJOERAmXnd",
        "outputId": "fac9903a-3608-4aac-e513-def942b6d367"
      },
      "source": [
        "x_hat=steepest_descent_multi(init, minimizer_5, grad_problem_5, lr=1.5e-3)\n",
        "pd.DataFrame(data={'approximated minimizer': x_hat[:,0], 'real minimizer': minimizer_5[:,0]})"
      ],
      "execution_count": null,
      "outputs": [
        {
          "output_type": "stream",
          "text": [
            "performed 1000000 iterations. Final norm of gradient: 1.1410115552843316e-05\n",
            "--- 12.2727210521698 seconds ---\n"
          ],
          "name": "stdout"
        },
        {
          "output_type": "execute_result",
          "data": {
            "text/html": [
              "<div>\n",
              "<style scoped>\n",
              "    .dataframe tbody tr th:only-of-type {\n",
              "        vertical-align: middle;\n",
              "    }\n",
              "\n",
              "    .dataframe tbody tr th {\n",
              "        vertical-align: top;\n",
              "    }\n",
              "\n",
              "    .dataframe thead th {\n",
              "        text-align: right;\n",
              "    }\n",
              "</style>\n",
              "<table border=\"1\" class=\"dataframe\">\n",
              "  <thead>\n",
              "    <tr style=\"text-align: right;\">\n",
              "      <th></th>\n",
              "      <th>approximated minimizer</th>\n",
              "      <th>real minimizer</th>\n",
              "    </tr>\n",
              "  </thead>\n",
              "  <tbody>\n",
              "    <tr>\n",
              "      <th>0</th>\n",
              "      <td>9.001467</td>\n",
              "      <td>9</td>\n",
              "    </tr>\n",
              "    <tr>\n",
              "      <th>1</th>\n",
              "      <td>2.998585</td>\n",
              "      <td>3</td>\n",
              "    </tr>\n",
              "    <tr>\n",
              "      <th>2</th>\n",
              "      <td>3.998159</td>\n",
              "      <td>4</td>\n",
              "    </tr>\n",
              "    <tr>\n",
              "      <th>3</th>\n",
              "      <td>0.001474</td>\n",
              "      <td>0</td>\n",
              "    </tr>\n",
              "    <tr>\n",
              "      <th>4</th>\n",
              "      <td>9.001194</td>\n",
              "      <td>9</td>\n",
              "    </tr>\n",
              "    <tr>\n",
              "      <th>5</th>\n",
              "      <td>0.998760</td>\n",
              "      <td>1</td>\n",
              "    </tr>\n",
              "    <tr>\n",
              "      <th>6</th>\n",
              "      <td>9.000450</td>\n",
              "      <td>9</td>\n",
              "    </tr>\n",
              "    <tr>\n",
              "      <th>7</th>\n",
              "      <td>1.000806</td>\n",
              "      <td>1</td>\n",
              "    </tr>\n",
              "    <tr>\n",
              "      <th>8</th>\n",
              "      <td>3.998684</td>\n",
              "      <td>4</td>\n",
              "    </tr>\n",
              "    <tr>\n",
              "      <th>9</th>\n",
              "      <td>0.999687</td>\n",
              "      <td>1</td>\n",
              "    </tr>\n",
              "    <tr>\n",
              "      <th>10</th>\n",
              "      <td>8.000843</td>\n",
              "      <td>8</td>\n",
              "    </tr>\n",
              "  </tbody>\n",
              "</table>\n",
              "</div>"
            ],
            "text/plain": [
              "    approximated minimizer  real minimizer\n",
              "0                 9.001467               9\n",
              "1                 2.998585               3\n",
              "2                 3.998159               4\n",
              "3                 0.001474               0\n",
              "4                 9.001194               9\n",
              "5                 0.998760               1\n",
              "6                 9.000450               9\n",
              "7                 1.000806               1\n",
              "8                 3.998684               4\n",
              "9                 0.999687               1\n",
              "10                8.000843               8"
            ]
          },
          "metadata": {
            "tags": []
          },
          "execution_count": 19
        }
      ]
    },
    {
      "cell_type": "markdown",
      "metadata": {
        "id": "uaVfQyxNmXnd"
      },
      "source": [
        "### #6"
      ]
    },
    {
      "cell_type": "code",
      "metadata": {
        "id": "vm09bFyBmXnd",
        "outputId": "8a409ca4-a303-42d4-e124-9279d9ba7602"
      },
      "source": [
        "x_hat=steepest_descent_uni(100, np.array(abc_6), derivative_problem_6, lr=1e-5)\n",
        "print(\"estimated minimizer: \" + str(x_hat))\n",
        "print(\"real minimizers: \" + str(abc_6))"
      ],
      "execution_count": null,
      "outputs": [
        {
          "output_type": "stream",
          "text": [
            "performed 420 iterations. Final derivative: 9.629205522687836e-06\n",
            "--- 0.003362894058227539 seconds ---\n",
            "estimated minimizer: 20.00000000181\n",
            "real minimizers: [  1  20 300]\n"
          ],
          "name": "stdout"
        }
      ]
    },
    {
      "cell_type": "markdown",
      "metadata": {
        "id": "OTx7uKvHmXne"
      },
      "source": [
        "### #7"
      ]
    },
    {
      "cell_type": "code",
      "metadata": {
        "id": "mOS53bbTmXne",
        "outputId": "668cfbb4-0b7d-4ef6-e114-a74c65da7b3d"
      },
      "source": [
        "x_hat=steepest_descent_uni(100, np.array(abc_7), derivative_problem_7, lr=1e-5)\n",
        "print(\"estimated minimizer: \" + str(x_hat))\n",
        "print(\"real minimizers: \" + str(abc_7))"
      ],
      "execution_count": null,
      "outputs": [
        {
          "output_type": "stream",
          "text": [
            "performed 86 iterations. Final derivative: 8.642493298852665e-06\n",
            "--- 0.0008101463317871094 seconds ---\n",
            "estimated minimizer: 50.0000000003416\n",
            "real minimizers: [  4  50 600]\n"
          ],
          "name": "stdout"
        }
      ]
    },
    {
      "cell_type": "markdown",
      "metadata": {
        "id": "VQTBDVGGmXne"
      },
      "source": [
        "### #8"
      ]
    },
    {
      "cell_type": "code",
      "metadata": {
        "id": "WI_Tf16RmXne",
        "outputId": "15eda2c6-a57b-4f14-d4b3-2f386f07d5f2"
      },
      "source": [
        "x_hat=steepest_descent_uni(100, np.array(abc_8), derivative_problem_8, lr=1e-5)\n",
        "print(\"estimated minimizer: \" + str(x_hat))\n",
        "print(\"real minimizers: \" + str(abc_8))"
      ],
      "execution_count": null,
      "outputs": [
        {
          "output_type": "stream",
          "text": [
            "performed 29 iterations. Final derivative: 5.185634108789749e-06\n",
            "--- 0.00043010711669921875 seconds ---\n",
            "estimated minimizer: 80.00000000008663\n",
            "real minimizers: [  7  80 900]\n"
          ],
          "name": "stdout"
        }
      ]
    },
    {
      "cell_type": "markdown",
      "metadata": {
        "id": "EXTSyU4cmXne"
      },
      "source": [
        "### #9"
      ]
    },
    {
      "cell_type": "code",
      "metadata": {
        "id": "p4GSRabRmXnf",
        "outputId": "216ffb00-a31b-488b-e811-49bed0db6960"
      },
      "source": [
        "x_hat=steepest_descent_uni(90, np.array(abc_9), derivative_problem_9, lr=1e-5)\n",
        "print(\"estimated minimizer: \" + str(x_hat))\n",
        "print(\"real minimizers: \" + str(abc_9))"
      ],
      "execution_count": null,
      "outputs": [
        {
          "output_type": "stream",
          "text": [
            "performed 222 iterations. Final derivative: -9.837711445469644e-06\n",
            "--- 0.0018188953399658203 seconds ---\n",
            "estimated minimizer: 99.99999999900629\n",
            "real minimizers: [  1 100 200]\n"
          ],
          "name": "stdout"
        }
      ]
    },
    {
      "cell_type": "markdown",
      "metadata": {
        "id": "yh8WYET0mXnf"
      },
      "source": [
        "### #10"
      ]
    },
    {
      "cell_type": "code",
      "metadata": {
        "id": "Xfgv-OMgmXnf",
        "outputId": "76018ec4-fb06-4dc9-8ed5-25b237cc442b"
      },
      "source": [
        "x_hat=steepest_descent_uni(100, np.array(abc_10), derivative_problem_10, lr=1e-5)\n",
        "print(\"estimated minimizer: \" + str(x_hat))\n",
        "print(\"real minimizers: \" + str(abc_10))"
      ],
      "execution_count": null,
      "outputs": [
        {
          "output_type": "stream",
          "text": [
            "performed 239 iterations. Final derivative: -9.989917089157452e-06\n",
            "--- 0.0018568038940429688 seconds ---\n",
            "estimated minimizer: 119.99999999894175\n",
            "real minimizers: [  2 120 200]\n"
          ],
          "name": "stdout"
        }
      ]
    },
    {
      "cell_type": "markdown",
      "metadata": {
        "id": "NHLiZyzCmXnf"
      },
      "source": [
        "## Newton Method"
      ]
    },
    {
      "cell_type": "code",
      "metadata": {
        "id": "P5N6_FpZmXnf"
      },
      "source": [
        "def newton_multi(xk, minimizer, gradient_fn, hessian_fn, max_steps=10, epsilon=1e-5):\n",
        "    start_time = time.time()\n",
        "    for p in range(int(max_steps)):\n",
        "        grad = gradient_fn(xk)\n",
        "        grad_norm = np.linalg.norm(grad)\n",
        "        if grad_norm <= epsilon:\n",
        "            break\n",
        "        xk=xk - (np.linalg.inv(hessian_fn(xk))@grad)\n",
        "    print(\"performed \" + str(p+1) + \" iterations. Final norm of gradient: \" + str(grad_norm))\n",
        "    print(\"--- %s seconds ---\" % (time.time() - start_time))\n",
        "    return xk\n",
        "\n",
        "def newton_uni(xk, minimizers, derivative_fn, second_derivative_fn, max_steps=10, epsilon=1e-5):\n",
        "    start_time = time.time()\n",
        "    for p in range(int(max_steps)):\n",
        "        der = derivative_fn(xk)        \n",
        "        if abs(der) <= epsilon:\n",
        "            break \n",
        "        xk=xk - der/second_derivative_fn(xk)\n",
        "    print(\"performed \" + str(p+1) + \" iterations. Final derivative: \" + str(der))\n",
        "    print(\"--- %s seconds ---\" % (time.time() - start_time))\n",
        "    return xk"
      ],
      "execution_count": null,
      "outputs": []
    },
    {
      "cell_type": "markdown",
      "metadata": {
        "id": "lQEMaNJ4mXng"
      },
      "source": [
        "### #1"
      ]
    },
    {
      "cell_type": "code",
      "metadata": {
        "id": "AQRsUVv_mXng",
        "outputId": "be000a1d-cbf9-4d86-a29c-a311d7754b46"
      },
      "source": [
        "x_hat=newton_multi(init, minimizer_1, grad_problem_1, hessian_problem_1)\n",
        "pd.DataFrame(data={'approximated minimizer': x_hat[:,0], 'real minimizer': minimizer_1[:,0]})"
      ],
      "execution_count": null,
      "outputs": [
        {
          "output_type": "stream",
          "text": [
            "performed 2 iterations. Final norm of gradient: 7.105427357601002e-14\n",
            "--- 0.004489898681640625 seconds ---\n"
          ],
          "name": "stdout"
        },
        {
          "output_type": "execute_result",
          "data": {
            "text/html": [
              "<div>\n",
              "<style scoped>\n",
              "    .dataframe tbody tr th:only-of-type {\n",
              "        vertical-align: middle;\n",
              "    }\n",
              "\n",
              "    .dataframe tbody tr th {\n",
              "        vertical-align: top;\n",
              "    }\n",
              "\n",
              "    .dataframe thead th {\n",
              "        text-align: right;\n",
              "    }\n",
              "</style>\n",
              "<table border=\"1\" class=\"dataframe\">\n",
              "  <thead>\n",
              "    <tr style=\"text-align: right;\">\n",
              "      <th></th>\n",
              "      <th>approximated minimizer</th>\n",
              "      <th>real minimizer</th>\n",
              "    </tr>\n",
              "  </thead>\n",
              "  <tbody>\n",
              "    <tr>\n",
              "      <th>0</th>\n",
              "      <td>5.000000e+00</td>\n",
              "      <td>5</td>\n",
              "    </tr>\n",
              "    <tr>\n",
              "      <th>1</th>\n",
              "      <td>1.598721e-14</td>\n",
              "      <td>0</td>\n",
              "    </tr>\n",
              "    <tr>\n",
              "      <th>2</th>\n",
              "      <td>3.000000e+00</td>\n",
              "      <td>3</td>\n",
              "    </tr>\n",
              "    <tr>\n",
              "      <th>3</th>\n",
              "      <td>3.000000e+00</td>\n",
              "      <td>3</td>\n",
              "    </tr>\n",
              "    <tr>\n",
              "      <th>4</th>\n",
              "      <td>7.000000e+00</td>\n",
              "      <td>7</td>\n",
              "    </tr>\n",
              "    <tr>\n",
              "      <th>5</th>\n",
              "      <td>9.000000e+00</td>\n",
              "      <td>9</td>\n",
              "    </tr>\n",
              "    <tr>\n",
              "      <th>6</th>\n",
              "      <td>3.000000e+00</td>\n",
              "      <td>3</td>\n",
              "    </tr>\n",
              "    <tr>\n",
              "      <th>7</th>\n",
              "      <td>5.000000e+00</td>\n",
              "      <td>5</td>\n",
              "    </tr>\n",
              "    <tr>\n",
              "      <th>8</th>\n",
              "      <td>2.000000e+00</td>\n",
              "      <td>2</td>\n",
              "    </tr>\n",
              "    <tr>\n",
              "      <th>9</th>\n",
              "      <td>4.000000e+00</td>\n",
              "      <td>4</td>\n",
              "    </tr>\n",
              "    <tr>\n",
              "      <th>10</th>\n",
              "      <td>7.000000e+00</td>\n",
              "      <td>7</td>\n",
              "    </tr>\n",
              "  </tbody>\n",
              "</table>\n",
              "</div>"
            ],
            "text/plain": [
              "    approximated minimizer  real minimizer\n",
              "0             5.000000e+00               5\n",
              "1             1.598721e-14               0\n",
              "2             3.000000e+00               3\n",
              "3             3.000000e+00               3\n",
              "4             7.000000e+00               7\n",
              "5             9.000000e+00               9\n",
              "6             3.000000e+00               3\n",
              "7             5.000000e+00               5\n",
              "8             2.000000e+00               2\n",
              "9             4.000000e+00               4\n",
              "10            7.000000e+00               7"
            ]
          },
          "metadata": {
            "tags": []
          },
          "execution_count": 26
        }
      ]
    },
    {
      "cell_type": "markdown",
      "metadata": {
        "id": "0Rwru_yymXng"
      },
      "source": [
        "### #2"
      ]
    },
    {
      "cell_type": "code",
      "metadata": {
        "id": "ndq9hzY8mXng",
        "outputId": "8f003b09-bbb0-414b-dd32-aae4026823bb"
      },
      "source": [
        "x_hat=newton_multi(init, minimizer_2, grad_problem_2, hessian_problem_2)\n",
        "pd.DataFrame(data={'approximated minimizer': x_hat[:,0], 'real minimizer': minimizer_2[:,0]})"
      ],
      "execution_count": null,
      "outputs": [
        {
          "output_type": "stream",
          "text": [
            "performed 2 iterations. Final norm of gradient: 3.132840857496234e-13\n",
            "--- 0.0006368160247802734 seconds ---\n"
          ],
          "name": "stdout"
        },
        {
          "output_type": "execute_result",
          "data": {
            "text/html": [
              "<div>\n",
              "<style scoped>\n",
              "    .dataframe tbody tr th:only-of-type {\n",
              "        vertical-align: middle;\n",
              "    }\n",
              "\n",
              "    .dataframe tbody tr th {\n",
              "        vertical-align: top;\n",
              "    }\n",
              "\n",
              "    .dataframe thead th {\n",
              "        text-align: right;\n",
              "    }\n",
              "</style>\n",
              "<table border=\"1\" class=\"dataframe\">\n",
              "  <thead>\n",
              "    <tr style=\"text-align: right;\">\n",
              "      <th></th>\n",
              "      <th>approximated minimizer</th>\n",
              "      <th>real minimizer</th>\n",
              "    </tr>\n",
              "  </thead>\n",
              "  <tbody>\n",
              "    <tr>\n",
              "      <th>0</th>\n",
              "      <td>8.0</td>\n",
              "      <td>8</td>\n",
              "    </tr>\n",
              "    <tr>\n",
              "      <th>1</th>\n",
              "      <td>8.0</td>\n",
              "      <td>8</td>\n",
              "    </tr>\n",
              "    <tr>\n",
              "      <th>2</th>\n",
              "      <td>6.0</td>\n",
              "      <td>6</td>\n",
              "    </tr>\n",
              "    <tr>\n",
              "      <th>3</th>\n",
              "      <td>2.0</td>\n",
              "      <td>2</td>\n",
              "    </tr>\n",
              "    <tr>\n",
              "      <th>4</th>\n",
              "      <td>8.0</td>\n",
              "      <td>8</td>\n",
              "    </tr>\n",
              "    <tr>\n",
              "      <th>5</th>\n",
              "      <td>7.0</td>\n",
              "      <td>7</td>\n",
              "    </tr>\n",
              "    <tr>\n",
              "      <th>6</th>\n",
              "      <td>2.0</td>\n",
              "      <td>2</td>\n",
              "    </tr>\n",
              "    <tr>\n",
              "      <th>7</th>\n",
              "      <td>1.0</td>\n",
              "      <td>1</td>\n",
              "    </tr>\n",
              "    <tr>\n",
              "      <th>8</th>\n",
              "      <td>5.0</td>\n",
              "      <td>5</td>\n",
              "    </tr>\n",
              "    <tr>\n",
              "      <th>9</th>\n",
              "      <td>4.0</td>\n",
              "      <td>4</td>\n",
              "    </tr>\n",
              "    <tr>\n",
              "      <th>10</th>\n",
              "      <td>4.0</td>\n",
              "      <td>4</td>\n",
              "    </tr>\n",
              "  </tbody>\n",
              "</table>\n",
              "</div>"
            ],
            "text/plain": [
              "    approximated minimizer  real minimizer\n",
              "0                      8.0               8\n",
              "1                      8.0               8\n",
              "2                      6.0               6\n",
              "3                      2.0               2\n",
              "4                      8.0               8\n",
              "5                      7.0               7\n",
              "6                      2.0               2\n",
              "7                      1.0               1\n",
              "8                      5.0               5\n",
              "9                      4.0               4\n",
              "10                     4.0               4"
            ]
          },
          "metadata": {
            "tags": []
          },
          "execution_count": 27
        }
      ]
    },
    {
      "cell_type": "markdown",
      "metadata": {
        "id": "UlI4YYdTmXng"
      },
      "source": [
        "### #3"
      ]
    },
    {
      "cell_type": "code",
      "metadata": {
        "id": "ehpLUL5UmXnh",
        "outputId": "ebbbeef6-90c6-4f95-9286-d2d7a2d1d1be"
      },
      "source": [
        "x_hat=newton_multi(init, minimizer_3, grad_problem_3, hessian_problem_3)\n",
        "pd.DataFrame(data={'approximated minimizer': x_hat[:,0], 'real minimizer': minimizer_3[:,0]})"
      ],
      "execution_count": null,
      "outputs": [
        {
          "output_type": "stream",
          "text": [
            "performed 2 iterations. Final norm of gradient: 9.606855739578115e-13\n",
            "--- 0.0003960132598876953 seconds ---\n"
          ],
          "name": "stdout"
        },
        {
          "output_type": "execute_result",
          "data": {
            "text/html": [
              "<div>\n",
              "<style scoped>\n",
              "    .dataframe tbody tr th:only-of-type {\n",
              "        vertical-align: middle;\n",
              "    }\n",
              "\n",
              "    .dataframe tbody tr th {\n",
              "        vertical-align: top;\n",
              "    }\n",
              "\n",
              "    .dataframe thead th {\n",
              "        text-align: right;\n",
              "    }\n",
              "</style>\n",
              "<table border=\"1\" class=\"dataframe\">\n",
              "  <thead>\n",
              "    <tr style=\"text-align: right;\">\n",
              "      <th></th>\n",
              "      <th>approximated minimizer</th>\n",
              "      <th>real minimizer</th>\n",
              "    </tr>\n",
              "  </thead>\n",
              "  <tbody>\n",
              "    <tr>\n",
              "      <th>0</th>\n",
              "      <td>8.000000e+00</td>\n",
              "      <td>8</td>\n",
              "    </tr>\n",
              "    <tr>\n",
              "      <th>1</th>\n",
              "      <td>9.000000e+00</td>\n",
              "      <td>9</td>\n",
              "    </tr>\n",
              "    <tr>\n",
              "      <th>2</th>\n",
              "      <td>3.000000e+00</td>\n",
              "      <td>3</td>\n",
              "    </tr>\n",
              "    <tr>\n",
              "      <th>3</th>\n",
              "      <td>8.000000e+00</td>\n",
              "      <td>8</td>\n",
              "    </tr>\n",
              "    <tr>\n",
              "      <th>4</th>\n",
              "      <td>8.000000e+00</td>\n",
              "      <td>8</td>\n",
              "    </tr>\n",
              "    <tr>\n",
              "      <th>5</th>\n",
              "      <td>-1.278977e-13</td>\n",
              "      <td>0</td>\n",
              "    </tr>\n",
              "    <tr>\n",
              "      <th>6</th>\n",
              "      <td>5.000000e+00</td>\n",
              "      <td>5</td>\n",
              "    </tr>\n",
              "    <tr>\n",
              "      <th>7</th>\n",
              "      <td>3.000000e+00</td>\n",
              "      <td>3</td>\n",
              "    </tr>\n",
              "    <tr>\n",
              "      <th>8</th>\n",
              "      <td>9.000000e+00</td>\n",
              "      <td>9</td>\n",
              "    </tr>\n",
              "    <tr>\n",
              "      <th>9</th>\n",
              "      <td>9.000000e+00</td>\n",
              "      <td>9</td>\n",
              "    </tr>\n",
              "    <tr>\n",
              "      <th>10</th>\n",
              "      <td>5.000000e+00</td>\n",
              "      <td>5</td>\n",
              "    </tr>\n",
              "  </tbody>\n",
              "</table>\n",
              "</div>"
            ],
            "text/plain": [
              "    approximated minimizer  real minimizer\n",
              "0             8.000000e+00               8\n",
              "1             9.000000e+00               9\n",
              "2             3.000000e+00               3\n",
              "3             8.000000e+00               8\n",
              "4             8.000000e+00               8\n",
              "5            -1.278977e-13               0\n",
              "6             5.000000e+00               5\n",
              "7             3.000000e+00               3\n",
              "8             9.000000e+00               9\n",
              "9             9.000000e+00               9\n",
              "10            5.000000e+00               5"
            ]
          },
          "metadata": {
            "tags": []
          },
          "execution_count": 28
        }
      ]
    },
    {
      "cell_type": "markdown",
      "metadata": {
        "id": "8XDE_xszmXnh"
      },
      "source": [
        "### #4"
      ]
    },
    {
      "cell_type": "code",
      "metadata": {
        "id": "H-BsMgeQmXnh",
        "outputId": "c2fc5ff3-82ff-4a93-ad93-20dbbe48cd9a"
      },
      "source": [
        "x_hat=newton_multi(init, minimizer_4, grad_problem_4, hessian_problem_4)\n",
        "pd.DataFrame(data={'approximated minimizer': x_hat[:,0], 'real minimizer': minimizer_4[:,0]})"
      ],
      "execution_count": null,
      "outputs": [
        {
          "output_type": "stream",
          "text": [
            "performed 2 iterations. Final norm of gradient: 5.941429026383637e-13\n",
            "--- 0.0003330707550048828 seconds ---\n"
          ],
          "name": "stdout"
        },
        {
          "output_type": "execute_result",
          "data": {
            "text/html": [
              "<div>\n",
              "<style scoped>\n",
              "    .dataframe tbody tr th:only-of-type {\n",
              "        vertical-align: middle;\n",
              "    }\n",
              "\n",
              "    .dataframe tbody tr th {\n",
              "        vertical-align: top;\n",
              "    }\n",
              "\n",
              "    .dataframe thead th {\n",
              "        text-align: right;\n",
              "    }\n",
              "</style>\n",
              "<table border=\"1\" class=\"dataframe\">\n",
              "  <thead>\n",
              "    <tr style=\"text-align: right;\">\n",
              "      <th></th>\n",
              "      <th>approximated minimizer</th>\n",
              "      <th>real minimizer</th>\n",
              "    </tr>\n",
              "  </thead>\n",
              "  <tbody>\n",
              "    <tr>\n",
              "      <th>0</th>\n",
              "      <td>7.0</td>\n",
              "      <td>7</td>\n",
              "    </tr>\n",
              "    <tr>\n",
              "      <th>1</th>\n",
              "      <td>5.0</td>\n",
              "      <td>5</td>\n",
              "    </tr>\n",
              "    <tr>\n",
              "      <th>2</th>\n",
              "      <td>1.0</td>\n",
              "      <td>1</td>\n",
              "    </tr>\n",
              "    <tr>\n",
              "      <th>3</th>\n",
              "      <td>8.0</td>\n",
              "      <td>8</td>\n",
              "    </tr>\n",
              "    <tr>\n",
              "      <th>4</th>\n",
              "      <td>7.0</td>\n",
              "      <td>7</td>\n",
              "    </tr>\n",
              "    <tr>\n",
              "      <th>5</th>\n",
              "      <td>8.0</td>\n",
              "      <td>8</td>\n",
              "    </tr>\n",
              "    <tr>\n",
              "      <th>6</th>\n",
              "      <td>2.0</td>\n",
              "      <td>2</td>\n",
              "    </tr>\n",
              "    <tr>\n",
              "      <th>7</th>\n",
              "      <td>9.0</td>\n",
              "      <td>9</td>\n",
              "    </tr>\n",
              "    <tr>\n",
              "      <th>8</th>\n",
              "      <td>7.0</td>\n",
              "      <td>7</td>\n",
              "    </tr>\n",
              "    <tr>\n",
              "      <th>9</th>\n",
              "      <td>7.0</td>\n",
              "      <td>7</td>\n",
              "    </tr>\n",
              "    <tr>\n",
              "      <th>10</th>\n",
              "      <td>7.0</td>\n",
              "      <td>7</td>\n",
              "    </tr>\n",
              "  </tbody>\n",
              "</table>\n",
              "</div>"
            ],
            "text/plain": [
              "    approximated minimizer  real minimizer\n",
              "0                      7.0               7\n",
              "1                      5.0               5\n",
              "2                      1.0               1\n",
              "3                      8.0               8\n",
              "4                      7.0               7\n",
              "5                      8.0               8\n",
              "6                      2.0               2\n",
              "7                      9.0               9\n",
              "8                      7.0               7\n",
              "9                      7.0               7\n",
              "10                     7.0               7"
            ]
          },
          "metadata": {
            "tags": []
          },
          "execution_count": 29
        }
      ]
    },
    {
      "cell_type": "markdown",
      "metadata": {
        "id": "Dc9qnmKYmXnh"
      },
      "source": [
        "### #5"
      ]
    },
    {
      "cell_type": "code",
      "metadata": {
        "id": "SRCaMNXimXnh",
        "outputId": "b9f13da5-7069-4dca-e15d-ce342faeabae"
      },
      "source": [
        "x_hat=newton_multi(init, minimizer_5, grad_problem_5, hessian_problem_5)\n",
        "pd.DataFrame(data={'approximated minimizer': x_hat[:,0], 'real minimizer': minimizer_5[:,0]})"
      ],
      "execution_count": null,
      "outputs": [
        {
          "output_type": "stream",
          "text": [
            "performed 2 iterations. Final norm of gradient: 4.470076249012323e-12\n",
            "--- 0.0008981227874755859 seconds ---\n"
          ],
          "name": "stdout"
        },
        {
          "output_type": "execute_result",
          "data": {
            "text/html": [
              "<div>\n",
              "<style scoped>\n",
              "    .dataframe tbody tr th:only-of-type {\n",
              "        vertical-align: middle;\n",
              "    }\n",
              "\n",
              "    .dataframe tbody tr th {\n",
              "        vertical-align: top;\n",
              "    }\n",
              "\n",
              "    .dataframe thead th {\n",
              "        text-align: right;\n",
              "    }\n",
              "</style>\n",
              "<table border=\"1\" class=\"dataframe\">\n",
              "  <thead>\n",
              "    <tr style=\"text-align: right;\">\n",
              "      <th></th>\n",
              "      <th>approximated minimizer</th>\n",
              "      <th>real minimizer</th>\n",
              "    </tr>\n",
              "  </thead>\n",
              "  <tbody>\n",
              "    <tr>\n",
              "      <th>0</th>\n",
              "      <td>9.000000e+00</td>\n",
              "      <td>9</td>\n",
              "    </tr>\n",
              "    <tr>\n",
              "      <th>1</th>\n",
              "      <td>3.000000e+00</td>\n",
              "      <td>3</td>\n",
              "    </tr>\n",
              "    <tr>\n",
              "      <th>2</th>\n",
              "      <td>4.000000e+00</td>\n",
              "      <td>4</td>\n",
              "    </tr>\n",
              "    <tr>\n",
              "      <th>3</th>\n",
              "      <td>2.273737e-13</td>\n",
              "      <td>0</td>\n",
              "    </tr>\n",
              "    <tr>\n",
              "      <th>4</th>\n",
              "      <td>9.000000e+00</td>\n",
              "      <td>9</td>\n",
              "    </tr>\n",
              "    <tr>\n",
              "      <th>5</th>\n",
              "      <td>1.000000e+00</td>\n",
              "      <td>1</td>\n",
              "    </tr>\n",
              "    <tr>\n",
              "      <th>6</th>\n",
              "      <td>9.000000e+00</td>\n",
              "      <td>9</td>\n",
              "    </tr>\n",
              "    <tr>\n",
              "      <th>7</th>\n",
              "      <td>1.000000e+00</td>\n",
              "      <td>1</td>\n",
              "    </tr>\n",
              "    <tr>\n",
              "      <th>8</th>\n",
              "      <td>4.000000e+00</td>\n",
              "      <td>4</td>\n",
              "    </tr>\n",
              "    <tr>\n",
              "      <th>9</th>\n",
              "      <td>1.000000e+00</td>\n",
              "      <td>1</td>\n",
              "    </tr>\n",
              "    <tr>\n",
              "      <th>10</th>\n",
              "      <td>8.000000e+00</td>\n",
              "      <td>8</td>\n",
              "    </tr>\n",
              "  </tbody>\n",
              "</table>\n",
              "</div>"
            ],
            "text/plain": [
              "    approximated minimizer  real minimizer\n",
              "0             9.000000e+00               9\n",
              "1             3.000000e+00               3\n",
              "2             4.000000e+00               4\n",
              "3             2.273737e-13               0\n",
              "4             9.000000e+00               9\n",
              "5             1.000000e+00               1\n",
              "6             9.000000e+00               9\n",
              "7             1.000000e+00               1\n",
              "8             4.000000e+00               4\n",
              "9             1.000000e+00               1\n",
              "10            8.000000e+00               8"
            ]
          },
          "metadata": {
            "tags": []
          },
          "execution_count": 30
        }
      ]
    },
    {
      "cell_type": "markdown",
      "metadata": {
        "id": "dgG_GUwXmXnh"
      },
      "source": [
        "### #6"
      ]
    },
    {
      "cell_type": "code",
      "metadata": {
        "id": "kfnVvgWxmXni",
        "outputId": "3dfa2410-cc0a-41f6-bf93-1668cfedd7cb"
      },
      "source": [
        "x_hat=newton_uni(100, abc_6, derivative_problem_6, second_derivative_problem_6)\n",
        "print(\"estimated minimizer: \" + str(x_hat))\n",
        "print(\"real minimizers: \" + str(abc_6))"
      ],
      "execution_count": null,
      "outputs": [
        {
          "output_type": "stream",
          "text": [
            "performed 8 iterations. Final derivative: -0.0\n",
            "--- 0.0004291534423828125 seconds ---\n",
            "estimated minimizer: 20.0\n",
            "real minimizers: [  1  20 300]\n"
          ],
          "name": "stdout"
        }
      ]
    },
    {
      "cell_type": "markdown",
      "metadata": {
        "id": "3GX_3Nh9mXni"
      },
      "source": [
        "### #7"
      ]
    },
    {
      "cell_type": "code",
      "metadata": {
        "id": "HXMel-9FmXni",
        "outputId": "fafb7a7e-99ca-4462-b349-91c93067f344"
      },
      "source": [
        "x_hat=newton_uni(100, abc_7, derivative_problem_7, second_derivative_problem_7)\n",
        "print(\"estimated minimizer: \" + str(x_hat))\n",
        "print(\"real minimizers: \" + str(abc_7))"
      ],
      "execution_count": null,
      "outputs": [
        {
          "output_type": "stream",
          "text": [
            "performed 7 iterations. Final derivative: -0.0\n",
            "--- 0.0003669261932373047 seconds ---\n",
            "estimated minimizer: 50.0\n",
            "real minimizers: [  4  50 600]\n"
          ],
          "name": "stdout"
        }
      ]
    },
    {
      "cell_type": "markdown",
      "metadata": {
        "id": "PD_DRGyHmXni"
      },
      "source": [
        "### #8"
      ]
    },
    {
      "cell_type": "code",
      "metadata": {
        "id": "JHvhHWHemXni",
        "outputId": "cfc09e10-7e1b-46bf-fd46-3c1e00cb0056"
      },
      "source": [
        "x_hat=newton_uni(100, abc_8, derivative_problem_8, second_derivative_problem_8)\n",
        "print(\"estimated minimizer: \" + str(x_hat))\n",
        "print(\"real minimizers: \" + str(abc_8))"
      ],
      "execution_count": null,
      "outputs": [
        {
          "output_type": "stream",
          "text": [
            "performed 6 iterations. Final derivative: -0.0\n",
            "--- 0.00024199485778808594 seconds ---\n",
            "estimated minimizer: 80.0\n",
            "real minimizers: [  7  80 900]\n"
          ],
          "name": "stdout"
        }
      ]
    },
    {
      "cell_type": "markdown",
      "metadata": {
        "id": "q3a_EzpAmXni"
      },
      "source": [
        "### #9"
      ]
    },
    {
      "cell_type": "code",
      "metadata": {
        "id": "27FrvGqzmXnj",
        "outputId": "64d7797b-18f0-4423-8fe2-d9105e5f78ef"
      },
      "source": [
        "x_hat=newton_uni(90, abc_9, derivative_problem_9, second_derivative_problem_9)\n",
        "print(\"estimated minimizer: \" + str(x_hat))\n",
        "print(\"real minimizers: \" + str(abc_9))"
      ],
      "execution_count": null,
      "outputs": [
        {
          "output_type": "stream",
          "text": [
            "performed 4 iterations. Final derivative: -0.0\n",
            "--- 0.00030612945556640625 seconds ---\n",
            "estimated minimizer: 100.0\n",
            "real minimizers: [  1 100 200]\n"
          ],
          "name": "stdout"
        }
      ]
    },
    {
      "cell_type": "markdown",
      "metadata": {
        "id": "Oopn4hPHmXnj"
      },
      "source": [
        "### #10"
      ]
    },
    {
      "cell_type": "code",
      "metadata": {
        "id": "84mFr3vYmXnj",
        "outputId": "bb740003-a04f-4e33-dd60-c260ac9f07c4"
      },
      "source": [
        "x_hat=newton_uni(100, abc_10, derivative_problem_10, second_derivative_problem_10)\n",
        "print(\"estimated minimizer: \" + str(x_hat))\n",
        "print(\"real minimizers: \" + str(abc_10))"
      ],
      "execution_count": null,
      "outputs": [
        {
          "output_type": "stream",
          "text": [
            "performed 4 iterations. Final derivative: -2.803744791890528e-08\n",
            "--- 0.0003418922424316406 seconds ---\n",
            "estimated minimizer: 119.99999999999703\n",
            "real minimizers: [  2 120 200]\n"
          ],
          "name": "stdout"
        }
      ]
    },
    {
      "cell_type": "markdown",
      "metadata": {
        "id": "AAdV93h8mXnj"
      },
      "source": [
        "## Conjugate gradient method (Fletcher-Reeves)"
      ]
    },
    {
      "cell_type": "code",
      "metadata": {
        "id": "KDoIcLxomXnj"
      },
      "source": [
        "def fn_wrapper(fn, x0, p):\n",
        "    # returns the function which only depends on alpha.\n",
        "    return lambda alpha: fn(x0 + alpha * p)\n",
        "\n",
        "def grad_wrapper(grad_fn, x0, p):\n",
        "    # returns the derivative of the function which only depends on alpha.\n",
        "    return lambda alpha: p.T @ grad_fn(x0 + alpha * p)\n",
        "\n",
        "# 3.5\n",
        "def line_search_wolfe(fn, grad_fn, c1, c2, alpha_max):\n",
        "    alphas = []\n",
        "    alphas.append(0)\n",
        "    # choose next alpha to be between 0 and alpha max\n",
        "    alphas.append(alpha_max/2)   \n",
        "    \n",
        "    i = 1\n",
        "    \n",
        "    while True:\n",
        "        fn_alpha_i = fn(alphas[i])\n",
        "\n",
        "        if fn_alpha_i > (fn(0)+c1*alphas[i]*grad_fn(0) or (fn_alpha_i >= fn(alphas[i-1]) and i>1)):\n",
        "            return zoom(alphas[i-1], alphas[i], c1, c2, fn, grad_fn)\n",
        "\n",
        "        grad_fn_alpha_i = grad_fn(alphas[i])\n",
        "        if abs(grad_fn_alpha_i) <= -c2*grad_fn(0):\n",
        "            return alphas[i]\n",
        "        \n",
        "        if grad_fn_alpha_i >= 0:\n",
        "            return zoom(alphas[i], alphas[i-1], c1, c2, fn, grad_fn)\n",
        "                         \n",
        "        # choose next alpha to be between alpha_i and alpha max\n",
        "        if (alphas[i]*1.1 < alpha_max):\n",
        "            alphas.append(alphas[i]*1.1)\n",
        "        else:\n",
        "            break\n",
        "    \n",
        "        i += 1\n",
        "                       \n",
        "# 3.6\n",
        "def zoom(alpha_lo, alpha_hi, c1, c2, fn, grad_fn):\n",
        "    while True:\n",
        "        # quadratic interpolation to find a trial step length alpha_j between alpha_lo and alpha_hi\n",
        "        alpha_j = (grad_fn(0)*alpha_lo**2)/(2*(fn(alpha_lo)-fn(0)-grad_fn(0)*alpha_lo))\n",
        "\n",
        "        fn_alpha_j = fn(alpha_j)\n",
        "\n",
        "        if fn_alpha_j > fn(0) + c1*alpha_j*grad_fn(0) or fn_alpha_j >= fn(alpha_lo):\n",
        "            alpha_hi = alpha_j\n",
        "\n",
        "        else:\n",
        "            grad_fn_alpha_j = grad_fn(alpha_j)\n",
        "            if abs(grad_fn_alpha_j) <= -c2*grad_fn(0):\n",
        "                return alpha_j\n",
        "            if grad_fn_alpha_j * (alpha_hi - alpha_lo) >= 0:\n",
        "                alpha_hi = alpha_lo\n",
        "            alpha_lo = alpha_j\n",
        "\n",
        "\n",
        "# simpler wolfe condition search\n",
        "def wolfe(x0, p_k, fn, gradient_fn, rho, sigma, gama):\n",
        "    m = 0\n",
        "    mk = 0\n",
        "    gk = gradient_fn(x0)\n",
        "    while m < 20:\n",
        "        gk1 = gradient_fn(x0 + rho**m*p_k)\n",
        "        if fn(x0+rho**m*p_k) < fn(x0)+sigma*rho**m*np.dot(gk.T,p_k) and np.dot(gk1.T, p_k) >=  gama*np.dot(gk.T,p_k):\n",
        "            mk = m\n",
        "            break\n",
        "        m += 1\n",
        "    return rho**mk "
      ],
      "execution_count": null,
      "outputs": []
    },
    {
      "cell_type": "code",
      "metadata": {
        "id": "U5pgqAYemXnk"
      },
      "source": [
        "def cgm(xk, fn, gradient_fn, max_steps=1e3, epsilon=1e-2):\n",
        "    start_time = time.time()\n",
        "    grad_f_k = gradient_fn(xk)\n",
        "    p_k = - grad_f_k\n",
        "        \n",
        "    k=0\n",
        "    while np.any(grad_f_k) and k <= max_steps:\n",
        "        # do line-search\n",
        "        alpha = wolfe(xk, p_k, fn, gradient_fn, 0.55, 0.55, 0.75)\n",
        "                \n",
        "        if alpha < epsilon: break\n",
        "        \n",
        "        xk = xk + alpha * p_k\n",
        "                \n",
        "        # fletcher-reeves\n",
        "        grad_f_k_next = gradient_fn(xk)\n",
        "        beta = (grad_f_k_next.T @ grad_f_k_next) / (grad_f_k.T @ grad_f_k)\n",
        "        # new search direction\n",
        "        p_k = (-grad_f_k_next) + beta * p_k\n",
        "        grad_f_k = grad_f_k_next\n",
        "        k+=1\n",
        "    \n",
        "    print(\"performed \" + str(k+1) + \" iterations.\")\n",
        "    print(\"--- %s seconds ---\" % (time.time() - start_time))\n",
        "    return xk"
      ],
      "execution_count": null,
      "outputs": []
    },
    {
      "cell_type": "markdown",
      "metadata": {
        "id": "FBKTYJTrmXnl"
      },
      "source": [
        "### #1"
      ]
    },
    {
      "cell_type": "code",
      "metadata": {
        "id": "t7mJk84YmXnl",
        "outputId": "05a661d0-e257-45f3-e10a-2257e710b899"
      },
      "source": [
        "x_hat = cgm(init, problem_1, grad_problem_1)\n",
        "pd.DataFrame(data={'approximated minimizer': x_hat[:,0], 'real minimizer': minimizer_1[:,0]})"
      ],
      "execution_count": null,
      "outputs": [
        {
          "output_type": "stream",
          "text": [
            "performed 147 iterations.\n",
            "--- 0.04663872718811035 seconds ---\n"
          ],
          "name": "stdout"
        },
        {
          "output_type": "execute_result",
          "data": {
            "text/html": [
              "<div>\n",
              "<style scoped>\n",
              "    .dataframe tbody tr th:only-of-type {\n",
              "        vertical-align: middle;\n",
              "    }\n",
              "\n",
              "    .dataframe tbody tr th {\n",
              "        vertical-align: top;\n",
              "    }\n",
              "\n",
              "    .dataframe thead th {\n",
              "        text-align: right;\n",
              "    }\n",
              "</style>\n",
              "<table border=\"1\" class=\"dataframe\">\n",
              "  <thead>\n",
              "    <tr style=\"text-align: right;\">\n",
              "      <th></th>\n",
              "      <th>approximated minimizer</th>\n",
              "      <th>real minimizer</th>\n",
              "    </tr>\n",
              "  </thead>\n",
              "  <tbody>\n",
              "    <tr>\n",
              "      <th>0</th>\n",
              "      <td>4.999862</td>\n",
              "      <td>5</td>\n",
              "    </tr>\n",
              "    <tr>\n",
              "      <th>1</th>\n",
              "      <td>0.000091</td>\n",
              "      <td>0</td>\n",
              "    </tr>\n",
              "    <tr>\n",
              "      <th>2</th>\n",
              "      <td>3.000005</td>\n",
              "      <td>3</td>\n",
              "    </tr>\n",
              "    <tr>\n",
              "      <th>3</th>\n",
              "      <td>3.000047</td>\n",
              "      <td>3</td>\n",
              "    </tr>\n",
              "    <tr>\n",
              "      <th>4</th>\n",
              "      <td>6.999953</td>\n",
              "      <td>7</td>\n",
              "    </tr>\n",
              "    <tr>\n",
              "      <th>5</th>\n",
              "      <td>9.000138</td>\n",
              "      <td>9</td>\n",
              "    </tr>\n",
              "    <tr>\n",
              "      <th>6</th>\n",
              "      <td>2.999957</td>\n",
              "      <td>3</td>\n",
              "    </tr>\n",
              "    <tr>\n",
              "      <th>7</th>\n",
              "      <td>5.000058</td>\n",
              "      <td>5</td>\n",
              "    </tr>\n",
              "    <tr>\n",
              "      <th>8</th>\n",
              "      <td>2.000021</td>\n",
              "      <td>2</td>\n",
              "    </tr>\n",
              "    <tr>\n",
              "      <th>9</th>\n",
              "      <td>3.999952</td>\n",
              "      <td>4</td>\n",
              "    </tr>\n",
              "    <tr>\n",
              "      <th>10</th>\n",
              "      <td>7.000022</td>\n",
              "      <td>7</td>\n",
              "    </tr>\n",
              "  </tbody>\n",
              "</table>\n",
              "</div>"
            ],
            "text/plain": [
              "    approximated minimizer  real minimizer\n",
              "0                 4.999862               5\n",
              "1                 0.000091               0\n",
              "2                 3.000005               3\n",
              "3                 3.000047               3\n",
              "4                 6.999953               7\n",
              "5                 9.000138               9\n",
              "6                 2.999957               3\n",
              "7                 5.000058               5\n",
              "8                 2.000021               2\n",
              "9                 3.999952               4\n",
              "10                7.000022               7"
            ]
          },
          "metadata": {
            "tags": []
          },
          "execution_count": 38
        }
      ]
    },
    {
      "cell_type": "markdown",
      "metadata": {
        "id": "ldtwO_-VmXnl"
      },
      "source": [
        "### #2"
      ]
    },
    {
      "cell_type": "code",
      "metadata": {
        "id": "SbDGwuuqmXnl",
        "outputId": "88af0b21-2a76-4bb8-a692-e62734c37fac"
      },
      "source": [
        "x_hat = cgm(init, problem_2, grad_problem_2)\n",
        "pd.DataFrame(data={'approximated minimizer': x_hat[:,0], 'real minimizer': minimizer_2[:,0]})"
      ],
      "execution_count": null,
      "outputs": [
        {
          "output_type": "stream",
          "text": [
            "performed 104 iterations.\n",
            "--- 0.030048847198486328 seconds ---\n"
          ],
          "name": "stdout"
        },
        {
          "output_type": "execute_result",
          "data": {
            "text/html": [
              "<div>\n",
              "<style scoped>\n",
              "    .dataframe tbody tr th:only-of-type {\n",
              "        vertical-align: middle;\n",
              "    }\n",
              "\n",
              "    .dataframe tbody tr th {\n",
              "        vertical-align: top;\n",
              "    }\n",
              "\n",
              "    .dataframe thead th {\n",
              "        text-align: right;\n",
              "    }\n",
              "</style>\n",
              "<table border=\"1\" class=\"dataframe\">\n",
              "  <thead>\n",
              "    <tr style=\"text-align: right;\">\n",
              "      <th></th>\n",
              "      <th>approximated minimizer</th>\n",
              "      <th>real minimizer</th>\n",
              "    </tr>\n",
              "  </thead>\n",
              "  <tbody>\n",
              "    <tr>\n",
              "      <th>0</th>\n",
              "      <td>7.994133</td>\n",
              "      <td>8</td>\n",
              "    </tr>\n",
              "    <tr>\n",
              "      <th>1</th>\n",
              "      <td>8.004458</td>\n",
              "      <td>8</td>\n",
              "    </tr>\n",
              "    <tr>\n",
              "      <th>2</th>\n",
              "      <td>5.992062</td>\n",
              "      <td>6</td>\n",
              "    </tr>\n",
              "    <tr>\n",
              "      <th>3</th>\n",
              "      <td>1.985879</td>\n",
              "      <td>2</td>\n",
              "    </tr>\n",
              "    <tr>\n",
              "      <th>4</th>\n",
              "      <td>7.997655</td>\n",
              "      <td>8</td>\n",
              "    </tr>\n",
              "    <tr>\n",
              "      <th>5</th>\n",
              "      <td>7.005484</td>\n",
              "      <td>7</td>\n",
              "    </tr>\n",
              "    <tr>\n",
              "      <th>6</th>\n",
              "      <td>2.003107</td>\n",
              "      <td>2</td>\n",
              "    </tr>\n",
              "    <tr>\n",
              "      <th>7</th>\n",
              "      <td>1.012303</td>\n",
              "      <td>1</td>\n",
              "    </tr>\n",
              "    <tr>\n",
              "      <th>8</th>\n",
              "      <td>4.998730</td>\n",
              "      <td>5</td>\n",
              "    </tr>\n",
              "    <tr>\n",
              "      <th>9</th>\n",
              "      <td>4.003663</td>\n",
              "      <td>4</td>\n",
              "    </tr>\n",
              "    <tr>\n",
              "      <th>10</th>\n",
              "      <td>4.002813</td>\n",
              "      <td>4</td>\n",
              "    </tr>\n",
              "  </tbody>\n",
              "</table>\n",
              "</div>"
            ],
            "text/plain": [
              "    approximated minimizer  real minimizer\n",
              "0                 7.994133               8\n",
              "1                 8.004458               8\n",
              "2                 5.992062               6\n",
              "3                 1.985879               2\n",
              "4                 7.997655               8\n",
              "5                 7.005484               7\n",
              "6                 2.003107               2\n",
              "7                 1.012303               1\n",
              "8                 4.998730               5\n",
              "9                 4.003663               4\n",
              "10                4.002813               4"
            ]
          },
          "metadata": {
            "tags": []
          },
          "execution_count": 39
        }
      ]
    },
    {
      "cell_type": "markdown",
      "metadata": {
        "id": "4U_SVypemXnl"
      },
      "source": [
        "### #3"
      ]
    },
    {
      "cell_type": "code",
      "metadata": {
        "id": "l7LgxGjtmXnl",
        "outputId": "47c60978-17fa-4f02-bd8c-25b0cda541ec"
      },
      "source": [
        "x_hat = cgm(init, problem_3, grad_problem_3)\n",
        "pd.DataFrame(data={'approximated minimizer': x_hat[:,0], 'real minimizer': minimizer_3[:,0]})"
      ],
      "execution_count": null,
      "outputs": [
        {
          "output_type": "stream",
          "text": [
            "performed 229 iterations.\n",
            "--- 0.05307292938232422 seconds ---\n"
          ],
          "name": "stdout"
        },
        {
          "output_type": "execute_result",
          "data": {
            "text/html": [
              "<div>\n",
              "<style scoped>\n",
              "    .dataframe tbody tr th:only-of-type {\n",
              "        vertical-align: middle;\n",
              "    }\n",
              "\n",
              "    .dataframe tbody tr th {\n",
              "        vertical-align: top;\n",
              "    }\n",
              "\n",
              "    .dataframe thead th {\n",
              "        text-align: right;\n",
              "    }\n",
              "</style>\n",
              "<table border=\"1\" class=\"dataframe\">\n",
              "  <thead>\n",
              "    <tr style=\"text-align: right;\">\n",
              "      <th></th>\n",
              "      <th>approximated minimizer</th>\n",
              "      <th>real minimizer</th>\n",
              "    </tr>\n",
              "  </thead>\n",
              "  <tbody>\n",
              "    <tr>\n",
              "      <th>0</th>\n",
              "      <td>7.999972</td>\n",
              "      <td>8</td>\n",
              "    </tr>\n",
              "    <tr>\n",
              "      <th>1</th>\n",
              "      <td>8.999959</td>\n",
              "      <td>9</td>\n",
              "    </tr>\n",
              "    <tr>\n",
              "      <th>2</th>\n",
              "      <td>3.000052</td>\n",
              "      <td>3</td>\n",
              "    </tr>\n",
              "    <tr>\n",
              "      <th>3</th>\n",
              "      <td>8.000004</td>\n",
              "      <td>8</td>\n",
              "    </tr>\n",
              "    <tr>\n",
              "      <th>4</th>\n",
              "      <td>8.000035</td>\n",
              "      <td>8</td>\n",
              "    </tr>\n",
              "    <tr>\n",
              "      <th>5</th>\n",
              "      <td>0.000062</td>\n",
              "      <td>0</td>\n",
              "    </tr>\n",
              "    <tr>\n",
              "      <th>6</th>\n",
              "      <td>5.000030</td>\n",
              "      <td>5</td>\n",
              "    </tr>\n",
              "    <tr>\n",
              "      <th>7</th>\n",
              "      <td>2.999964</td>\n",
              "      <td>3</td>\n",
              "    </tr>\n",
              "    <tr>\n",
              "      <th>8</th>\n",
              "      <td>8.999974</td>\n",
              "      <td>9</td>\n",
              "    </tr>\n",
              "    <tr>\n",
              "      <th>9</th>\n",
              "      <td>8.999995</td>\n",
              "      <td>9</td>\n",
              "    </tr>\n",
              "    <tr>\n",
              "      <th>10</th>\n",
              "      <td>4.999894</td>\n",
              "      <td>5</td>\n",
              "    </tr>\n",
              "  </tbody>\n",
              "</table>\n",
              "</div>"
            ],
            "text/plain": [
              "    approximated minimizer  real minimizer\n",
              "0                 7.999972               8\n",
              "1                 8.999959               9\n",
              "2                 3.000052               3\n",
              "3                 8.000004               8\n",
              "4                 8.000035               8\n",
              "5                 0.000062               0\n",
              "6                 5.000030               5\n",
              "7                 2.999964               3\n",
              "8                 8.999974               9\n",
              "9                 8.999995               9\n",
              "10                4.999894               5"
            ]
          },
          "metadata": {
            "tags": []
          },
          "execution_count": 40
        }
      ]
    },
    {
      "cell_type": "markdown",
      "metadata": {
        "id": "DWv7yt-PmXnm"
      },
      "source": [
        "### #4"
      ]
    },
    {
      "cell_type": "code",
      "metadata": {
        "id": "AQ6kXaI0mXnm",
        "outputId": "3a732799-5840-41a6-9c14-84d137436896"
      },
      "source": [
        "x_hat = cgm(init, problem_4, grad_problem_4)\n",
        "pd.DataFrame(data={'approximated minimizer': x_hat[:,0], 'real minimizer': minimizer_4[:,0]})"
      ],
      "execution_count": null,
      "outputs": [
        {
          "output_type": "stream",
          "text": [
            "performed 79 iterations.\n",
            "--- 0.018086910247802734 seconds ---\n"
          ],
          "name": "stdout"
        },
        {
          "output_type": "execute_result",
          "data": {
            "text/html": [
              "<div>\n",
              "<style scoped>\n",
              "    .dataframe tbody tr th:only-of-type {\n",
              "        vertical-align: middle;\n",
              "    }\n",
              "\n",
              "    .dataframe tbody tr th {\n",
              "        vertical-align: top;\n",
              "    }\n",
              "\n",
              "    .dataframe thead th {\n",
              "        text-align: right;\n",
              "    }\n",
              "</style>\n",
              "<table border=\"1\" class=\"dataframe\">\n",
              "  <thead>\n",
              "    <tr style=\"text-align: right;\">\n",
              "      <th></th>\n",
              "      <th>approximated minimizer</th>\n",
              "      <th>real minimizer</th>\n",
              "    </tr>\n",
              "  </thead>\n",
              "  <tbody>\n",
              "    <tr>\n",
              "      <th>0</th>\n",
              "      <td>7.007495</td>\n",
              "      <td>7</td>\n",
              "    </tr>\n",
              "    <tr>\n",
              "      <th>1</th>\n",
              "      <td>4.991042</td>\n",
              "      <td>5</td>\n",
              "    </tr>\n",
              "    <tr>\n",
              "      <th>2</th>\n",
              "      <td>0.996860</td>\n",
              "      <td>1</td>\n",
              "    </tr>\n",
              "    <tr>\n",
              "      <th>3</th>\n",
              "      <td>8.008054</td>\n",
              "      <td>8</td>\n",
              "    </tr>\n",
              "    <tr>\n",
              "      <th>4</th>\n",
              "      <td>7.007733</td>\n",
              "      <td>7</td>\n",
              "    </tr>\n",
              "    <tr>\n",
              "      <th>5</th>\n",
              "      <td>7.978882</td>\n",
              "      <td>8</td>\n",
              "    </tr>\n",
              "    <tr>\n",
              "      <th>6</th>\n",
              "      <td>2.003230</td>\n",
              "      <td>2</td>\n",
              "    </tr>\n",
              "    <tr>\n",
              "      <th>7</th>\n",
              "      <td>9.001003</td>\n",
              "      <td>9</td>\n",
              "    </tr>\n",
              "    <tr>\n",
              "      <th>8</th>\n",
              "      <td>7.007780</td>\n",
              "      <td>7</td>\n",
              "    </tr>\n",
              "    <tr>\n",
              "      <th>9</th>\n",
              "      <td>7.016591</td>\n",
              "      <td>7</td>\n",
              "    </tr>\n",
              "    <tr>\n",
              "      <th>10</th>\n",
              "      <td>6.990978</td>\n",
              "      <td>7</td>\n",
              "    </tr>\n",
              "  </tbody>\n",
              "</table>\n",
              "</div>"
            ],
            "text/plain": [
              "    approximated minimizer  real minimizer\n",
              "0                 7.007495               7\n",
              "1                 4.991042               5\n",
              "2                 0.996860               1\n",
              "3                 8.008054               8\n",
              "4                 7.007733               7\n",
              "5                 7.978882               8\n",
              "6                 2.003230               2\n",
              "7                 9.001003               9\n",
              "8                 7.007780               7\n",
              "9                 7.016591               7\n",
              "10                6.990978               7"
            ]
          },
          "metadata": {
            "tags": []
          },
          "execution_count": 41
        }
      ]
    },
    {
      "cell_type": "markdown",
      "metadata": {
        "id": "Pre-2fphmXnm"
      },
      "source": [
        "### #5"
      ]
    },
    {
      "cell_type": "code",
      "metadata": {
        "id": "92XxnNDvmXnm",
        "outputId": "2b69f1a4-f536-4f62-fbfc-57f569984d25"
      },
      "source": [
        "x_hat = cgm(init, problem_5, grad_problem_5)\n",
        "pd.DataFrame(data={'approximated minimizer': x_hat[:,0], 'real minimizer': minimizer_5[:,0]})"
      ],
      "execution_count": null,
      "outputs": [
        {
          "output_type": "stream",
          "text": [
            "performed 129 iterations.\n",
            "--- 0.033289432525634766 seconds ---\n"
          ],
          "name": "stdout"
        },
        {
          "output_type": "execute_result",
          "data": {
            "text/html": [
              "<div>\n",
              "<style scoped>\n",
              "    .dataframe tbody tr th:only-of-type {\n",
              "        vertical-align: middle;\n",
              "    }\n",
              "\n",
              "    .dataframe tbody tr th {\n",
              "        vertical-align: top;\n",
              "    }\n",
              "\n",
              "    .dataframe thead th {\n",
              "        text-align: right;\n",
              "    }\n",
              "</style>\n",
              "<table border=\"1\" class=\"dataframe\">\n",
              "  <thead>\n",
              "    <tr style=\"text-align: right;\">\n",
              "      <th></th>\n",
              "      <th>approximated minimizer</th>\n",
              "      <th>real minimizer</th>\n",
              "    </tr>\n",
              "  </thead>\n",
              "  <tbody>\n",
              "    <tr>\n",
              "      <th>0</th>\n",
              "      <td>8.996670</td>\n",
              "      <td>9</td>\n",
              "    </tr>\n",
              "    <tr>\n",
              "      <th>1</th>\n",
              "      <td>3.003203</td>\n",
              "      <td>3</td>\n",
              "    </tr>\n",
              "    <tr>\n",
              "      <th>2</th>\n",
              "      <td>4.004248</td>\n",
              "      <td>4</td>\n",
              "    </tr>\n",
              "    <tr>\n",
              "      <th>3</th>\n",
              "      <td>-0.003374</td>\n",
              "      <td>0</td>\n",
              "    </tr>\n",
              "    <tr>\n",
              "      <th>4</th>\n",
              "      <td>8.997227</td>\n",
              "      <td>9</td>\n",
              "    </tr>\n",
              "    <tr>\n",
              "      <th>5</th>\n",
              "      <td>1.002898</td>\n",
              "      <td>1</td>\n",
              "    </tr>\n",
              "    <tr>\n",
              "      <th>6</th>\n",
              "      <td>8.998978</td>\n",
              "      <td>9</td>\n",
              "    </tr>\n",
              "    <tr>\n",
              "      <th>7</th>\n",
              "      <td>0.998102</td>\n",
              "      <td>1</td>\n",
              "    </tr>\n",
              "    <tr>\n",
              "      <th>8</th>\n",
              "      <td>4.003030</td>\n",
              "      <td>4</td>\n",
              "    </tr>\n",
              "    <tr>\n",
              "      <th>9</th>\n",
              "      <td>1.000733</td>\n",
              "      <td>1</td>\n",
              "    </tr>\n",
              "    <tr>\n",
              "      <th>10</th>\n",
              "      <td>7.998023</td>\n",
              "      <td>8</td>\n",
              "    </tr>\n",
              "  </tbody>\n",
              "</table>\n",
              "</div>"
            ],
            "text/plain": [
              "    approximated minimizer  real minimizer\n",
              "0                 8.996670               9\n",
              "1                 3.003203               3\n",
              "2                 4.004248               4\n",
              "3                -0.003374               0\n",
              "4                 8.997227               9\n",
              "5                 1.002898               1\n",
              "6                 8.998978               9\n",
              "7                 0.998102               1\n",
              "8                 4.003030               4\n",
              "9                 1.000733               1\n",
              "10                7.998023               8"
            ]
          },
          "metadata": {
            "tags": []
          },
          "execution_count": 42
        }
      ]
    },
    {
      "cell_type": "markdown",
      "metadata": {
        "id": "2b8x_o81mXnm"
      },
      "source": [
        "### #6"
      ]
    },
    {
      "cell_type": "code",
      "metadata": {
        "id": "y1Nk0_l6mXnm",
        "outputId": "a9ab153c-1d75-4f4f-85e8-f330f75e6494"
      },
      "source": [
        "x_hat = cgm(np.array([[100]]), problem_6,  derivative_problem_6, epsilon=1e-5, max_steps=10)\n",
        "print(\"estimated minimizer: \" + str(x_hat[0][0]))\n",
        "print(\"real minimizers: \" + str(abc_6))"
      ],
      "execution_count": null,
      "outputs": [
        {
          "output_type": "stream",
          "text": [
            "performed 12 iterations.\n",
            "--- 0.012143135070800781 seconds ---\n",
            "estimated minimizer: 20.003928915593633\n",
            "real minimizers: [  1  20 300]\n"
          ],
          "name": "stdout"
        }
      ]
    },
    {
      "cell_type": "markdown",
      "metadata": {
        "id": "sFplb0dUmXnn"
      },
      "source": [
        "### #7"
      ]
    },
    {
      "cell_type": "code",
      "metadata": {
        "id": "tOGw7UdemXnn",
        "outputId": "d558e4db-7b99-43b6-f027-bd59572fbce5"
      },
      "source": [
        "x_hat = cgm(np.array([[100]]), problem_7,  derivative_problem_7, epsilon=1e-5, max_steps=10)\n",
        "print(\"estimated minimizer: \" + str(x_hat[0][0]))\n",
        "print(\"real minimizers: \" + str(abc_7))"
      ],
      "execution_count": null,
      "outputs": [
        {
          "output_type": "stream",
          "text": [
            "performed 12 iterations.\n",
            "--- 0.012747049331665039 seconds ---\n",
            "estimated minimizer: 50.00932083915147\n",
            "real minimizers: [  4  50 600]\n"
          ],
          "name": "stdout"
        }
      ]
    },
    {
      "cell_type": "markdown",
      "metadata": {
        "id": "tZMazBj0mXnn"
      },
      "source": [
        "### #8"
      ]
    },
    {
      "cell_type": "code",
      "metadata": {
        "id": "-HaK1zn2mXnn",
        "outputId": "3d45bb8c-1172-44c8-f4bf-44cfae39783c"
      },
      "source": [
        "x_hat = cgm(np.array([[85]]), problem_8,  derivative_problem_8, epsilon=1e-5, max_steps=3)\n",
        "print(\"estimated minimizer: \" + str(x_hat[0][0]))\n",
        "print(\"real minimizers: \" + str(abc_8))"
      ],
      "execution_count": null,
      "outputs": [
        {
          "output_type": "stream",
          "text": [
            "performed 5 iterations.\n",
            "--- 0.006438255310058594 seconds ---\n",
            "estimated minimizer: 80.00422438139552\n",
            "real minimizers: [  7  80 900]\n"
          ],
          "name": "stdout"
        }
      ]
    },
    {
      "cell_type": "markdown",
      "metadata": {
        "id": "Uzf8F5kQmXnn"
      },
      "source": [
        "### #9"
      ]
    },
    {
      "cell_type": "code",
      "metadata": {
        "id": "Coyt470imXnn",
        "outputId": "2305c8ce-22ed-4d45-a8e2-fdb0f7e149bb"
      },
      "source": [
        "x_hat = cgm(np.array([[60]]), problem_9,  derivative_problem_9, epsilon=1e-5, max_steps=10)\n",
        "print(\"estimated minimizer: \" + str(x_hat[0][0]))\n",
        "print(\"real minimizers: \" + str(abc_9))"
      ],
      "execution_count": null,
      "outputs": [
        {
          "output_type": "stream",
          "text": [
            "performed 12 iterations.\n",
            "--- 0.011224985122680664 seconds ---\n",
            "estimated minimizer: 99.99875247821718\n",
            "real minimizers: [  1 100 200]\n"
          ],
          "name": "stdout"
        }
      ]
    },
    {
      "cell_type": "markdown",
      "metadata": {
        "id": "AqzeNuoNmXno"
      },
      "source": [
        "### #10"
      ]
    },
    {
      "cell_type": "code",
      "metadata": {
        "id": "oCr_7SQ2mXno",
        "outputId": "a754cf2a-dda6-486e-f608-24acb735e901"
      },
      "source": [
        "x_hat = cgm(np.array([[100]]), problem_10,  derivative_problem_10, epsilon=1e-5, max_steps=5)\n",
        "print(\"estimated minimizer: \" + str(x_hat[0][0]))\n",
        "print(\"real minimizers: \" + str(abc_10))"
      ],
      "execution_count": null,
      "outputs": [
        {
          "output_type": "stream",
          "text": [
            "performed 7 iterations.\n",
            "--- 0.009846925735473633 seconds ---\n",
            "estimated minimizer: 119.99902349397559\n",
            "real minimizers: [  2 120 200]\n"
          ],
          "name": "stdout"
        }
      ]
    },
    {
      "cell_type": "markdown",
      "metadata": {
        "id": "rlFmBHkimXno"
      },
      "source": [
        "## Quasi-Newton"
      ]
    },
    {
      "cell_type": "code",
      "metadata": {
        "id": "0nOuXsvNmXno"
      },
      "source": [
        "def bfgs(x0, fn, gradient_fn):\n",
        "    start_time = time.time()\n",
        "    epsilon = 1e-5\n",
        "    k = 0\n",
        "    n = np.shape(x0)[0]\n",
        "    Bk = np.eye(n)\n",
        "        \n",
        "    while True:\n",
        "        gk = gradient_fn(x0)\n",
        "        \n",
        "        if np.linalg.norm(gk) < epsilon:\n",
        "            break\n",
        "            \n",
        "        p_k = -1.0*np.linalg.solve(Bk,gk)\n",
        "        \n",
        "        alpha = wolfe(x0, p_k, fn, gradient_fn, 0.55, 0.4, 0.7)\n",
        "        \n",
        "        x = x0 + alpha*p_k\n",
        "        sk = x - x0\n",
        "        yk = gradient_fn(x) - gk   \n",
        "        \n",
        "        if sk.T@yk > 0:    \n",
        "            Bs = Bk@sk\n",
        "            ys = yk.T@sk\n",
        "            sBs = sk.T@Bk@sk\n",
        "            Bk = Bk-((Bs*sk.T@Bk)/sBs) + (yk*yk.T/ys)\n",
        "        k += 1\n",
        "        x0 = x\n",
        "    print(\"performed \" + str(k+1) + \" iterations.\")\n",
        "    print(\"--- %s seconds ---\" % (time.time() - start_time))\n",
        "    return x0"
      ],
      "execution_count": null,
      "outputs": []
    },
    {
      "cell_type": "markdown",
      "metadata": {
        "id": "ieTbV1DymXno"
      },
      "source": [
        "### #1"
      ]
    },
    {
      "cell_type": "code",
      "metadata": {
        "id": "lhEPLz4lmXnp",
        "outputId": "ada01ef0-c1ae-401e-a113-b0876a14bc26"
      },
      "source": [
        "x_hat = bfgs(init, problem_1,  grad_problem_1)\n",
        "pd.DataFrame(data={'approximated minimizer': x_hat[:,0], 'real minimizer': minimizer_1[:,0]})"
      ],
      "execution_count": null,
      "outputs": [
        {
          "output_type": "stream",
          "text": [
            "performed 22 iterations.\n",
            "--- 0.008074045181274414 seconds ---\n"
          ],
          "name": "stdout"
        },
        {
          "output_type": "execute_result",
          "data": {
            "text/html": [
              "<div>\n",
              "<style scoped>\n",
              "    .dataframe tbody tr th:only-of-type {\n",
              "        vertical-align: middle;\n",
              "    }\n",
              "\n",
              "    .dataframe tbody tr th {\n",
              "        vertical-align: top;\n",
              "    }\n",
              "\n",
              "    .dataframe thead th {\n",
              "        text-align: right;\n",
              "    }\n",
              "</style>\n",
              "<table border=\"1\" class=\"dataframe\">\n",
              "  <thead>\n",
              "    <tr style=\"text-align: right;\">\n",
              "      <th></th>\n",
              "      <th>approximated minimizer</th>\n",
              "      <th>real minimizer</th>\n",
              "    </tr>\n",
              "  </thead>\n",
              "  <tbody>\n",
              "    <tr>\n",
              "      <th>0</th>\n",
              "      <td>5.000005</td>\n",
              "      <td>5</td>\n",
              "    </tr>\n",
              "    <tr>\n",
              "      <th>1</th>\n",
              "      <td>-0.000009</td>\n",
              "      <td>0</td>\n",
              "    </tr>\n",
              "    <tr>\n",
              "      <th>2</th>\n",
              "      <td>2.999998</td>\n",
              "      <td>3</td>\n",
              "    </tr>\n",
              "    <tr>\n",
              "      <th>3</th>\n",
              "      <td>3.000001</td>\n",
              "      <td>3</td>\n",
              "    </tr>\n",
              "    <tr>\n",
              "      <th>4</th>\n",
              "      <td>7.000004</td>\n",
              "      <td>7</td>\n",
              "    </tr>\n",
              "    <tr>\n",
              "      <th>5</th>\n",
              "      <td>8.999988</td>\n",
              "      <td>9</td>\n",
              "    </tr>\n",
              "    <tr>\n",
              "      <th>6</th>\n",
              "      <td>3.000003</td>\n",
              "      <td>3</td>\n",
              "    </tr>\n",
              "    <tr>\n",
              "      <th>7</th>\n",
              "      <td>5.000001</td>\n",
              "      <td>5</td>\n",
              "    </tr>\n",
              "    <tr>\n",
              "      <th>8</th>\n",
              "      <td>1.999998</td>\n",
              "      <td>2</td>\n",
              "    </tr>\n",
              "    <tr>\n",
              "      <th>9</th>\n",
              "      <td>4.000001</td>\n",
              "      <td>4</td>\n",
              "    </tr>\n",
              "    <tr>\n",
              "      <th>10</th>\n",
              "      <td>6.999999</td>\n",
              "      <td>7</td>\n",
              "    </tr>\n",
              "  </tbody>\n",
              "</table>\n",
              "</div>"
            ],
            "text/plain": [
              "    approximated minimizer  real minimizer\n",
              "0                 5.000005               5\n",
              "1                -0.000009               0\n",
              "2                 2.999998               3\n",
              "3                 3.000001               3\n",
              "4                 7.000004               7\n",
              "5                 8.999988               9\n",
              "6                 3.000003               3\n",
              "7                 5.000001               5\n",
              "8                 1.999998               2\n",
              "9                 4.000001               4\n",
              "10                6.999999               7"
            ]
          },
          "metadata": {
            "tags": []
          },
          "execution_count": 49
        }
      ]
    },
    {
      "cell_type": "markdown",
      "metadata": {
        "id": "q31jepfJmXnp"
      },
      "source": [
        "### #2"
      ]
    },
    {
      "cell_type": "code",
      "metadata": {
        "id": "1MbUBIzqmXnp",
        "outputId": "52895852-b371-4d87-cc04-45d9619aff4a"
      },
      "source": [
        "x_hat = bfgs(init, problem_2,  grad_problem_2)\n",
        "pd.DataFrame(data={'approximated minimizer': x_hat[:,0], 'real minimizer': minimizer_2[:,0]})"
      ],
      "execution_count": null,
      "outputs": [
        {
          "output_type": "stream",
          "text": [
            "performed 22 iterations.\n",
            "--- 0.006110191345214844 seconds ---\n"
          ],
          "name": "stdout"
        },
        {
          "output_type": "execute_result",
          "data": {
            "text/html": [
              "<div>\n",
              "<style scoped>\n",
              "    .dataframe tbody tr th:only-of-type {\n",
              "        vertical-align: middle;\n",
              "    }\n",
              "\n",
              "    .dataframe tbody tr th {\n",
              "        vertical-align: top;\n",
              "    }\n",
              "\n",
              "    .dataframe thead th {\n",
              "        text-align: right;\n",
              "    }\n",
              "</style>\n",
              "<table border=\"1\" class=\"dataframe\">\n",
              "  <thead>\n",
              "    <tr style=\"text-align: right;\">\n",
              "      <th></th>\n",
              "      <th>approximated minimizer</th>\n",
              "      <th>real minimizer</th>\n",
              "    </tr>\n",
              "  </thead>\n",
              "  <tbody>\n",
              "    <tr>\n",
              "      <th>0</th>\n",
              "      <td>8.000007</td>\n",
              "      <td>8</td>\n",
              "    </tr>\n",
              "    <tr>\n",
              "      <th>1</th>\n",
              "      <td>7.999988</td>\n",
              "      <td>8</td>\n",
              "    </tr>\n",
              "    <tr>\n",
              "      <th>2</th>\n",
              "      <td>6.000017</td>\n",
              "      <td>6</td>\n",
              "    </tr>\n",
              "    <tr>\n",
              "      <th>3</th>\n",
              "      <td>2.000027</td>\n",
              "      <td>2</td>\n",
              "    </tr>\n",
              "    <tr>\n",
              "      <th>4</th>\n",
              "      <td>8.000004</td>\n",
              "      <td>8</td>\n",
              "    </tr>\n",
              "    <tr>\n",
              "      <th>5</th>\n",
              "      <td>6.999980</td>\n",
              "      <td>7</td>\n",
              "    </tr>\n",
              "    <tr>\n",
              "      <th>6</th>\n",
              "      <td>2.000000</td>\n",
              "      <td>2</td>\n",
              "    </tr>\n",
              "    <tr>\n",
              "      <th>7</th>\n",
              "      <td>0.999981</td>\n",
              "      <td>1</td>\n",
              "    </tr>\n",
              "    <tr>\n",
              "      <th>8</th>\n",
              "      <td>4.999991</td>\n",
              "      <td>5</td>\n",
              "    </tr>\n",
              "    <tr>\n",
              "      <th>9</th>\n",
              "      <td>4.000001</td>\n",
              "      <td>4</td>\n",
              "    </tr>\n",
              "    <tr>\n",
              "      <th>10</th>\n",
              "      <td>4.000002</td>\n",
              "      <td>4</td>\n",
              "    </tr>\n",
              "  </tbody>\n",
              "</table>\n",
              "</div>"
            ],
            "text/plain": [
              "    approximated minimizer  real minimizer\n",
              "0                 8.000007               8\n",
              "1                 7.999988               8\n",
              "2                 6.000017               6\n",
              "3                 2.000027               2\n",
              "4                 8.000004               8\n",
              "5                 6.999980               7\n",
              "6                 2.000000               2\n",
              "7                 0.999981               1\n",
              "8                 4.999991               5\n",
              "9                 4.000001               4\n",
              "10                4.000002               4"
            ]
          },
          "metadata": {
            "tags": []
          },
          "execution_count": 50
        }
      ]
    },
    {
      "cell_type": "markdown",
      "metadata": {
        "id": "9WYBG6icmXnp"
      },
      "source": [
        "### #3"
      ]
    },
    {
      "cell_type": "code",
      "metadata": {
        "id": "rUCrEmlUmXnp",
        "outputId": "934b33cf-9420-41d6-c894-bcada69f6af2"
      },
      "source": [
        "x_hat = bfgs(init, problem_3,  grad_problem_3)\n",
        "pd.DataFrame(data={'approximated minimizer': x_hat[:,0], 'real minimizer': minimizer_3[:,0]})"
      ],
      "execution_count": null,
      "outputs": [
        {
          "output_type": "stream",
          "text": [
            "performed 23 iterations.\n",
            "--- 0.005609989166259766 seconds ---\n"
          ],
          "name": "stdout"
        },
        {
          "output_type": "execute_result",
          "data": {
            "text/html": [
              "<div>\n",
              "<style scoped>\n",
              "    .dataframe tbody tr th:only-of-type {\n",
              "        vertical-align: middle;\n",
              "    }\n",
              "\n",
              "    .dataframe tbody tr th {\n",
              "        vertical-align: top;\n",
              "    }\n",
              "\n",
              "    .dataframe thead th {\n",
              "        text-align: right;\n",
              "    }\n",
              "</style>\n",
              "<table border=\"1\" class=\"dataframe\">\n",
              "  <thead>\n",
              "    <tr style=\"text-align: right;\">\n",
              "      <th></th>\n",
              "      <th>approximated minimizer</th>\n",
              "      <th>real minimizer</th>\n",
              "    </tr>\n",
              "  </thead>\n",
              "  <tbody>\n",
              "    <tr>\n",
              "      <th>0</th>\n",
              "      <td>7.999999e+00</td>\n",
              "      <td>8</td>\n",
              "    </tr>\n",
              "    <tr>\n",
              "      <th>1</th>\n",
              "      <td>8.999997e+00</td>\n",
              "      <td>9</td>\n",
              "    </tr>\n",
              "    <tr>\n",
              "      <th>2</th>\n",
              "      <td>2.999998e+00</td>\n",
              "      <td>3</td>\n",
              "    </tr>\n",
              "    <tr>\n",
              "      <th>3</th>\n",
              "      <td>7.999998e+00</td>\n",
              "      <td>8</td>\n",
              "    </tr>\n",
              "    <tr>\n",
              "      <th>4</th>\n",
              "      <td>8.000000e+00</td>\n",
              "      <td>8</td>\n",
              "    </tr>\n",
              "    <tr>\n",
              "      <th>5</th>\n",
              "      <td>3.790001e-07</td>\n",
              "      <td>0</td>\n",
              "    </tr>\n",
              "    <tr>\n",
              "      <th>6</th>\n",
              "      <td>5.000001e+00</td>\n",
              "      <td>5</td>\n",
              "    </tr>\n",
              "    <tr>\n",
              "      <th>7</th>\n",
              "      <td>3.000003e+00</td>\n",
              "      <td>3</td>\n",
              "    </tr>\n",
              "    <tr>\n",
              "      <th>8</th>\n",
              "      <td>9.000000e+00</td>\n",
              "      <td>9</td>\n",
              "    </tr>\n",
              "    <tr>\n",
              "      <th>9</th>\n",
              "      <td>9.000002e+00</td>\n",
              "      <td>9</td>\n",
              "    </tr>\n",
              "    <tr>\n",
              "      <th>10</th>\n",
              "      <td>4.999996e+00</td>\n",
              "      <td>5</td>\n",
              "    </tr>\n",
              "  </tbody>\n",
              "</table>\n",
              "</div>"
            ],
            "text/plain": [
              "    approximated minimizer  real minimizer\n",
              "0             7.999999e+00               8\n",
              "1             8.999997e+00               9\n",
              "2             2.999998e+00               3\n",
              "3             7.999998e+00               8\n",
              "4             8.000000e+00               8\n",
              "5             3.790001e-07               0\n",
              "6             5.000001e+00               5\n",
              "7             3.000003e+00               3\n",
              "8             9.000000e+00               9\n",
              "9             9.000002e+00               9\n",
              "10            4.999996e+00               5"
            ]
          },
          "metadata": {
            "tags": []
          },
          "execution_count": 51
        }
      ]
    },
    {
      "cell_type": "markdown",
      "metadata": {
        "id": "il6Ng_1bmXnp"
      },
      "source": [
        "### #4"
      ]
    },
    {
      "cell_type": "code",
      "metadata": {
        "id": "ai8srFepmXnq",
        "outputId": "64c2c6ce-f967-4564-fb76-c76ecdb81357"
      },
      "source": [
        "x_hat = bfgs(init, problem_4,  grad_problem_4)\n",
        "pd.DataFrame(data={'approximated minimizer': x_hat[:,0], 'real minimizer': minimizer_4[:,0]})"
      ],
      "execution_count": null,
      "outputs": [
        {
          "output_type": "stream",
          "text": [
            "performed 19 iterations.\n",
            "--- 0.0048449039459228516 seconds ---\n"
          ],
          "name": "stdout"
        },
        {
          "output_type": "execute_result",
          "data": {
            "text/html": [
              "<div>\n",
              "<style scoped>\n",
              "    .dataframe tbody tr th:only-of-type {\n",
              "        vertical-align: middle;\n",
              "    }\n",
              "\n",
              "    .dataframe tbody tr th {\n",
              "        vertical-align: top;\n",
              "    }\n",
              "\n",
              "    .dataframe thead th {\n",
              "        text-align: right;\n",
              "    }\n",
              "</style>\n",
              "<table border=\"1\" class=\"dataframe\">\n",
              "  <thead>\n",
              "    <tr style=\"text-align: right;\">\n",
              "      <th></th>\n",
              "      <th>approximated minimizer</th>\n",
              "      <th>real minimizer</th>\n",
              "    </tr>\n",
              "  </thead>\n",
              "  <tbody>\n",
              "    <tr>\n",
              "      <th>0</th>\n",
              "      <td>6.999992</td>\n",
              "      <td>7</td>\n",
              "    </tr>\n",
              "    <tr>\n",
              "      <th>1</th>\n",
              "      <td>5.000001</td>\n",
              "      <td>5</td>\n",
              "    </tr>\n",
              "    <tr>\n",
              "      <th>2</th>\n",
              "      <td>0.999999</td>\n",
              "      <td>1</td>\n",
              "    </tr>\n",
              "    <tr>\n",
              "      <th>3</th>\n",
              "      <td>7.999991</td>\n",
              "      <td>8</td>\n",
              "    </tr>\n",
              "    <tr>\n",
              "      <th>4</th>\n",
              "      <td>6.999993</td>\n",
              "      <td>7</td>\n",
              "    </tr>\n",
              "    <tr>\n",
              "      <th>5</th>\n",
              "      <td>8.000013</td>\n",
              "      <td>8</td>\n",
              "    </tr>\n",
              "    <tr>\n",
              "      <th>6</th>\n",
              "      <td>1.999994</td>\n",
              "      <td>2</td>\n",
              "    </tr>\n",
              "    <tr>\n",
              "      <th>7</th>\n",
              "      <td>8.999993</td>\n",
              "      <td>9</td>\n",
              "    </tr>\n",
              "    <tr>\n",
              "      <th>8</th>\n",
              "      <td>7.000011</td>\n",
              "      <td>7</td>\n",
              "    </tr>\n",
              "    <tr>\n",
              "      <th>9</th>\n",
              "      <td>6.999999</td>\n",
              "      <td>7</td>\n",
              "    </tr>\n",
              "    <tr>\n",
              "      <th>10</th>\n",
              "      <td>7.000002</td>\n",
              "      <td>7</td>\n",
              "    </tr>\n",
              "  </tbody>\n",
              "</table>\n",
              "</div>"
            ],
            "text/plain": [
              "    approximated minimizer  real minimizer\n",
              "0                 6.999992               7\n",
              "1                 5.000001               5\n",
              "2                 0.999999               1\n",
              "3                 7.999991               8\n",
              "4                 6.999993               7\n",
              "5                 8.000013               8\n",
              "6                 1.999994               2\n",
              "7                 8.999993               9\n",
              "8                 7.000011               7\n",
              "9                 6.999999               7\n",
              "10                7.000002               7"
            ]
          },
          "metadata": {
            "tags": []
          },
          "execution_count": 52
        }
      ]
    },
    {
      "cell_type": "markdown",
      "metadata": {
        "id": "LP6zERDGmXnq"
      },
      "source": [
        "### #5"
      ]
    },
    {
      "cell_type": "code",
      "metadata": {
        "id": "zZiVzzzkmXnq",
        "outputId": "c62bc52c-b76f-4210-9e61-2b4d35f5720c"
      },
      "source": [
        "x_hat = bfgs(init, problem_5,  grad_problem_5)\n",
        "pd.DataFrame(data={'approximated minimizer': x_hat[:,0], 'real minimizer': minimizer_5[:,0]})"
      ],
      "execution_count": null,
      "outputs": [
        {
          "output_type": "stream",
          "text": [
            "performed 26 iterations.\n",
            "--- 0.0044710636138916016 seconds ---\n"
          ],
          "name": "stdout"
        },
        {
          "output_type": "execute_result",
          "data": {
            "text/html": [
              "<div>\n",
              "<style scoped>\n",
              "    .dataframe tbody tr th:only-of-type {\n",
              "        vertical-align: middle;\n",
              "    }\n",
              "\n",
              "    .dataframe tbody tr th {\n",
              "        vertical-align: top;\n",
              "    }\n",
              "\n",
              "    .dataframe thead th {\n",
              "        text-align: right;\n",
              "    }\n",
              "</style>\n",
              "<table border=\"1\" class=\"dataframe\">\n",
              "  <thead>\n",
              "    <tr style=\"text-align: right;\">\n",
              "      <th></th>\n",
              "      <th>approximated minimizer</th>\n",
              "      <th>real minimizer</th>\n",
              "    </tr>\n",
              "  </thead>\n",
              "  <tbody>\n",
              "    <tr>\n",
              "      <th>0</th>\n",
              "      <td>8.999990</td>\n",
              "      <td>9</td>\n",
              "    </tr>\n",
              "    <tr>\n",
              "      <th>1</th>\n",
              "      <td>3.000010</td>\n",
              "      <td>3</td>\n",
              "    </tr>\n",
              "    <tr>\n",
              "      <th>2</th>\n",
              "      <td>4.000015</td>\n",
              "      <td>4</td>\n",
              "    </tr>\n",
              "    <tr>\n",
              "      <th>3</th>\n",
              "      <td>-0.000012</td>\n",
              "      <td>0</td>\n",
              "    </tr>\n",
              "    <tr>\n",
              "      <th>4</th>\n",
              "      <td>8.999990</td>\n",
              "      <td>9</td>\n",
              "    </tr>\n",
              "    <tr>\n",
              "      <th>5</th>\n",
              "      <td>1.000011</td>\n",
              "      <td>1</td>\n",
              "    </tr>\n",
              "    <tr>\n",
              "      <th>6</th>\n",
              "      <td>8.999996</td>\n",
              "      <td>9</td>\n",
              "    </tr>\n",
              "    <tr>\n",
              "      <th>7</th>\n",
              "      <td>0.999994</td>\n",
              "      <td>1</td>\n",
              "    </tr>\n",
              "    <tr>\n",
              "      <th>8</th>\n",
              "      <td>4.000012</td>\n",
              "      <td>4</td>\n",
              "    </tr>\n",
              "    <tr>\n",
              "      <th>9</th>\n",
              "      <td>1.000001</td>\n",
              "      <td>1</td>\n",
              "    </tr>\n",
              "    <tr>\n",
              "      <th>10</th>\n",
              "      <td>7.999994</td>\n",
              "      <td>8</td>\n",
              "    </tr>\n",
              "  </tbody>\n",
              "</table>\n",
              "</div>"
            ],
            "text/plain": [
              "    approximated minimizer  real minimizer\n",
              "0                 8.999990               9\n",
              "1                 3.000010               3\n",
              "2                 4.000015               4\n",
              "3                -0.000012               0\n",
              "4                 8.999990               9\n",
              "5                 1.000011               1\n",
              "6                 8.999996               9\n",
              "7                 0.999994               1\n",
              "8                 4.000012               4\n",
              "9                 1.000001               1\n",
              "10                7.999994               8"
            ]
          },
          "metadata": {
            "tags": []
          },
          "execution_count": 53
        }
      ]
    },
    {
      "cell_type": "markdown",
      "metadata": {
        "id": "MQHoCsHlmXnq"
      },
      "source": [
        "### #6"
      ]
    },
    {
      "cell_type": "code",
      "metadata": {
        "id": "JOoKg9WPmXnq",
        "outputId": "93d16750-08e1-4043-91ac-a173c8e3eee9"
      },
      "source": [
        "init=np.array([[6]])\n",
        "x_hat = bfgs(init, problem_6,  derivative_problem_6)\n",
        "print(\"estimated minimizer: \" + str(x_hat[0][0]))\n",
        "print(\"real minimizers: \" + str(abc_6))"
      ],
      "execution_count": null,
      "outputs": [
        {
          "output_type": "stream",
          "text": [
            "performed 7 iterations.\n",
            "--- 0.0049059391021728516 seconds ---\n",
            "estimated minimizer: 20.00000000000061\n",
            "real minimizers: [  1  20 300]\n"
          ],
          "name": "stdout"
        }
      ]
    },
    {
      "cell_type": "markdown",
      "metadata": {
        "id": "BWvjZypNmXnq"
      },
      "source": [
        "### #7"
      ]
    },
    {
      "cell_type": "code",
      "metadata": {
        "id": "7sew2MUkmXnr",
        "outputId": "5bbe8707-7279-4426-dd1b-85bd0b9428d4"
      },
      "source": [
        "init=np.array([[60]])\n",
        "x_hat = bfgs(init, problem_7,  derivative_problem_7)\n",
        "print(\"estimated minimizer: \" + str(x_hat[0][0]))\n",
        "print(\"real minimizers: \" + str(abc_7))"
      ],
      "execution_count": null,
      "outputs": [
        {
          "output_type": "stream",
          "text": [
            "performed 7 iterations.\n",
            "--- 0.004167795181274414 seconds ---\n",
            "estimated minimizer: 50.00000000000216\n",
            "real minimizers: [  4  50 600]\n"
          ],
          "name": "stdout"
        }
      ]
    },
    {
      "cell_type": "markdown",
      "metadata": {
        "id": "LUTEB82-mXnr"
      },
      "source": [
        "### #8"
      ]
    },
    {
      "cell_type": "code",
      "metadata": {
        "id": "vH3BPt1OmXnr",
        "outputId": "7d4c6096-cc71-412b-edf0-fd9121e46597"
      },
      "source": [
        "init=np.array([[60]])\n",
        "x_hat = bfgs(init, problem_8,  derivative_problem_8)\n",
        "print(\"estimated minimizer: \" + str(x_hat[0][0]))\n",
        "print(\"real minimizers: \" + str(abc_8))"
      ],
      "execution_count": null,
      "outputs": [
        {
          "output_type": "stream",
          "text": [
            "performed 7 iterations.\n",
            "--- 0.0030488967895507812 seconds ---\n",
            "estimated minimizer: 80.0\n",
            "real minimizers: [  7  80 900]\n"
          ],
          "name": "stdout"
        }
      ]
    },
    {
      "cell_type": "markdown",
      "metadata": {
        "id": "lGdRpk-gmXnr"
      },
      "source": [
        "### #9"
      ]
    },
    {
      "cell_type": "code",
      "metadata": {
        "id": "gI3L78LHmXnr",
        "outputId": "68200226-889c-4acc-bb20-11b63181ed80"
      },
      "source": [
        "init=np.array([[60]])\n",
        "x_hat = bfgs(init, problem_9,  derivative_problem_9)\n",
        "print(\"estimated minimizer: \" + str(x_hat[0][0]))\n",
        "print(\"real minimizers: \" + str(abc_9))"
      ],
      "execution_count": null,
      "outputs": [
        {
          "output_type": "stream",
          "text": [
            "performed 7 iterations.\n",
            "--- 0.003384828567504883 seconds ---\n",
            "estimated minimizer: 100.0\n",
            "real minimizers: [  1 100 200]\n"
          ],
          "name": "stdout"
        }
      ]
    },
    {
      "cell_type": "markdown",
      "metadata": {
        "id": "nt6htc_AmXns"
      },
      "source": [
        "### #10"
      ]
    },
    {
      "cell_type": "code",
      "metadata": {
        "id": "hJnDhL5nmXns",
        "outputId": "7ad1f44d-763e-4a07-8758-df444f3c3435"
      },
      "source": [
        "init=np.array([[20]])\n",
        "x_hat = bfgs(init, problem_10,  derivative_problem_10)\n",
        "print(\"estimated minimizer: \" + str(x_hat[0][0]))\n",
        "print(\"real minimizers: \" + str(abc_10))"
      ],
      "execution_count": null,
      "outputs": [
        {
          "output_type": "stream",
          "text": [
            "performed 8 iterations.\n",
            "--- 0.0048787593841552734 seconds ---\n",
            "estimated minimizer: 120.0\n",
            "real minimizers: [  2 120 200]\n"
          ],
          "name": "stdout"
        }
      ]
    },
    {
      "cell_type": "code",
      "metadata": {
        "colab": {
          "base_uri": "https://localhost:8080/"
        },
        "id": "umEqb7qIm9Hj",
        "outputId": "ea510b0f-74cf-4eef-811a-dd0ca952df2d"
      },
      "source": [
        "print(\"test\")"
      ],
      "execution_count": null,
      "outputs": [
        {
          "output_type": "stream",
          "text": [
            "test\n"
          ],
          "name": "stdout"
        }
      ]
    }
  ]
}