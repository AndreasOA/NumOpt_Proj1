{
 "cells": [
  {
   "cell_type": "markdown",
   "metadata": {
    "colab_type": "text",
    "id": "view-in-github"
   },
   "source": [
    "<a href=\"https://colab.research.google.com/github/AndreasOA/NumOpt_Proj1/blob/main/NumOpt_Proj1.ipynb\" target=\"_parent\"><img src=\"https://colab.research.google.com/assets/colab-badge.svg\" alt=\"Open In Colab\"/></a>"
   ]
  },
  {
   "cell_type": "code",
   "execution_count": 1,
   "metadata": {
    "id": "0lLXHsZdmXnU"
   },
   "outputs": [],
   "source": [
    "import numpy as np\n",
    "import pandas as pd\n",
    "import time"
   ]
  },
  {
   "cell_type": "markdown",
   "metadata": {
    "id": "BpXBaZVRmXnS"
   },
   "source": [
    "# Numerical Optimization - Group project phase 2\n"
   ]
  },
  {
   "cell_type": "markdown",
   "metadata": {
    "id": "pmQeqRH4mXnV"
   },
   "source": [
    "## Problems"
   ]
  },
  {
   "cell_type": "code",
   "execution_count": 2,
   "metadata": {
    "id": "QW-yxu0BmXnV",
    "scrolled": true
   },
   "outputs": [],
   "source": [
    "def get_random_A_b_minimizer(seed):\n",
    "    np.random.seed(seed)\n",
    "    A=np.random.randint(0, 2, (11, 11))\n",
    "    A=A@A.T\n",
    "\n",
    "    np.random.seed(seed)\n",
    "    minimizer=np.random.randint(0, 10, (11, 1))\n",
    "\n",
    "    b=A@minimizer\n",
    "    \n",
    "    return A, b, minimizer"
   ]
  },
  {
   "cell_type": "markdown",
   "metadata": {
    "id": "F0pSOVB2mXnV"
   },
   "source": [
    "### #1"
   ]
  },
  {
   "cell_type": "code",
   "execution_count": 3,
   "metadata": {
    "id": "iQOOw1uEmXnW"
   },
   "outputs": [],
   "source": [
    "A_1, b_1, minimizer_1 = get_random_A_b_minimizer(0)\n",
    "\n",
    "def problem_1(x):\n",
    "    return (x.T@A_1@x)/2-b_1.T@x\n",
    "\n",
    "def grad_problem_1(x):\n",
    "    return A_1@x-b_1\n",
    "\n",
    "def hessian_problem_1(x):\n",
    "    return A_1"
   ]
  },
  {
   "cell_type": "markdown",
   "metadata": {
    "id": "VGUqO259mXnW"
   },
   "source": [
    "### #2"
   ]
  },
  {
   "cell_type": "code",
   "execution_count": 4,
   "metadata": {
    "id": "7pEUHHy0mXnW"
   },
   "outputs": [],
   "source": [
    "A_2, b_2, minimizer_2 = get_random_A_b_minimizer(2)\n",
    "\n",
    "def problem_2(x):\n",
    "    return (x.T@A_2@x)/2-b_2.T@x\n",
    "\n",
    "def grad_problem_2(x):\n",
    "    return A_2@x-b_2\n",
    "\n",
    "def hessian_problem_2(x):\n",
    "    return A_2"
   ]
  },
  {
   "cell_type": "markdown",
   "metadata": {
    "id": "dodqvlg9mXnW"
   },
   "source": [
    "### #3"
   ]
  },
  {
   "cell_type": "code",
   "execution_count": 5,
   "metadata": {
    "id": "OlSYwYwHmXnX"
   },
   "outputs": [],
   "source": [
    "A_3, b_3, minimizer_3 = get_random_A_b_minimizer(3)\n",
    "\n",
    "def problem_3(x):\n",
    "    return (x.T@A_3@x)/2-b_3.T@x\n",
    "\n",
    "def grad_problem_3(x):\n",
    "    return A_3@x-b_3\n",
    "\n",
    "def hessian_problem_3(x):\n",
    "    return A_3"
   ]
  },
  {
   "cell_type": "markdown",
   "metadata": {
    "id": "WBzAzUzxmXnX"
   },
   "source": [
    "### #4"
   ]
  },
  {
   "cell_type": "code",
   "execution_count": 6,
   "metadata": {
    "id": "YxNpTobymXnX"
   },
   "outputs": [],
   "source": [
    "A_4, b_4, minimizer_4 = get_random_A_b_minimizer(4)\n",
    "\n",
    "def problem_4(x):\n",
    "    return (x.T@A_4@x)/2-b_4.T@x\n",
    "\n",
    "def grad_problem_4(x):\n",
    "    return A_4@x-b_4\n",
    "\n",
    "def hessian_problem_4(x):\n",
    "    return A_4"
   ]
  },
  {
   "cell_type": "markdown",
   "metadata": {
    "id": "YNmxtb3BmXnX"
   },
   "source": [
    "### #5"
   ]
  },
  {
   "cell_type": "code",
   "execution_count": 7,
   "metadata": {
    "id": "Bwxee0wwmXnY"
   },
   "outputs": [],
   "source": [
    "A_5, b_5, minimizer_5 = get_random_A_b_minimizer(6)\n",
    "\n",
    "def problem_5(x):\n",
    "    return (x.T@A_5@x)/2-b_5.T@x\n",
    "\n",
    "def grad_problem_5(x):\n",
    "    return A_5@x-b_5\n",
    "\n",
    "def hessian_problem_5(x):\n",
    "    return A_5"
   ]
  },
  {
   "cell_type": "markdown",
   "metadata": {
    "id": "0rukaW2AmXnY"
   },
   "source": [
    "### #6"
   ]
  },
  {
   "cell_type": "code",
   "execution_count": 8,
   "metadata": {
    "id": "GmUSD0ZCmXnY"
   },
   "outputs": [],
   "source": [
    "abc_6 = np.array([1, 20, 300])\n",
    "\n",
    "def problem_6(x):\n",
    "    return -(x*(3*x**3+(-4*abc_6[2]-4*abc_6[1]-4*abc_6[0])*x**2+((6*abc_6[1]+6*abc_6[0])*abc_6[2]+6*abc_6[0]*abc_6[1])*x-12*abc_6[0]*abc_6[1]*abc_6[2]))/12\n",
    "\n",
    "def derivative_problem_6(x):\n",
    "    return (abc_6[0]-x)*(abc_6[1]-x)*(abc_6[2]-x)\n",
    "\n",
    "def second_derivative_problem_6(x):\n",
    "    return -(abc_6[1]-x)*(abc_6[2]-x)-(abc_6[0]-x)*(abc_6[2]-x)-(abc_6[0]-x)*(abc_6[1]-x)"
   ]
  },
  {
   "cell_type": "markdown",
   "metadata": {
    "id": "db7PrUvCmXnY"
   },
   "source": [
    "### #7"
   ]
  },
  {
   "cell_type": "code",
   "execution_count": 9,
   "metadata": {
    "id": "cdo1a97MmXnY"
   },
   "outputs": [],
   "source": [
    "abc_7 = np.array([4, 50, 600])\n",
    "\n",
    "def problem_7(x):\n",
    "    return -(x*(3*x**3+(-4*abc_7[2]-4*abc_7[1]-4*abc_7[0])*x**2+((6*abc_7[1]+6*abc_7[0])*abc_7[2]+6*abc_7[0]*abc_7[1])*x-12*abc_7[0]*abc_7[1]*abc_7[2]))/12\n",
    "\n",
    "def derivative_problem_7(x):\n",
    "    return (abc_7[0]-x)*(abc_7[1]-x)*(abc_7[2]-x)\n",
    "\n",
    "def second_derivative_problem_7(x):\n",
    "    return -(abc_7[1]-x)*(abc_7[2]-x)-(abc_7[0]-x)*(abc_7[2]-x)-(abc_7[0]-x)*(abc_7[1]-x)"
   ]
  },
  {
   "cell_type": "markdown",
   "metadata": {
    "id": "kt7onhpImXnZ"
   },
   "source": [
    "### #8"
   ]
  },
  {
   "cell_type": "code",
   "execution_count": 10,
   "metadata": {
    "id": "tXeUcX3XmXnZ"
   },
   "outputs": [],
   "source": [
    "abc_8 = np.array([7, 80, 900])\n",
    "\n",
    "def problem_8(x):\n",
    "    return -(x*(3*x**3+(-4*abc_8[2]-4*abc_8[1]-4*abc_8[0])*x**2+((6*abc_8[1]+6*abc_8[0])*abc_8[2]+6*abc_8[0]*abc_8[1])*x-12*abc_8[0]*abc_8[1]*abc_8[2]))/12\n",
    "\n",
    "def derivative_problem_8(x):\n",
    "    return (abc_8[0]-x)*(abc_8[1]-x)*(abc_8[2]-x)\n",
    "\n",
    "def second_derivative_problem_8(x):\n",
    "    return -(abc_8[1]-x)*(abc_8[2]-x)-(abc_8[0]-x)*(abc_8[2]-x)-(abc_8[0]-x)*(abc_8[1]-x)"
   ]
  },
  {
   "cell_type": "markdown",
   "metadata": {
    "id": "w7RON4G1mXnZ"
   },
   "source": [
    "### #9"
   ]
  },
  {
   "cell_type": "code",
   "execution_count": 11,
   "metadata": {
    "id": "V4ZY3hdVmXnZ"
   },
   "outputs": [],
   "source": [
    "abc_9 = np.array([1, 100, 200])\n",
    "\n",
    "def problem_9(x):\n",
    "    return -(x*(3*x**3+(-4*abc_9[2]-4*abc_9[1]-4*abc_9[0])*x**2+((6*abc_9[1]+6*abc_9[0])*abc_9[2]+6*abc_9[0]*abc_9[1])*x-12*abc_9[0]*abc_9[1]*abc_9[2]))/12\n",
    "\n",
    "def derivative_problem_9(x):\n",
    "    return (abc_9[0]-x)*(abc_9[1]-x)*(abc_9[2]-x)\n",
    "\n",
    "def second_derivative_problem_9(x):\n",
    "    return -(abc_9[1]-x)*(abc_9[2]-x)-(abc_9[0]-x)*(abc_9[2]-x)-(abc_9[0]-x)*(abc_9[1]-x)"
   ]
  },
  {
   "cell_type": "markdown",
   "metadata": {
    "id": "aO7uwQ0YmXna"
   },
   "source": [
    "### #10"
   ]
  },
  {
   "cell_type": "code",
   "execution_count": 12,
   "metadata": {
    "id": "0HqtscAjmXna"
   },
   "outputs": [],
   "source": [
    "abc_10 = np.array([2, 120, 200])\n",
    "\n",
    "def problem_10(x):\n",
    "    return -(x*(3*x**3+(-4*abc_10[2]-4*abc_10[1]-4*abc_10[0])*x**2+((6*abc_10[1]+6*abc_10[0])*abc_10[2]+6*abc_10[0]*abc_10[1])*x-12*abc_10[0]*abc_10[1]*abc_10[2]))/12\n",
    "\n",
    "def derivative_problem_10(x):\n",
    "    return (abc_10[0]-x)*(abc_10[1]-x)*(abc_10[2]-x)\n",
    "\n",
    "def second_derivative_problem_10(x):\n",
    "    return -(abc_10[1]-x)*(abc_10[2]-x)-(abc_10[0]-x)*(abc_10[2]-x)-(abc_10[0]-x)*(abc_10[1]-x)"
   ]
  },
  {
   "cell_type": "markdown",
   "metadata": {
    "id": "bfUESse9CMcj"
   },
   "source": [
    "## Stopping Criteria"
   ]
  },
  {
   "cell_type": "code",
   "execution_count": 13,
   "metadata": {
    "id": "auDXgxXRCY3v"
   },
   "outputs": [],
   "source": [
    "def stopping_criteria(alpha, iteration, epsilon=1e-5, max_steps=1e6):\n",
    "    # @alpha: alpha in this case can be the derivative/gradient or alpha itself\n",
    "    # @iteration: current iteration of the algorithm\n",
    "    # @epsilon: stopping value for alpha/graident. if alpha is smaller or equal\n",
    "    #           to epsilon the algorithm has to stop\n",
    "    # @max_steps: stopping value for iteration. if iteration is higher or equal\n",
    "    #             to max_steps the algorithm has to stop\n",
    "    # ToDo: Adjustments? Different Name for alpha? Should we parse more?\n",
    "    #       x_old/x_new, y_new/y_old?\n",
    "    return ((alpha <= epsilon) or (iteration >= max_steps))"
   ]
  },
  {
   "cell_type": "markdown",
   "metadata": {
    "id": "dqDjtPGvmXna"
   },
   "source": [
    "## Gradient-Descent"
   ]
  },
  {
   "cell_type": "code",
   "execution_count": 14,
   "metadata": {
    "id": "fekndr3ZmXna"
   },
   "outputs": [],
   "source": [
    "def steepest_descent_multi(xk, minimizer, gradient, lr=1e-3, max_steps=1e6, epsilon=1e-5):\n",
    "    start_time = time.time()\n",
    "    i = 0\n",
    "    while True:\n",
    "        grad = gradient(xk)\n",
    "        grad_norm = np.linalg.norm(grad)\n",
    "\n",
    "        if stopping_criteria(grad_norm, i, epsilon, max_steps):\n",
    "          break\n",
    "\n",
    "        xk=xk-(lr * grad)\n",
    "        i += 1\n",
    "\n",
    "    print(\"performed \" + str(i+1) + \" iterations. Final norm of gradient: \" + str(grad_norm))\n",
    "    print(\"--- %s seconds ---\" % (time.time() - start_time))\n",
    "    return xk\n",
    "\n",
    "def steepest_descent_uni(xk, minimizers, derivative, lr=1e-7, max_steps=1e6, epsilon=1e-5):\n",
    "    start_time = time.time()\n",
    "    i = 0\n",
    "    while True:\n",
    "        der = derivative(xk)\n",
    "\n",
    "        if stopping_criteria(abs(der), i, epsilon, max_steps):\n",
    "          break\n",
    "        \n",
    "        xk=xk-(lr * der)\n",
    "        i += 1\n",
    "    print(\"performed \" + str(i+1) + \" iterations. Final derivative: \" + str(der))\n",
    "    print(\"--- %s seconds ---\" % (time.time() - start_time))\n",
    "    return xk"
   ]
  },
  {
   "cell_type": "code",
   "execution_count": 15,
   "metadata": {
    "id": "_2wFSncAmXnb"
   },
   "outputs": [],
   "source": [
    "# random starting vector for all algorithms and functions\n",
    "init=np.array([[6],[1],[2],[6],[7],[8],[1],[5],[1],[3],[6]])"
   ]
  },
  {
   "cell_type": "markdown",
   "metadata": {
    "id": "yy9Hb1r4mXnb"
   },
   "source": [
    "### #1"
   ]
  },
  {
   "cell_type": "code",
   "execution_count": 16,
   "metadata": {
    "colab": {
     "base_uri": "https://localhost:8080/",
     "height": 424
    },
    "id": "Dm4DfDMymXnb",
    "outputId": "781e97e7-617a-4191-9aea-bede475c0672"
   },
   "outputs": [
    {
     "name": "stdout",
     "output_type": "stream",
     "text": [
      "performed 167056 iterations. Final norm of gradient: 9.999772281218534e-06\n",
      "--- 1.8651025295257568 seconds ---\n"
     ]
    },
    {
     "data": {
      "text/html": [
       "<div>\n",
       "<style scoped>\n",
       "    .dataframe tbody tr th:only-of-type {\n",
       "        vertical-align: middle;\n",
       "    }\n",
       "\n",
       "    .dataframe tbody tr th {\n",
       "        vertical-align: top;\n",
       "    }\n",
       "\n",
       "    .dataframe thead th {\n",
       "        text-align: right;\n",
       "    }\n",
       "</style>\n",
       "<table border=\"1\" class=\"dataframe\">\n",
       "  <thead>\n",
       "    <tr style=\"text-align: right;\">\n",
       "      <th></th>\n",
       "      <th>approximated minimizer</th>\n",
       "      <th>real minimizer</th>\n",
       "    </tr>\n",
       "  </thead>\n",
       "  <tbody>\n",
       "    <tr>\n",
       "      <th>0</th>\n",
       "      <td>5.000103</td>\n",
       "      <td>5</td>\n",
       "    </tr>\n",
       "    <tr>\n",
       "      <th>1</th>\n",
       "      <td>-0.000180</td>\n",
       "      <td>0</td>\n",
       "    </tr>\n",
       "    <tr>\n",
       "      <th>2</th>\n",
       "      <td>2.999975</td>\n",
       "      <td>3</td>\n",
       "    </tr>\n",
       "    <tr>\n",
       "      <th>3</th>\n",
       "      <td>3.000025</td>\n",
       "      <td>3</td>\n",
       "    </tr>\n",
       "    <tr>\n",
       "      <th>4</th>\n",
       "      <td>7.000084</td>\n",
       "      <td>7</td>\n",
       "    </tr>\n",
       "    <tr>\n",
       "      <th>5</th>\n",
       "      <td>8.999770</td>\n",
       "      <td>9</td>\n",
       "    </tr>\n",
       "    <tr>\n",
       "      <th>6</th>\n",
       "      <td>3.000062</td>\n",
       "      <td>3</td>\n",
       "    </tr>\n",
       "    <tr>\n",
       "      <th>7</th>\n",
       "      <td>5.000023</td>\n",
       "      <td>5</td>\n",
       "    </tr>\n",
       "    <tr>\n",
       "      <th>8</th>\n",
       "      <td>1.999953</td>\n",
       "      <td>2</td>\n",
       "    </tr>\n",
       "    <tr>\n",
       "      <th>9</th>\n",
       "      <td>4.000014</td>\n",
       "      <td>4</td>\n",
       "    </tr>\n",
       "    <tr>\n",
       "      <th>10</th>\n",
       "      <td>6.999962</td>\n",
       "      <td>7</td>\n",
       "    </tr>\n",
       "  </tbody>\n",
       "</table>\n",
       "</div>"
      ],
      "text/plain": [
       "    approximated minimizer  real minimizer\n",
       "0                 5.000103               5\n",
       "1                -0.000180               0\n",
       "2                 2.999975               3\n",
       "3                 3.000025               3\n",
       "4                 7.000084               7\n",
       "5                 8.999770               9\n",
       "6                 3.000062               3\n",
       "7                 5.000023               5\n",
       "8                 1.999953               2\n",
       "9                 4.000014               4\n",
       "10                6.999962               7"
      ]
     },
     "execution_count": 16,
     "metadata": {},
     "output_type": "execute_result"
    }
   ],
   "source": [
    "x_hat=steepest_descent_multi(init, minimizer_1, grad_problem_1, lr=1.5e-3)\n",
    "pd.DataFrame(data={'approximated minimizer': x_hat[:,0], 'real minimizer': minimizer_1[:,0]})"
   ]
  },
  {
   "cell_type": "markdown",
   "metadata": {
    "id": "9wEYB7AnmXnc"
   },
   "source": [
    "### #2"
   ]
  },
  {
   "cell_type": "code",
   "execution_count": 17,
   "metadata": {
    "colab": {
     "base_uri": "https://localhost:8080/",
     "height": 424
    },
    "id": "299p0es0mXnc",
    "outputId": "1d62228d-f4d5-4161-a7fb-c8a20747c0e5"
   },
   "outputs": [
    {
     "name": "stdout",
     "output_type": "stream",
     "text": [
      "performed 121366 iterations. Final norm of gradient: 9.999358769537676e-06\n",
      "--- 1.3311431407928467 seconds ---\n"
     ]
    },
    {
     "data": {
      "text/html": [
       "<div>\n",
       "<style scoped>\n",
       "    .dataframe tbody tr th:only-of-type {\n",
       "        vertical-align: middle;\n",
       "    }\n",
       "\n",
       "    .dataframe tbody tr th {\n",
       "        vertical-align: top;\n",
       "    }\n",
       "\n",
       "    .dataframe thead th {\n",
       "        text-align: right;\n",
       "    }\n",
       "</style>\n",
       "<table border=\"1\" class=\"dataframe\">\n",
       "  <thead>\n",
       "    <tr style=\"text-align: right;\">\n",
       "      <th></th>\n",
       "      <th>approximated minimizer</th>\n",
       "      <th>real minimizer</th>\n",
       "    </tr>\n",
       "  </thead>\n",
       "  <tbody>\n",
       "    <tr>\n",
       "      <th>0</th>\n",
       "      <td>8.000030</td>\n",
       "      <td>8</td>\n",
       "    </tr>\n",
       "    <tr>\n",
       "      <th>1</th>\n",
       "      <td>7.999945</td>\n",
       "      <td>8</td>\n",
       "    </tr>\n",
       "    <tr>\n",
       "      <th>2</th>\n",
       "      <td>6.000073</td>\n",
       "      <td>6</td>\n",
       "    </tr>\n",
       "    <tr>\n",
       "      <th>3</th>\n",
       "      <td>2.000107</td>\n",
       "      <td>2</td>\n",
       "    </tr>\n",
       "    <tr>\n",
       "      <th>4</th>\n",
       "      <td>8.000000</td>\n",
       "      <td>8</td>\n",
       "    </tr>\n",
       "    <tr>\n",
       "      <th>5</th>\n",
       "      <td>6.999916</td>\n",
       "      <td>7</td>\n",
       "    </tr>\n",
       "    <tr>\n",
       "      <th>6</th>\n",
       "      <td>2.000003</td>\n",
       "      <td>2</td>\n",
       "    </tr>\n",
       "    <tr>\n",
       "      <th>7</th>\n",
       "      <td>0.999921</td>\n",
       "      <td>1</td>\n",
       "    </tr>\n",
       "    <tr>\n",
       "      <th>8</th>\n",
       "      <td>4.999935</td>\n",
       "      <td>5</td>\n",
       "    </tr>\n",
       "    <tr>\n",
       "      <th>9</th>\n",
       "      <td>4.000001</td>\n",
       "      <td>4</td>\n",
       "    </tr>\n",
       "    <tr>\n",
       "      <th>10</th>\n",
       "      <td>4.000034</td>\n",
       "      <td>4</td>\n",
       "    </tr>\n",
       "  </tbody>\n",
       "</table>\n",
       "</div>"
      ],
      "text/plain": [
       "    approximated minimizer  real minimizer\n",
       "0                 8.000030               8\n",
       "1                 7.999945               8\n",
       "2                 6.000073               6\n",
       "3                 2.000107               2\n",
       "4                 8.000000               8\n",
       "5                 6.999916               7\n",
       "6                 2.000003               2\n",
       "7                 0.999921               1\n",
       "8                 4.999935               5\n",
       "9                 4.000001               4\n",
       "10                4.000034               4"
      ]
     },
     "execution_count": 17,
     "metadata": {},
     "output_type": "execute_result"
    }
   ],
   "source": [
    "x_hat=steepest_descent_multi(init, minimizer_2, grad_problem_2, lr=1.5e-3)\n",
    "pd.DataFrame(data={'approximated minimizer': x_hat[:,0], 'real minimizer': minimizer_2[:,0]})"
   ]
  },
  {
   "cell_type": "markdown",
   "metadata": {
    "id": "dk2KPBocmXnc"
   },
   "source": [
    "### #3"
   ]
  },
  {
   "cell_type": "code",
   "execution_count": 18,
   "metadata": {
    "colab": {
     "base_uri": "https://localhost:8080/",
     "height": 424
    },
    "id": "gUYI7w2tmXnc",
    "outputId": "ffe6b322-5732-47f0-820d-5abe8368256e"
   },
   "outputs": [
    {
     "name": "stdout",
     "output_type": "stream",
     "text": [
      "performed 219804 iterations. Final norm of gradient: 9.999903015326533e-06\n",
      "--- 2.494642734527588 seconds ---\n"
     ]
    },
    {
     "data": {
      "text/html": [
       "<div>\n",
       "<style scoped>\n",
       "    .dataframe tbody tr th:only-of-type {\n",
       "        vertical-align: middle;\n",
       "    }\n",
       "\n",
       "    .dataframe tbody tr th {\n",
       "        vertical-align: top;\n",
       "    }\n",
       "\n",
       "    .dataframe thead th {\n",
       "        text-align: right;\n",
       "    }\n",
       "</style>\n",
       "<table border=\"1\" class=\"dataframe\">\n",
       "  <thead>\n",
       "    <tr style=\"text-align: right;\">\n",
       "      <th></th>\n",
       "      <th>approximated minimizer</th>\n",
       "      <th>real minimizer</th>\n",
       "    </tr>\n",
       "  </thead>\n",
       "  <tbody>\n",
       "    <tr>\n",
       "      <th>0</th>\n",
       "      <td>7.999910</td>\n",
       "      <td>8</td>\n",
       "    </tr>\n",
       "    <tr>\n",
       "      <th>1</th>\n",
       "      <td>8.999833</td>\n",
       "      <td>9</td>\n",
       "    </tr>\n",
       "    <tr>\n",
       "      <th>2</th>\n",
       "      <td>2.999990</td>\n",
       "      <td>3</td>\n",
       "    </tr>\n",
       "    <tr>\n",
       "      <th>3</th>\n",
       "      <td>7.999903</td>\n",
       "      <td>8</td>\n",
       "    </tr>\n",
       "    <tr>\n",
       "      <th>4</th>\n",
       "      <td>8.000018</td>\n",
       "      <td>8</td>\n",
       "    </tr>\n",
       "    <tr>\n",
       "      <th>5</th>\n",
       "      <td>0.000096</td>\n",
       "      <td>0</td>\n",
       "    </tr>\n",
       "    <tr>\n",
       "      <th>6</th>\n",
       "      <td>5.000103</td>\n",
       "      <td>5</td>\n",
       "    </tr>\n",
       "    <tr>\n",
       "      <th>7</th>\n",
       "      <td>3.000071</td>\n",
       "      <td>3</td>\n",
       "    </tr>\n",
       "    <tr>\n",
       "      <th>8</th>\n",
       "      <td>8.999975</td>\n",
       "      <td>9</td>\n",
       "    </tr>\n",
       "    <tr>\n",
       "      <th>9</th>\n",
       "      <td>9.000111</td>\n",
       "      <td>9</td>\n",
       "    </tr>\n",
       "    <tr>\n",
       "      <th>10</th>\n",
       "      <td>4.999803</td>\n",
       "      <td>5</td>\n",
       "    </tr>\n",
       "  </tbody>\n",
       "</table>\n",
       "</div>"
      ],
      "text/plain": [
       "    approximated minimizer  real minimizer\n",
       "0                 7.999910               8\n",
       "1                 8.999833               9\n",
       "2                 2.999990               3\n",
       "3                 7.999903               8\n",
       "4                 8.000018               8\n",
       "5                 0.000096               0\n",
       "6                 5.000103               5\n",
       "7                 3.000071               3\n",
       "8                 8.999975               9\n",
       "9                 9.000111               9\n",
       "10                4.999803               5"
      ]
     },
     "execution_count": 18,
     "metadata": {},
     "output_type": "execute_result"
    }
   ],
   "source": [
    "x_hat=steepest_descent_multi(init, minimizer_3, grad_problem_3, lr=1.5e-3)\n",
    "pd.DataFrame(data={'approximated minimizer': x_hat[:,0], 'real minimizer': minimizer_3[:,0]})"
   ]
  },
  {
   "cell_type": "markdown",
   "metadata": {
    "id": "gL3I1-rfmXnd"
   },
   "source": [
    "### #4"
   ]
  },
  {
   "cell_type": "code",
   "execution_count": 19,
   "metadata": {
    "colab": {
     "base_uri": "https://localhost:8080/",
     "height": 424
    },
    "id": "qMV4I95WmXnd",
    "outputId": "c1c7504b-02bd-475f-88ed-2fbf356690e1"
   },
   "outputs": [
    {
     "name": "stdout",
     "output_type": "stream",
     "text": [
      "performed 114220 iterations. Final norm of gradient: 9.999232072888139e-06\n",
      "--- 1.1514897346496582 seconds ---\n"
     ]
    },
    {
     "data": {
      "text/html": [
       "<div>\n",
       "<style scoped>\n",
       "    .dataframe tbody tr th:only-of-type {\n",
       "        vertical-align: middle;\n",
       "    }\n",
       "\n",
       "    .dataframe tbody tr th {\n",
       "        vertical-align: top;\n",
       "    }\n",
       "\n",
       "    .dataframe thead th {\n",
       "        text-align: right;\n",
       "    }\n",
       "</style>\n",
       "<table border=\"1\" class=\"dataframe\">\n",
       "  <thead>\n",
       "    <tr style=\"text-align: right;\">\n",
       "      <th></th>\n",
       "      <th>approximated minimizer</th>\n",
       "      <th>real minimizer</th>\n",
       "    </tr>\n",
       "  </thead>\n",
       "  <tbody>\n",
       "    <tr>\n",
       "      <th>0</th>\n",
       "      <td>7.000088</td>\n",
       "      <td>7</td>\n",
       "    </tr>\n",
       "    <tr>\n",
       "      <th>1</th>\n",
       "      <td>4.999977</td>\n",
       "      <td>5</td>\n",
       "    </tr>\n",
       "    <tr>\n",
       "      <th>2</th>\n",
       "      <td>1.000013</td>\n",
       "      <td>1</td>\n",
       "    </tr>\n",
       "    <tr>\n",
       "      <th>3</th>\n",
       "      <td>8.000047</td>\n",
       "      <td>8</td>\n",
       "    </tr>\n",
       "    <tr>\n",
       "      <th>4</th>\n",
       "      <td>6.999909</td>\n",
       "      <td>7</td>\n",
       "    </tr>\n",
       "    <tr>\n",
       "      <th>5</th>\n",
       "      <td>8.000036</td>\n",
       "      <td>8</td>\n",
       "    </tr>\n",
       "    <tr>\n",
       "      <th>6</th>\n",
       "      <td>2.000049</td>\n",
       "      <td>2</td>\n",
       "    </tr>\n",
       "    <tr>\n",
       "      <th>7</th>\n",
       "      <td>8.999966</td>\n",
       "      <td>9</td>\n",
       "    </tr>\n",
       "    <tr>\n",
       "      <th>8</th>\n",
       "      <td>6.999932</td>\n",
       "      <td>7</td>\n",
       "    </tr>\n",
       "    <tr>\n",
       "      <th>9</th>\n",
       "      <td>6.999973</td>\n",
       "      <td>7</td>\n",
       "    </tr>\n",
       "    <tr>\n",
       "      <th>10</th>\n",
       "      <td>7.000053</td>\n",
       "      <td>7</td>\n",
       "    </tr>\n",
       "  </tbody>\n",
       "</table>\n",
       "</div>"
      ],
      "text/plain": [
       "    approximated minimizer  real minimizer\n",
       "0                 7.000088               7\n",
       "1                 4.999977               5\n",
       "2                 1.000013               1\n",
       "3                 8.000047               8\n",
       "4                 6.999909               7\n",
       "5                 8.000036               8\n",
       "6                 2.000049               2\n",
       "7                 8.999966               9\n",
       "8                 6.999932               7\n",
       "9                 6.999973               7\n",
       "10                7.000053               7"
      ]
     },
     "execution_count": 19,
     "metadata": {},
     "output_type": "execute_result"
    }
   ],
   "source": [
    "x_hat=steepest_descent_multi(init, minimizer_4, grad_problem_4, lr=1.5e-3)\n",
    "pd.DataFrame(data={'approximated minimizer': x_hat[:,0], 'real minimizer': minimizer_4[:,0]})"
   ]
  },
  {
   "cell_type": "markdown",
   "metadata": {
    "id": "FHG-KAPtmXnd"
   },
   "source": [
    "### #5"
   ]
  },
  {
   "cell_type": "code",
   "execution_count": 20,
   "metadata": {
    "colab": {
     "base_uri": "https://localhost:8080/",
     "height": 424
    },
    "id": "04LJOERAmXnd",
    "outputId": "61e142ed-e234-4d7f-a888-019a3b118e6a"
   },
   "outputs": [
    {
     "name": "stdout",
     "output_type": "stream",
     "text": [
      "performed 1000001 iterations. Final norm of gradient: 1.141006683991261e-05\n",
      "--- 9.471135139465332 seconds ---\n"
     ]
    },
    {
     "data": {
      "text/html": [
       "<div>\n",
       "<style scoped>\n",
       "    .dataframe tbody tr th:only-of-type {\n",
       "        vertical-align: middle;\n",
       "    }\n",
       "\n",
       "    .dataframe tbody tr th {\n",
       "        vertical-align: top;\n",
       "    }\n",
       "\n",
       "    .dataframe thead th {\n",
       "        text-align: right;\n",
       "    }\n",
       "</style>\n",
       "<table border=\"1\" class=\"dataframe\">\n",
       "  <thead>\n",
       "    <tr style=\"text-align: right;\">\n",
       "      <th></th>\n",
       "      <th>approximated minimizer</th>\n",
       "      <th>real minimizer</th>\n",
       "    </tr>\n",
       "  </thead>\n",
       "  <tbody>\n",
       "    <tr>\n",
       "      <th>0</th>\n",
       "      <td>9.001467</td>\n",
       "      <td>9</td>\n",
       "    </tr>\n",
       "    <tr>\n",
       "      <th>1</th>\n",
       "      <td>2.998585</td>\n",
       "      <td>3</td>\n",
       "    </tr>\n",
       "    <tr>\n",
       "      <th>2</th>\n",
       "      <td>3.998159</td>\n",
       "      <td>4</td>\n",
       "    </tr>\n",
       "    <tr>\n",
       "      <th>3</th>\n",
       "      <td>0.001474</td>\n",
       "      <td>0</td>\n",
       "    </tr>\n",
       "    <tr>\n",
       "      <th>4</th>\n",
       "      <td>9.001194</td>\n",
       "      <td>9</td>\n",
       "    </tr>\n",
       "    <tr>\n",
       "      <th>5</th>\n",
       "      <td>0.998760</td>\n",
       "      <td>1</td>\n",
       "    </tr>\n",
       "    <tr>\n",
       "      <th>6</th>\n",
       "      <td>9.000450</td>\n",
       "      <td>9</td>\n",
       "    </tr>\n",
       "    <tr>\n",
       "      <th>7</th>\n",
       "      <td>1.000806</td>\n",
       "      <td>1</td>\n",
       "    </tr>\n",
       "    <tr>\n",
       "      <th>8</th>\n",
       "      <td>3.998684</td>\n",
       "      <td>4</td>\n",
       "    </tr>\n",
       "    <tr>\n",
       "      <th>9</th>\n",
       "      <td>0.999687</td>\n",
       "      <td>1</td>\n",
       "    </tr>\n",
       "    <tr>\n",
       "      <th>10</th>\n",
       "      <td>8.000843</td>\n",
       "      <td>8</td>\n",
       "    </tr>\n",
       "  </tbody>\n",
       "</table>\n",
       "</div>"
      ],
      "text/plain": [
       "    approximated minimizer  real minimizer\n",
       "0                 9.001467               9\n",
       "1                 2.998585               3\n",
       "2                 3.998159               4\n",
       "3                 0.001474               0\n",
       "4                 9.001194               9\n",
       "5                 0.998760               1\n",
       "6                 9.000450               9\n",
       "7                 1.000806               1\n",
       "8                 3.998684               4\n",
       "9                 0.999687               1\n",
       "10                8.000843               8"
      ]
     },
     "execution_count": 20,
     "metadata": {},
     "output_type": "execute_result"
    }
   ],
   "source": [
    "x_hat=steepest_descent_multi(init, minimizer_5, grad_problem_5, lr=1.5e-3)\n",
    "pd.DataFrame(data={'approximated minimizer': x_hat[:,0], 'real minimizer': minimizer_5[:,0]})"
   ]
  },
  {
   "cell_type": "markdown",
   "metadata": {
    "id": "uaVfQyxNmXnd"
   },
   "source": [
    "### #6"
   ]
  },
  {
   "cell_type": "code",
   "execution_count": 21,
   "metadata": {
    "colab": {
     "base_uri": "https://localhost:8080/"
    },
    "id": "vm09bFyBmXnd",
    "outputId": "00409553-6db8-4f22-bd2a-4920a7810872"
   },
   "outputs": [
    {
     "name": "stdout",
     "output_type": "stream",
     "text": [
      "performed 420 iterations. Final derivative: 9.629205522687836e-06\n",
      "--- 0.0030019283294677734 seconds ---\n",
      "estimated minimizer: 20.00000000181\n",
      "real minimizers: [  1  20 300]\n"
     ]
    }
   ],
   "source": [
    "x_hat=steepest_descent_uni(100, np.array(abc_6), derivative_problem_6, lr=1e-5)\n",
    "print(\"estimated minimizer: \" + str(x_hat))\n",
    "print(\"real minimizers: \" + str(abc_6))"
   ]
  },
  {
   "cell_type": "markdown",
   "metadata": {
    "id": "OTx7uKvHmXne"
   },
   "source": [
    "### #7"
   ]
  },
  {
   "cell_type": "code",
   "execution_count": 22,
   "metadata": {
    "colab": {
     "base_uri": "https://localhost:8080/"
    },
    "id": "mOS53bbTmXne",
    "outputId": "2849b5f4-7780-4f07-f2da-a2079dc11928"
   },
   "outputs": [
    {
     "name": "stdout",
     "output_type": "stream",
     "text": [
      "performed 86 iterations. Final derivative: 8.642493298852665e-06\n",
      "--- 0.0005002021789550781 seconds ---\n",
      "estimated minimizer: 50.0000000003416\n",
      "real minimizers: [  4  50 600]\n"
     ]
    }
   ],
   "source": [
    "x_hat=steepest_descent_uni(100, np.array(abc_7), derivative_problem_7, lr=1e-5)\n",
    "print(\"estimated minimizer: \" + str(x_hat))\n",
    "print(\"real minimizers: \" + str(abc_7))"
   ]
  },
  {
   "cell_type": "markdown",
   "metadata": {
    "id": "VQTBDVGGmXne"
   },
   "source": [
    "### #8"
   ]
  },
  {
   "cell_type": "code",
   "execution_count": 23,
   "metadata": {
    "colab": {
     "base_uri": "https://localhost:8080/"
    },
    "id": "WI_Tf16RmXne",
    "outputId": "5d7f7295-4d56-406f-cdb3-e47415e4b5f0"
   },
   "outputs": [
    {
     "name": "stdout",
     "output_type": "stream",
     "text": [
      "performed 29 iterations. Final derivative: 5.185634108789749e-06\n",
      "--- 0.0 seconds ---\n",
      "estimated minimizer: 80.00000000008663\n",
      "real minimizers: [  7  80 900]\n"
     ]
    }
   ],
   "source": [
    "x_hat=steepest_descent_uni(100, np.array(abc_8), derivative_problem_8, lr=1e-5)\n",
    "print(\"estimated minimizer: \" + str(x_hat))\n",
    "print(\"real minimizers: \" + str(abc_8))"
   ]
  },
  {
   "cell_type": "markdown",
   "metadata": {
    "id": "EXTSyU4cmXne"
   },
   "source": [
    "### #9"
   ]
  },
  {
   "cell_type": "code",
   "execution_count": 24,
   "metadata": {
    "colab": {
     "base_uri": "https://localhost:8080/"
    },
    "id": "p4GSRabRmXnf",
    "outputId": "162b556d-9e10-4f26-e054-3ba4d5709867"
   },
   "outputs": [
    {
     "name": "stdout",
     "output_type": "stream",
     "text": [
      "performed 222 iterations. Final derivative: -9.837711445469644e-06\n",
      "--- 0.0015010833740234375 seconds ---\n",
      "estimated minimizer: 99.99999999900629\n",
      "real minimizers: [  1 100 200]\n"
     ]
    }
   ],
   "source": [
    "x_hat=steepest_descent_uni(90, np.array(abc_9), derivative_problem_9, lr=1e-5)\n",
    "print(\"estimated minimizer: \" + str(x_hat))\n",
    "print(\"real minimizers: \" + str(abc_9))"
   ]
  },
  {
   "cell_type": "markdown",
   "metadata": {
    "id": "yh8WYET0mXnf"
   },
   "source": [
    "### #10"
   ]
  },
  {
   "cell_type": "code",
   "execution_count": 25,
   "metadata": {
    "colab": {
     "base_uri": "https://localhost:8080/"
    },
    "id": "Xfgv-OMgmXnf",
    "outputId": "21a43f89-6bde-4f06-d8bd-e0e14806c5de"
   },
   "outputs": [
    {
     "name": "stdout",
     "output_type": "stream",
     "text": [
      "performed 239 iterations. Final derivative: -9.989917089157452e-06\n",
      "--- 0.0020017623901367188 seconds ---\n",
      "estimated minimizer: 119.99999999894175\n",
      "real minimizers: [  2 120 200]\n"
     ]
    }
   ],
   "source": [
    "x_hat=steepest_descent_uni(100, np.array(abc_10), derivative_problem_10, lr=1e-5)\n",
    "print(\"estimated minimizer: \" + str(x_hat))\n",
    "print(\"real minimizers: \" + str(abc_10))"
   ]
  },
  {
   "cell_type": "markdown",
   "metadata": {
    "id": "NHLiZyzCmXnf"
   },
   "source": [
    "## Newton Method"
   ]
  },
  {
   "cell_type": "code",
   "execution_count": 26,
   "metadata": {
    "id": "P5N6_FpZmXnf"
   },
   "outputs": [],
   "source": [
    "def newton_multi(xk, minimizer, gradient_fn, hessian_fn, max_steps=1e6, epsilon=1e-5):\n",
    "    start_time = time.time()\n",
    "    i = 0\n",
    "    while True:\n",
    "        grad = gradient_fn(xk)\n",
    "        grad_norm = np.linalg.norm(grad)\n",
    "\n",
    "        if stopping_criteria(grad_norm, i, epsilon, max_steps):\n",
    "          break\n",
    "\n",
    "        xk=xk - (np.linalg.inv(hessian_fn(xk))@grad)\n",
    "        i+= 1\n",
    "    print(\"performed \" + str(i+1) + \" iterations. Final norm of gradient: \" + str(grad_norm))\n",
    "    print(\"--- %s seconds ---\" % (time.time() - start_time))\n",
    "    return xk\n",
    "\n",
    "def newton_uni(xk, minimizers, derivative_fn, second_derivative_fn, max_steps=1e6, epsilon=1e-5):\n",
    "    start_time = time.time()\n",
    "    i = 0\n",
    "    while True:\n",
    "        der = derivative_fn(xk)\n",
    "\n",
    "        if stopping_criteria(abs(der), i, epsilon, max_steps):\n",
    "          break\n",
    "        \n",
    "        xk=xk - der/second_derivative_fn(xk)\n",
    "        i+= 1\n",
    "    print(\"performed \" + str(i+1) + \" iterations. Final derivative: \" + str(der))\n",
    "    print(\"--- %s seconds ---\" % (time.time() - start_time))\n",
    "    return xk"
   ]
  },
  {
   "cell_type": "markdown",
   "metadata": {
    "id": "lQEMaNJ4mXng"
   },
   "source": [
    "### #1"
   ]
  },
  {
   "cell_type": "code",
   "execution_count": 27,
   "metadata": {
    "colab": {
     "base_uri": "https://localhost:8080/",
     "height": 424
    },
    "id": "AQRsUVv_mXng",
    "outputId": "c5921f84-65ef-46f0-c419-04976e639b61"
   },
   "outputs": [
    {
     "name": "stdout",
     "output_type": "stream",
     "text": [
      "performed 2 iterations. Final norm of gradient: 2.0495186137532011e-13\n",
      "--- 0.004003286361694336 seconds ---\n"
     ]
    },
    {
     "data": {
      "text/html": [
       "<div>\n",
       "<style scoped>\n",
       "    .dataframe tbody tr th:only-of-type {\n",
       "        vertical-align: middle;\n",
       "    }\n",
       "\n",
       "    .dataframe tbody tr th {\n",
       "        vertical-align: top;\n",
       "    }\n",
       "\n",
       "    .dataframe thead th {\n",
       "        text-align: right;\n",
       "    }\n",
       "</style>\n",
       "<table border=\"1\" class=\"dataframe\">\n",
       "  <thead>\n",
       "    <tr style=\"text-align: right;\">\n",
       "      <th></th>\n",
       "      <th>approximated minimizer</th>\n",
       "      <th>real minimizer</th>\n",
       "    </tr>\n",
       "  </thead>\n",
       "  <tbody>\n",
       "    <tr>\n",
       "      <th>0</th>\n",
       "      <td>5.000000e+00</td>\n",
       "      <td>5</td>\n",
       "    </tr>\n",
       "    <tr>\n",
       "      <th>1</th>\n",
       "      <td>2.131628e-14</td>\n",
       "      <td>0</td>\n",
       "    </tr>\n",
       "    <tr>\n",
       "      <th>2</th>\n",
       "      <td>3.000000e+00</td>\n",
       "      <td>3</td>\n",
       "    </tr>\n",
       "    <tr>\n",
       "      <th>3</th>\n",
       "      <td>3.000000e+00</td>\n",
       "      <td>3</td>\n",
       "    </tr>\n",
       "    <tr>\n",
       "      <th>4</th>\n",
       "      <td>7.000000e+00</td>\n",
       "      <td>7</td>\n",
       "    </tr>\n",
       "    <tr>\n",
       "      <th>5</th>\n",
       "      <td>9.000000e+00</td>\n",
       "      <td>9</td>\n",
       "    </tr>\n",
       "    <tr>\n",
       "      <th>6</th>\n",
       "      <td>3.000000e+00</td>\n",
       "      <td>3</td>\n",
       "    </tr>\n",
       "    <tr>\n",
       "      <th>7</th>\n",
       "      <td>5.000000e+00</td>\n",
       "      <td>5</td>\n",
       "    </tr>\n",
       "    <tr>\n",
       "      <th>8</th>\n",
       "      <td>2.000000e+00</td>\n",
       "      <td>2</td>\n",
       "    </tr>\n",
       "    <tr>\n",
       "      <th>9</th>\n",
       "      <td>4.000000e+00</td>\n",
       "      <td>4</td>\n",
       "    </tr>\n",
       "    <tr>\n",
       "      <th>10</th>\n",
       "      <td>7.000000e+00</td>\n",
       "      <td>7</td>\n",
       "    </tr>\n",
       "  </tbody>\n",
       "</table>\n",
       "</div>"
      ],
      "text/plain": [
       "    approximated minimizer  real minimizer\n",
       "0             5.000000e+00               5\n",
       "1             2.131628e-14               0\n",
       "2             3.000000e+00               3\n",
       "3             3.000000e+00               3\n",
       "4             7.000000e+00               7\n",
       "5             9.000000e+00               9\n",
       "6             3.000000e+00               3\n",
       "7             5.000000e+00               5\n",
       "8             2.000000e+00               2\n",
       "9             4.000000e+00               4\n",
       "10            7.000000e+00               7"
      ]
     },
     "execution_count": 27,
     "metadata": {},
     "output_type": "execute_result"
    }
   ],
   "source": [
    "x_hat=newton_multi(init, minimizer_1, grad_problem_1, hessian_problem_1)\n",
    "pd.DataFrame(data={'approximated minimizer': x_hat[:,0], 'real minimizer': minimizer_1[:,0]})"
   ]
  },
  {
   "cell_type": "markdown",
   "metadata": {
    "id": "0Rwru_yymXng"
   },
   "source": [
    "### #2"
   ]
  },
  {
   "cell_type": "code",
   "execution_count": 28,
   "metadata": {
    "colab": {
     "base_uri": "https://localhost:8080/",
     "height": 424
    },
    "id": "ndq9hzY8mXng",
    "outputId": "dd4bf045-c7e4-4ed9-a249-991115947489"
   },
   "outputs": [
    {
     "name": "stdout",
     "output_type": "stream",
     "text": [
      "performed 2 iterations. Final norm of gradient: 3.8788084748251155e-13\n",
      "--- 0.0005002021789550781 seconds ---\n"
     ]
    },
    {
     "data": {
      "text/html": [
       "<div>\n",
       "<style scoped>\n",
       "    .dataframe tbody tr th:only-of-type {\n",
       "        vertical-align: middle;\n",
       "    }\n",
       "\n",
       "    .dataframe tbody tr th {\n",
       "        vertical-align: top;\n",
       "    }\n",
       "\n",
       "    .dataframe thead th {\n",
       "        text-align: right;\n",
       "    }\n",
       "</style>\n",
       "<table border=\"1\" class=\"dataframe\">\n",
       "  <thead>\n",
       "    <tr style=\"text-align: right;\">\n",
       "      <th></th>\n",
       "      <th>approximated minimizer</th>\n",
       "      <th>real minimizer</th>\n",
       "    </tr>\n",
       "  </thead>\n",
       "  <tbody>\n",
       "    <tr>\n",
       "      <th>0</th>\n",
       "      <td>8.0</td>\n",
       "      <td>8</td>\n",
       "    </tr>\n",
       "    <tr>\n",
       "      <th>1</th>\n",
       "      <td>8.0</td>\n",
       "      <td>8</td>\n",
       "    </tr>\n",
       "    <tr>\n",
       "      <th>2</th>\n",
       "      <td>6.0</td>\n",
       "      <td>6</td>\n",
       "    </tr>\n",
       "    <tr>\n",
       "      <th>3</th>\n",
       "      <td>2.0</td>\n",
       "      <td>2</td>\n",
       "    </tr>\n",
       "    <tr>\n",
       "      <th>4</th>\n",
       "      <td>8.0</td>\n",
       "      <td>8</td>\n",
       "    </tr>\n",
       "    <tr>\n",
       "      <th>5</th>\n",
       "      <td>7.0</td>\n",
       "      <td>7</td>\n",
       "    </tr>\n",
       "    <tr>\n",
       "      <th>6</th>\n",
       "      <td>2.0</td>\n",
       "      <td>2</td>\n",
       "    </tr>\n",
       "    <tr>\n",
       "      <th>7</th>\n",
       "      <td>1.0</td>\n",
       "      <td>1</td>\n",
       "    </tr>\n",
       "    <tr>\n",
       "      <th>8</th>\n",
       "      <td>5.0</td>\n",
       "      <td>5</td>\n",
       "    </tr>\n",
       "    <tr>\n",
       "      <th>9</th>\n",
       "      <td>4.0</td>\n",
       "      <td>4</td>\n",
       "    </tr>\n",
       "    <tr>\n",
       "      <th>10</th>\n",
       "      <td>4.0</td>\n",
       "      <td>4</td>\n",
       "    </tr>\n",
       "  </tbody>\n",
       "</table>\n",
       "</div>"
      ],
      "text/plain": [
       "    approximated minimizer  real minimizer\n",
       "0                      8.0               8\n",
       "1                      8.0               8\n",
       "2                      6.0               6\n",
       "3                      2.0               2\n",
       "4                      8.0               8\n",
       "5                      7.0               7\n",
       "6                      2.0               2\n",
       "7                      1.0               1\n",
       "8                      5.0               5\n",
       "9                      4.0               4\n",
       "10                     4.0               4"
      ]
     },
     "execution_count": 28,
     "metadata": {},
     "output_type": "execute_result"
    }
   ],
   "source": [
    "x_hat=newton_multi(init, minimizer_2, grad_problem_2, hessian_problem_2)\n",
    "pd.DataFrame(data={'approximated minimizer': x_hat[:,0], 'real minimizer': minimizer_2[:,0]})"
   ]
  },
  {
   "cell_type": "markdown",
   "metadata": {
    "id": "UlI4YYdTmXng"
   },
   "source": [
    "### #3"
   ]
  },
  {
   "cell_type": "code",
   "execution_count": 29,
   "metadata": {
    "colab": {
     "base_uri": "https://localhost:8080/",
     "height": 424
    },
    "id": "ehpLUL5UmXnh",
    "outputId": "b074d532-eaf2-447e-ae8a-b59ab8204e74"
   },
   "outputs": [
    {
     "name": "stdout",
     "output_type": "stream",
     "text": [
      "performed 2 iterations. Final norm of gradient: 7.557516383898745e-13\n",
      "--- 0.0005002021789550781 seconds ---\n"
     ]
    },
    {
     "data": {
      "text/html": [
       "<div>\n",
       "<style scoped>\n",
       "    .dataframe tbody tr th:only-of-type {\n",
       "        vertical-align: middle;\n",
       "    }\n",
       "\n",
       "    .dataframe tbody tr th {\n",
       "        vertical-align: top;\n",
       "    }\n",
       "\n",
       "    .dataframe thead th {\n",
       "        text-align: right;\n",
       "    }\n",
       "</style>\n",
       "<table border=\"1\" class=\"dataframe\">\n",
       "  <thead>\n",
       "    <tr style=\"text-align: right;\">\n",
       "      <th></th>\n",
       "      <th>approximated minimizer</th>\n",
       "      <th>real minimizer</th>\n",
       "    </tr>\n",
       "  </thead>\n",
       "  <tbody>\n",
       "    <tr>\n",
       "      <th>0</th>\n",
       "      <td>8.000000e+00</td>\n",
       "      <td>8</td>\n",
       "    </tr>\n",
       "    <tr>\n",
       "      <th>1</th>\n",
       "      <td>9.000000e+00</td>\n",
       "      <td>9</td>\n",
       "    </tr>\n",
       "    <tr>\n",
       "      <th>2</th>\n",
       "      <td>3.000000e+00</td>\n",
       "      <td>3</td>\n",
       "    </tr>\n",
       "    <tr>\n",
       "      <th>3</th>\n",
       "      <td>8.000000e+00</td>\n",
       "      <td>8</td>\n",
       "    </tr>\n",
       "    <tr>\n",
       "      <th>4</th>\n",
       "      <td>8.000000e+00</td>\n",
       "      <td>8</td>\n",
       "    </tr>\n",
       "    <tr>\n",
       "      <th>5</th>\n",
       "      <td>-5.684342e-14</td>\n",
       "      <td>0</td>\n",
       "    </tr>\n",
       "    <tr>\n",
       "      <th>6</th>\n",
       "      <td>5.000000e+00</td>\n",
       "      <td>5</td>\n",
       "    </tr>\n",
       "    <tr>\n",
       "      <th>7</th>\n",
       "      <td>3.000000e+00</td>\n",
       "      <td>3</td>\n",
       "    </tr>\n",
       "    <tr>\n",
       "      <th>8</th>\n",
       "      <td>9.000000e+00</td>\n",
       "      <td>9</td>\n",
       "    </tr>\n",
       "    <tr>\n",
       "      <th>9</th>\n",
       "      <td>9.000000e+00</td>\n",
       "      <td>9</td>\n",
       "    </tr>\n",
       "    <tr>\n",
       "      <th>10</th>\n",
       "      <td>5.000000e+00</td>\n",
       "      <td>5</td>\n",
       "    </tr>\n",
       "  </tbody>\n",
       "</table>\n",
       "</div>"
      ],
      "text/plain": [
       "    approximated minimizer  real minimizer\n",
       "0             8.000000e+00               8\n",
       "1             9.000000e+00               9\n",
       "2             3.000000e+00               3\n",
       "3             8.000000e+00               8\n",
       "4             8.000000e+00               8\n",
       "5            -5.684342e-14               0\n",
       "6             5.000000e+00               5\n",
       "7             3.000000e+00               3\n",
       "8             9.000000e+00               9\n",
       "9             9.000000e+00               9\n",
       "10            5.000000e+00               5"
      ]
     },
     "execution_count": 29,
     "metadata": {},
     "output_type": "execute_result"
    }
   ],
   "source": [
    "x_hat=newton_multi(init, minimizer_3, grad_problem_3, hessian_problem_3)\n",
    "pd.DataFrame(data={'approximated minimizer': x_hat[:,0], 'real minimizer': minimizer_3[:,0]})"
   ]
  },
  {
   "cell_type": "markdown",
   "metadata": {
    "id": "8XDE_xszmXnh"
   },
   "source": [
    "### #4"
   ]
  },
  {
   "cell_type": "code",
   "execution_count": 30,
   "metadata": {
    "colab": {
     "base_uri": "https://localhost:8080/",
     "height": 424
    },
    "id": "H-BsMgeQmXnh",
    "outputId": "d07ae3df-98a4-4ebc-e535-106fb7c578e1"
   },
   "outputs": [
    {
     "name": "stdout",
     "output_type": "stream",
     "text": [
      "performed 2 iterations. Final norm of gradient: 2.314057811569782e-12\n",
      "--- 0.0005004405975341797 seconds ---\n"
     ]
    },
    {
     "data": {
      "text/html": [
       "<div>\n",
       "<style scoped>\n",
       "    .dataframe tbody tr th:only-of-type {\n",
       "        vertical-align: middle;\n",
       "    }\n",
       "\n",
       "    .dataframe tbody tr th {\n",
       "        vertical-align: top;\n",
       "    }\n",
       "\n",
       "    .dataframe thead th {\n",
       "        text-align: right;\n",
       "    }\n",
       "</style>\n",
       "<table border=\"1\" class=\"dataframe\">\n",
       "  <thead>\n",
       "    <tr style=\"text-align: right;\">\n",
       "      <th></th>\n",
       "      <th>approximated minimizer</th>\n",
       "      <th>real minimizer</th>\n",
       "    </tr>\n",
       "  </thead>\n",
       "  <tbody>\n",
       "    <tr>\n",
       "      <th>0</th>\n",
       "      <td>7.0</td>\n",
       "      <td>7</td>\n",
       "    </tr>\n",
       "    <tr>\n",
       "      <th>1</th>\n",
       "      <td>5.0</td>\n",
       "      <td>5</td>\n",
       "    </tr>\n",
       "    <tr>\n",
       "      <th>2</th>\n",
       "      <td>1.0</td>\n",
       "      <td>1</td>\n",
       "    </tr>\n",
       "    <tr>\n",
       "      <th>3</th>\n",
       "      <td>8.0</td>\n",
       "      <td>8</td>\n",
       "    </tr>\n",
       "    <tr>\n",
       "      <th>4</th>\n",
       "      <td>7.0</td>\n",
       "      <td>7</td>\n",
       "    </tr>\n",
       "    <tr>\n",
       "      <th>5</th>\n",
       "      <td>8.0</td>\n",
       "      <td>8</td>\n",
       "    </tr>\n",
       "    <tr>\n",
       "      <th>6</th>\n",
       "      <td>2.0</td>\n",
       "      <td>2</td>\n",
       "    </tr>\n",
       "    <tr>\n",
       "      <th>7</th>\n",
       "      <td>9.0</td>\n",
       "      <td>9</td>\n",
       "    </tr>\n",
       "    <tr>\n",
       "      <th>8</th>\n",
       "      <td>7.0</td>\n",
       "      <td>7</td>\n",
       "    </tr>\n",
       "    <tr>\n",
       "      <th>9</th>\n",
       "      <td>7.0</td>\n",
       "      <td>7</td>\n",
       "    </tr>\n",
       "    <tr>\n",
       "      <th>10</th>\n",
       "      <td>7.0</td>\n",
       "      <td>7</td>\n",
       "    </tr>\n",
       "  </tbody>\n",
       "</table>\n",
       "</div>"
      ],
      "text/plain": [
       "    approximated minimizer  real minimizer\n",
       "0                      7.0               7\n",
       "1                      5.0               5\n",
       "2                      1.0               1\n",
       "3                      8.0               8\n",
       "4                      7.0               7\n",
       "5                      8.0               8\n",
       "6                      2.0               2\n",
       "7                      9.0               9\n",
       "8                      7.0               7\n",
       "9                      7.0               7\n",
       "10                     7.0               7"
      ]
     },
     "execution_count": 30,
     "metadata": {},
     "output_type": "execute_result"
    }
   ],
   "source": [
    "x_hat=newton_multi(init, minimizer_4, grad_problem_4, hessian_problem_4)\n",
    "pd.DataFrame(data={'approximated minimizer': x_hat[:,0], 'real minimizer': minimizer_4[:,0]})"
   ]
  },
  {
   "cell_type": "markdown",
   "metadata": {
    "id": "Dc9qnmKYmXnh"
   },
   "source": [
    "### #5"
   ]
  },
  {
   "cell_type": "code",
   "execution_count": 31,
   "metadata": {
    "colab": {
     "base_uri": "https://localhost:8080/",
     "height": 424
    },
    "id": "SRCaMNXimXnh",
    "outputId": "83e140d6-4652-4081-b570-bdfd432f6986"
   },
   "outputs": [
    {
     "name": "stdout",
     "output_type": "stream",
     "text": [
      "performed 2 iterations. Final norm of gradient: 2.542769483273375e-11\n",
      "--- 0.000499725341796875 seconds ---\n"
     ]
    },
    {
     "data": {
      "text/html": [
       "<div>\n",
       "<style scoped>\n",
       "    .dataframe tbody tr th:only-of-type {\n",
       "        vertical-align: middle;\n",
       "    }\n",
       "\n",
       "    .dataframe tbody tr th {\n",
       "        vertical-align: top;\n",
       "    }\n",
       "\n",
       "    .dataframe thead th {\n",
       "        text-align: right;\n",
       "    }\n",
       "</style>\n",
       "<table border=\"1\" class=\"dataframe\">\n",
       "  <thead>\n",
       "    <tr style=\"text-align: right;\">\n",
       "      <th></th>\n",
       "      <th>approximated minimizer</th>\n",
       "      <th>real minimizer</th>\n",
       "    </tr>\n",
       "  </thead>\n",
       "  <tbody>\n",
       "    <tr>\n",
       "      <th>0</th>\n",
       "      <td>9.000000e+00</td>\n",
       "      <td>9</td>\n",
       "    </tr>\n",
       "    <tr>\n",
       "      <th>1</th>\n",
       "      <td>3.000000e+00</td>\n",
       "      <td>3</td>\n",
       "    </tr>\n",
       "    <tr>\n",
       "      <th>2</th>\n",
       "      <td>4.000000e+00</td>\n",
       "      <td>4</td>\n",
       "    </tr>\n",
       "    <tr>\n",
       "      <th>3</th>\n",
       "      <td>-3.410605e-13</td>\n",
       "      <td>0</td>\n",
       "    </tr>\n",
       "    <tr>\n",
       "      <th>4</th>\n",
       "      <td>9.000000e+00</td>\n",
       "      <td>9</td>\n",
       "    </tr>\n",
       "    <tr>\n",
       "      <th>5</th>\n",
       "      <td>1.000000e+00</td>\n",
       "      <td>1</td>\n",
       "    </tr>\n",
       "    <tr>\n",
       "      <th>6</th>\n",
       "      <td>9.000000e+00</td>\n",
       "      <td>9</td>\n",
       "    </tr>\n",
       "    <tr>\n",
       "      <th>7</th>\n",
       "      <td>1.000000e+00</td>\n",
       "      <td>1</td>\n",
       "    </tr>\n",
       "    <tr>\n",
       "      <th>8</th>\n",
       "      <td>4.000000e+00</td>\n",
       "      <td>4</td>\n",
       "    </tr>\n",
       "    <tr>\n",
       "      <th>9</th>\n",
       "      <td>1.000000e+00</td>\n",
       "      <td>1</td>\n",
       "    </tr>\n",
       "    <tr>\n",
       "      <th>10</th>\n",
       "      <td>8.000000e+00</td>\n",
       "      <td>8</td>\n",
       "    </tr>\n",
       "  </tbody>\n",
       "</table>\n",
       "</div>"
      ],
      "text/plain": [
       "    approximated minimizer  real minimizer\n",
       "0             9.000000e+00               9\n",
       "1             3.000000e+00               3\n",
       "2             4.000000e+00               4\n",
       "3            -3.410605e-13               0\n",
       "4             9.000000e+00               9\n",
       "5             1.000000e+00               1\n",
       "6             9.000000e+00               9\n",
       "7             1.000000e+00               1\n",
       "8             4.000000e+00               4\n",
       "9             1.000000e+00               1\n",
       "10            8.000000e+00               8"
      ]
     },
     "execution_count": 31,
     "metadata": {},
     "output_type": "execute_result"
    }
   ],
   "source": [
    "x_hat=newton_multi(init, minimizer_5, grad_problem_5, hessian_problem_5)\n",
    "pd.DataFrame(data={'approximated minimizer': x_hat[:,0], 'real minimizer': minimizer_5[:,0]})"
   ]
  },
  {
   "cell_type": "markdown",
   "metadata": {
    "id": "dgG_GUwXmXnh"
   },
   "source": [
    "### #6"
   ]
  },
  {
   "cell_type": "code",
   "execution_count": 32,
   "metadata": {
    "colab": {
     "base_uri": "https://localhost:8080/"
    },
    "id": "kfnVvgWxmXni",
    "outputId": "0ee9e43e-9c1c-40a5-bc7f-133e03040ab1"
   },
   "outputs": [
    {
     "name": "stdout",
     "output_type": "stream",
     "text": [
      "performed 8 iterations. Final derivative: -0.0\n",
      "--- 0.0 seconds ---\n",
      "estimated minimizer: 20.0\n",
      "real minimizers: [  1  20 300]\n"
     ]
    }
   ],
   "source": [
    "x_hat=newton_uni(100, abc_6, derivative_problem_6, second_derivative_problem_6)\n",
    "print(\"estimated minimizer: \" + str(x_hat))\n",
    "print(\"real minimizers: \" + str(abc_6))"
   ]
  },
  {
   "cell_type": "markdown",
   "metadata": {
    "id": "3GX_3Nh9mXni"
   },
   "source": [
    "### #7"
   ]
  },
  {
   "cell_type": "code",
   "execution_count": 33,
   "metadata": {
    "colab": {
     "base_uri": "https://localhost:8080/"
    },
    "id": "HXMel-9FmXni",
    "outputId": "3032cca5-240c-4263-be33-ebf3b33222fa"
   },
   "outputs": [
    {
     "name": "stdout",
     "output_type": "stream",
     "text": [
      "performed 7 iterations. Final derivative: -0.0\n",
      "--- 0.0005004405975341797 seconds ---\n",
      "estimated minimizer: 50.0\n",
      "real minimizers: [  4  50 600]\n"
     ]
    }
   ],
   "source": [
    "x_hat=newton_uni(100, abc_7, derivative_problem_7, second_derivative_problem_7)\n",
    "print(\"estimated minimizer: \" + str(x_hat))\n",
    "print(\"real minimizers: \" + str(abc_7))"
   ]
  },
  {
   "cell_type": "markdown",
   "metadata": {
    "id": "PD_DRGyHmXni"
   },
   "source": [
    "### #8"
   ]
  },
  {
   "cell_type": "code",
   "execution_count": 34,
   "metadata": {
    "colab": {
     "base_uri": "https://localhost:8080/"
    },
    "id": "JHvhHWHemXni",
    "outputId": "bf612cde-e47b-4086-ae42-b80e7ce9f3d2"
   },
   "outputs": [
    {
     "name": "stdout",
     "output_type": "stream",
     "text": [
      "performed 6 iterations. Final derivative: -0.0\n",
      "--- 0.0 seconds ---\n",
      "estimated minimizer: 80.0\n",
      "real minimizers: [  7  80 900]\n"
     ]
    }
   ],
   "source": [
    "x_hat=newton_uni(100, abc_8, derivative_problem_8, second_derivative_problem_8)\n",
    "print(\"estimated minimizer: \" + str(x_hat))\n",
    "print(\"real minimizers: \" + str(abc_8))"
   ]
  },
  {
   "cell_type": "markdown",
   "metadata": {
    "id": "q3a_EzpAmXni"
   },
   "source": [
    "### #9"
   ]
  },
  {
   "cell_type": "code",
   "execution_count": 35,
   "metadata": {
    "colab": {
     "base_uri": "https://localhost:8080/"
    },
    "id": "27FrvGqzmXnj",
    "outputId": "1395bff4-ea72-4164-cadb-5d1ff3e34183"
   },
   "outputs": [
    {
     "name": "stdout",
     "output_type": "stream",
     "text": [
      "performed 4 iterations. Final derivative: -0.0\n",
      "--- 0.0 seconds ---\n",
      "estimated minimizer: 100.0\n",
      "real minimizers: [  1 100 200]\n"
     ]
    }
   ],
   "source": [
    "x_hat=newton_uni(90, abc_9, derivative_problem_9, second_derivative_problem_9)\n",
    "print(\"estimated minimizer: \" + str(x_hat))\n",
    "print(\"real minimizers: \" + str(abc_9))"
   ]
  },
  {
   "cell_type": "markdown",
   "metadata": {
    "id": "Oopn4hPHmXnj"
   },
   "source": [
    "### #10"
   ]
  },
  {
   "cell_type": "code",
   "execution_count": 36,
   "metadata": {
    "colab": {
     "base_uri": "https://localhost:8080/"
    },
    "id": "84mFr3vYmXnj",
    "outputId": "570e2edb-b582-4e95-cc8a-b5c6467f9317"
   },
   "outputs": [
    {
     "name": "stdout",
     "output_type": "stream",
     "text": [
      "performed 4 iterations. Final derivative: -2.803744791890528e-08\n",
      "--- 0.000499725341796875 seconds ---\n",
      "estimated minimizer: 119.99999999999703\n",
      "real minimizers: [  2 120 200]\n"
     ]
    }
   ],
   "source": [
    "x_hat=newton_uni(100, abc_10, derivative_problem_10, second_derivative_problem_10)\n",
    "print(\"estimated minimizer: \" + str(x_hat))\n",
    "print(\"real minimizers: \" + str(abc_10))"
   ]
  },
  {
   "cell_type": "markdown",
   "metadata": {
    "id": "AAdV93h8mXnj"
   },
   "source": [
    "## Conjugate gradient method (Fletcher-Reeves)"
   ]
  },
  {
   "cell_type": "code",
   "execution_count": 37,
   "metadata": {
    "id": "KDoIcLxomXnj"
   },
   "outputs": [],
   "source": [
    "def fn_wrapper(fn, x0, p):\n",
    "    # returns the function which only depends on alpha.\n",
    "    return lambda alpha: fn(x0 + alpha * p)\n",
    "\n",
    "def grad_wrapper(grad_fn, x0, p):\n",
    "    # returns the derivative of the function which only depends on alpha.\n",
    "    return lambda alpha: p.T @ grad_fn(x0 + alpha * p)\n",
    "\n",
    "# 3.5\n",
    "def line_search_wolfe(fn, grad_fn, c1, c2, alpha_max):\n",
    "    alphas = []\n",
    "    alphas.append(0)\n",
    "    # choose next alpha to be between 0 and alpha max\n",
    "    alphas.append(alpha_max/2)   \n",
    "    \n",
    "    i = 1\n",
    "    \n",
    "    while True:\n",
    "        fn_alpha_i = fn(alphas[i])\n",
    "\n",
    "        if fn_alpha_i > (fn(0)+c1*alphas[i]*grad_fn(0) or (fn_alpha_i >= fn(alphas[i-1]) and i>1)):\n",
    "            return zoom(alphas[i-1], alphas[i], c1, c2, fn, grad_fn)\n",
    "\n",
    "        grad_fn_alpha_i = grad_fn(alphas[i])\n",
    "        if abs(grad_fn_alpha_i) <= -c2*grad_fn(0):\n",
    "            return alphas[i]\n",
    "        \n",
    "        if grad_fn_alpha_i >= 0:\n",
    "            return zoom(alphas[i], alphas[i-1], c1, c2, fn, grad_fn)\n",
    "                         \n",
    "        # choose next alpha to be between alpha_i and alpha max\n",
    "        if (alphas[i]*1.1 < alpha_max):\n",
    "            alphas.append(alphas[i]*1.1)\n",
    "        else:\n",
    "            break\n",
    "    \n",
    "        i += 1\n",
    "                       \n",
    "# 3.6\n",
    "def zoom(alpha_lo, alpha_hi, c1, c2, fn, grad_fn):\n",
    "    while True:\n",
    "        # quadratic interpolation to find a trial step length alpha_j between alpha_lo and alpha_hi\n",
    "        alpha_j = (grad_fn(0)*alpha_lo**2)/(2*(fn(alpha_lo)-fn(0)-grad_fn(0)*alpha_lo))\n",
    "\n",
    "        fn_alpha_j = fn(alpha_j)\n",
    "\n",
    "        if fn_alpha_j > fn(0) + c1*alpha_j*grad_fn(0) or fn_alpha_j >= fn(alpha_lo):\n",
    "            alpha_hi = alpha_j\n",
    "\n",
    "        else:\n",
    "            grad_fn_alpha_j = grad_fn(alpha_j)\n",
    "            if abs(grad_fn_alpha_j) <= -c2*grad_fn(0):\n",
    "                return alpha_j\n",
    "            if grad_fn_alpha_j * (alpha_hi - alpha_lo) >= 0:\n",
    "                alpha_hi = alpha_lo\n",
    "            alpha_lo = alpha_j\n",
    "\n",
    "\n",
    "# simpler wolfe condition search\n",
    "def wolfe(x0, p_k, fn, gradient_fn, rho, sigma, gama):\n",
    "    m = 0\n",
    "    mk = 0\n",
    "    gk = gradient_fn(x0)\n",
    "    while m < 20:\n",
    "        gk1 = gradient_fn(x0 + rho**m*p_k)\n",
    "        if fn(x0+rho**m*p_k) < fn(x0)+sigma*rho**m*np.dot(gk.T,p_k) and np.dot(gk1.T, p_k) >=  gama*np.dot(gk.T,p_k):\n",
    "            mk = m\n",
    "            break\n",
    "        m += 1\n",
    "    return rho**mk "
   ]
  },
  {
   "cell_type": "code",
   "execution_count": 38,
   "metadata": {
    "id": "U5pgqAYemXnk"
   },
   "outputs": [],
   "source": [
    "def wolfe(x0, p_k, fn, gradient_fn, rho, sigma, gama):\n",
    "    m = 0\n",
    "    mk = 0\n",
    "    gk = gradient_fn(x0)\n",
    "    while m < 20:\n",
    "        gk1 = gradient_fn(x0 + rho**m*p_k)\n",
    "        if fn(x0+rho**m*p_k) < fn(x0)+sigma*rho**m*np.dot(gk.T,p_k) and np.dot(gk1.T, p_k) >=  gama*np.dot(gk.T,p_k):\n",
    "            mk = m\n",
    "            break\n",
    "        m += 1\n",
    "    return rho**mk \n",
    "\n",
    "def cgm(xk, fn, gradient_fn, max_steps=1e3, epsilon=1e-2):\n",
    "    start_time = time.time()\n",
    "    grad_f_k = gradient_fn(xk)\n",
    "    p_k = - grad_f_k\n",
    "        \n",
    "    k=0\n",
    "    while np.any(grad_f_k):\n",
    "        # do line-search\n",
    "        alpha = wolfe(xk, p_k, fn, gradient_fn, 0.55, 0.55, 0.75)\n",
    "                \n",
    "        if stopping_criteria(alpha, k, epsilon, max_steps):\n",
    "          break\n",
    "        \n",
    "        xk = xk + alpha * p_k\n",
    "                \n",
    "        # fletcher-reeves\n",
    "        grad_f_k_next = gradient_fn(xk)\n",
    "        beta = (grad_f_k_next.T @ grad_f_k_next) / (grad_f_k.T @ grad_f_k)\n",
    "        # new search direction\n",
    "        p_k = (-grad_f_k_next) + beta * p_k\n",
    "        grad_f_k = grad_f_k_next\n",
    "        k+=1\n",
    "    \n",
    "    print(\"performed \" + str(k+1) + \" iterations.\")\n",
    "    print(\"--- %s seconds ---\" % (time.time() - start_time))\n",
    "    return xk"
   ]
  },
  {
   "cell_type": "markdown",
   "metadata": {
    "id": "FBKTYJTrmXnl"
   },
   "source": [
    "### #1"
   ]
  },
  {
   "cell_type": "code",
   "execution_count": 39,
   "metadata": {
    "colab": {
     "base_uri": "https://localhost:8080/",
     "height": 424
    },
    "id": "t7mJk84YmXnl",
    "outputId": "598b9208-8a6f-42dc-e80a-2f234674f1bc"
   },
   "outputs": [
    {
     "name": "stdout",
     "output_type": "stream",
     "text": [
      "performed 147 iterations.\n",
      "--- 0.03653097152709961 seconds ---\n"
     ]
    },
    {
     "data": {
      "text/html": [
       "<div>\n",
       "<style scoped>\n",
       "    .dataframe tbody tr th:only-of-type {\n",
       "        vertical-align: middle;\n",
       "    }\n",
       "\n",
       "    .dataframe tbody tr th {\n",
       "        vertical-align: top;\n",
       "    }\n",
       "\n",
       "    .dataframe thead th {\n",
       "        text-align: right;\n",
       "    }\n",
       "</style>\n",
       "<table border=\"1\" class=\"dataframe\">\n",
       "  <thead>\n",
       "    <tr style=\"text-align: right;\">\n",
       "      <th></th>\n",
       "      <th>approximated minimizer</th>\n",
       "      <th>real minimizer</th>\n",
       "    </tr>\n",
       "  </thead>\n",
       "  <tbody>\n",
       "    <tr>\n",
       "      <th>0</th>\n",
       "      <td>4.999862</td>\n",
       "      <td>5</td>\n",
       "    </tr>\n",
       "    <tr>\n",
       "      <th>1</th>\n",
       "      <td>0.000091</td>\n",
       "      <td>0</td>\n",
       "    </tr>\n",
       "    <tr>\n",
       "      <th>2</th>\n",
       "      <td>3.000005</td>\n",
       "      <td>3</td>\n",
       "    </tr>\n",
       "    <tr>\n",
       "      <th>3</th>\n",
       "      <td>3.000047</td>\n",
       "      <td>3</td>\n",
       "    </tr>\n",
       "    <tr>\n",
       "      <th>4</th>\n",
       "      <td>6.999953</td>\n",
       "      <td>7</td>\n",
       "    </tr>\n",
       "    <tr>\n",
       "      <th>5</th>\n",
       "      <td>9.000138</td>\n",
       "      <td>9</td>\n",
       "    </tr>\n",
       "    <tr>\n",
       "      <th>6</th>\n",
       "      <td>2.999957</td>\n",
       "      <td>3</td>\n",
       "    </tr>\n",
       "    <tr>\n",
       "      <th>7</th>\n",
       "      <td>5.000058</td>\n",
       "      <td>5</td>\n",
       "    </tr>\n",
       "    <tr>\n",
       "      <th>8</th>\n",
       "      <td>2.000021</td>\n",
       "      <td>2</td>\n",
       "    </tr>\n",
       "    <tr>\n",
       "      <th>9</th>\n",
       "      <td>3.999952</td>\n",
       "      <td>4</td>\n",
       "    </tr>\n",
       "    <tr>\n",
       "      <th>10</th>\n",
       "      <td>7.000022</td>\n",
       "      <td>7</td>\n",
       "    </tr>\n",
       "  </tbody>\n",
       "</table>\n",
       "</div>"
      ],
      "text/plain": [
       "    approximated minimizer  real minimizer\n",
       "0                 4.999862               5\n",
       "1                 0.000091               0\n",
       "2                 3.000005               3\n",
       "3                 3.000047               3\n",
       "4                 6.999953               7\n",
       "5                 9.000138               9\n",
       "6                 2.999957               3\n",
       "7                 5.000058               5\n",
       "8                 2.000021               2\n",
       "9                 3.999952               4\n",
       "10                7.000022               7"
      ]
     },
     "execution_count": 39,
     "metadata": {},
     "output_type": "execute_result"
    }
   ],
   "source": [
    "x_hat = cgm(init, problem_1, grad_problem_1)\n",
    "pd.DataFrame(data={'approximated minimizer': x_hat[:,0], 'real minimizer': minimizer_1[:,0]})"
   ]
  },
  {
   "cell_type": "markdown",
   "metadata": {
    "id": "ldtwO_-VmXnl"
   },
   "source": [
    "### #2"
   ]
  },
  {
   "cell_type": "code",
   "execution_count": 40,
   "metadata": {
    "colab": {
     "base_uri": "https://localhost:8080/",
     "height": 424
    },
    "id": "SbDGwuuqmXnl",
    "outputId": "e66939ac-3d64-4da3-e2ec-9982d1412956"
   },
   "outputs": [
    {
     "name": "stdout",
     "output_type": "stream",
     "text": [
      "performed 104 iterations.\n",
      "--- 0.026522397994995117 seconds ---\n"
     ]
    },
    {
     "data": {
      "text/html": [
       "<div>\n",
       "<style scoped>\n",
       "    .dataframe tbody tr th:only-of-type {\n",
       "        vertical-align: middle;\n",
       "    }\n",
       "\n",
       "    .dataframe tbody tr th {\n",
       "        vertical-align: top;\n",
       "    }\n",
       "\n",
       "    .dataframe thead th {\n",
       "        text-align: right;\n",
       "    }\n",
       "</style>\n",
       "<table border=\"1\" class=\"dataframe\">\n",
       "  <thead>\n",
       "    <tr style=\"text-align: right;\">\n",
       "      <th></th>\n",
       "      <th>approximated minimizer</th>\n",
       "      <th>real minimizer</th>\n",
       "    </tr>\n",
       "  </thead>\n",
       "  <tbody>\n",
       "    <tr>\n",
       "      <th>0</th>\n",
       "      <td>7.994133</td>\n",
       "      <td>8</td>\n",
       "    </tr>\n",
       "    <tr>\n",
       "      <th>1</th>\n",
       "      <td>8.004458</td>\n",
       "      <td>8</td>\n",
       "    </tr>\n",
       "    <tr>\n",
       "      <th>2</th>\n",
       "      <td>5.992062</td>\n",
       "      <td>6</td>\n",
       "    </tr>\n",
       "    <tr>\n",
       "      <th>3</th>\n",
       "      <td>1.985879</td>\n",
       "      <td>2</td>\n",
       "    </tr>\n",
       "    <tr>\n",
       "      <th>4</th>\n",
       "      <td>7.997655</td>\n",
       "      <td>8</td>\n",
       "    </tr>\n",
       "    <tr>\n",
       "      <th>5</th>\n",
       "      <td>7.005484</td>\n",
       "      <td>7</td>\n",
       "    </tr>\n",
       "    <tr>\n",
       "      <th>6</th>\n",
       "      <td>2.003107</td>\n",
       "      <td>2</td>\n",
       "    </tr>\n",
       "    <tr>\n",
       "      <th>7</th>\n",
       "      <td>1.012303</td>\n",
       "      <td>1</td>\n",
       "    </tr>\n",
       "    <tr>\n",
       "      <th>8</th>\n",
       "      <td>4.998730</td>\n",
       "      <td>5</td>\n",
       "    </tr>\n",
       "    <tr>\n",
       "      <th>9</th>\n",
       "      <td>4.003663</td>\n",
       "      <td>4</td>\n",
       "    </tr>\n",
       "    <tr>\n",
       "      <th>10</th>\n",
       "      <td>4.002813</td>\n",
       "      <td>4</td>\n",
       "    </tr>\n",
       "  </tbody>\n",
       "</table>\n",
       "</div>"
      ],
      "text/plain": [
       "    approximated minimizer  real minimizer\n",
       "0                 7.994133               8\n",
       "1                 8.004458               8\n",
       "2                 5.992062               6\n",
       "3                 1.985879               2\n",
       "4                 7.997655               8\n",
       "5                 7.005484               7\n",
       "6                 2.003107               2\n",
       "7                 1.012303               1\n",
       "8                 4.998730               5\n",
       "9                 4.003663               4\n",
       "10                4.002813               4"
      ]
     },
     "execution_count": 40,
     "metadata": {},
     "output_type": "execute_result"
    }
   ],
   "source": [
    "x_hat = cgm(init, problem_2, grad_problem_2)\n",
    "pd.DataFrame(data={'approximated minimizer': x_hat[:,0], 'real minimizer': minimizer_2[:,0]})"
   ]
  },
  {
   "cell_type": "markdown",
   "metadata": {
    "id": "4U_SVypemXnl"
   },
   "source": [
    "### #3"
   ]
  },
  {
   "cell_type": "code",
   "execution_count": 41,
   "metadata": {
    "colab": {
     "base_uri": "https://localhost:8080/",
     "height": 424
    },
    "id": "l7LgxGjtmXnl",
    "outputId": "b3117727-4054-4bf4-e0ad-a5f2fdcbf3af"
   },
   "outputs": [
    {
     "name": "stdout",
     "output_type": "stream",
     "text": [
      "performed 229 iterations.\n",
      "--- 0.05554699897766113 seconds ---\n"
     ]
    },
    {
     "data": {
      "text/html": [
       "<div>\n",
       "<style scoped>\n",
       "    .dataframe tbody tr th:only-of-type {\n",
       "        vertical-align: middle;\n",
       "    }\n",
       "\n",
       "    .dataframe tbody tr th {\n",
       "        vertical-align: top;\n",
       "    }\n",
       "\n",
       "    .dataframe thead th {\n",
       "        text-align: right;\n",
       "    }\n",
       "</style>\n",
       "<table border=\"1\" class=\"dataframe\">\n",
       "  <thead>\n",
       "    <tr style=\"text-align: right;\">\n",
       "      <th></th>\n",
       "      <th>approximated minimizer</th>\n",
       "      <th>real minimizer</th>\n",
       "    </tr>\n",
       "  </thead>\n",
       "  <tbody>\n",
       "    <tr>\n",
       "      <th>0</th>\n",
       "      <td>7.999972</td>\n",
       "      <td>8</td>\n",
       "    </tr>\n",
       "    <tr>\n",
       "      <th>1</th>\n",
       "      <td>8.999959</td>\n",
       "      <td>9</td>\n",
       "    </tr>\n",
       "    <tr>\n",
       "      <th>2</th>\n",
       "      <td>3.000052</td>\n",
       "      <td>3</td>\n",
       "    </tr>\n",
       "    <tr>\n",
       "      <th>3</th>\n",
       "      <td>8.000004</td>\n",
       "      <td>8</td>\n",
       "    </tr>\n",
       "    <tr>\n",
       "      <th>4</th>\n",
       "      <td>8.000035</td>\n",
       "      <td>8</td>\n",
       "    </tr>\n",
       "    <tr>\n",
       "      <th>5</th>\n",
       "      <td>0.000062</td>\n",
       "      <td>0</td>\n",
       "    </tr>\n",
       "    <tr>\n",
       "      <th>6</th>\n",
       "      <td>5.000030</td>\n",
       "      <td>5</td>\n",
       "    </tr>\n",
       "    <tr>\n",
       "      <th>7</th>\n",
       "      <td>2.999964</td>\n",
       "      <td>3</td>\n",
       "    </tr>\n",
       "    <tr>\n",
       "      <th>8</th>\n",
       "      <td>8.999974</td>\n",
       "      <td>9</td>\n",
       "    </tr>\n",
       "    <tr>\n",
       "      <th>9</th>\n",
       "      <td>8.999995</td>\n",
       "      <td>9</td>\n",
       "    </tr>\n",
       "    <tr>\n",
       "      <th>10</th>\n",
       "      <td>4.999894</td>\n",
       "      <td>5</td>\n",
       "    </tr>\n",
       "  </tbody>\n",
       "</table>\n",
       "</div>"
      ],
      "text/plain": [
       "    approximated minimizer  real minimizer\n",
       "0                 7.999972               8\n",
       "1                 8.999959               9\n",
       "2                 3.000052               3\n",
       "3                 8.000004               8\n",
       "4                 8.000035               8\n",
       "5                 0.000062               0\n",
       "6                 5.000030               5\n",
       "7                 2.999964               3\n",
       "8                 8.999974               9\n",
       "9                 8.999995               9\n",
       "10                4.999894               5"
      ]
     },
     "execution_count": 41,
     "metadata": {},
     "output_type": "execute_result"
    }
   ],
   "source": [
    "x_hat = cgm(init, problem_3, grad_problem_3)\n",
    "pd.DataFrame(data={'approximated minimizer': x_hat[:,0], 'real minimizer': minimizer_3[:,0]})"
   ]
  },
  {
   "cell_type": "markdown",
   "metadata": {
    "id": "DWv7yt-PmXnm"
   },
   "source": [
    "### #4"
   ]
  },
  {
   "cell_type": "code",
   "execution_count": 42,
   "metadata": {
    "colab": {
     "base_uri": "https://localhost:8080/",
     "height": 424
    },
    "id": "AQ6kXaI0mXnm",
    "outputId": "3c20174c-7fa3-46ef-c9f8-b91288e76c08"
   },
   "outputs": [
    {
     "name": "stdout",
     "output_type": "stream",
     "text": [
      "performed 79 iterations.\n",
      "--- 0.021519184112548828 seconds ---\n"
     ]
    },
    {
     "data": {
      "text/html": [
       "<div>\n",
       "<style scoped>\n",
       "    .dataframe tbody tr th:only-of-type {\n",
       "        vertical-align: middle;\n",
       "    }\n",
       "\n",
       "    .dataframe tbody tr th {\n",
       "        vertical-align: top;\n",
       "    }\n",
       "\n",
       "    .dataframe thead th {\n",
       "        text-align: right;\n",
       "    }\n",
       "</style>\n",
       "<table border=\"1\" class=\"dataframe\">\n",
       "  <thead>\n",
       "    <tr style=\"text-align: right;\">\n",
       "      <th></th>\n",
       "      <th>approximated minimizer</th>\n",
       "      <th>real minimizer</th>\n",
       "    </tr>\n",
       "  </thead>\n",
       "  <tbody>\n",
       "    <tr>\n",
       "      <th>0</th>\n",
       "      <td>7.007495</td>\n",
       "      <td>7</td>\n",
       "    </tr>\n",
       "    <tr>\n",
       "      <th>1</th>\n",
       "      <td>4.991042</td>\n",
       "      <td>5</td>\n",
       "    </tr>\n",
       "    <tr>\n",
       "      <th>2</th>\n",
       "      <td>0.996860</td>\n",
       "      <td>1</td>\n",
       "    </tr>\n",
       "    <tr>\n",
       "      <th>3</th>\n",
       "      <td>8.008054</td>\n",
       "      <td>8</td>\n",
       "    </tr>\n",
       "    <tr>\n",
       "      <th>4</th>\n",
       "      <td>7.007733</td>\n",
       "      <td>7</td>\n",
       "    </tr>\n",
       "    <tr>\n",
       "      <th>5</th>\n",
       "      <td>7.978882</td>\n",
       "      <td>8</td>\n",
       "    </tr>\n",
       "    <tr>\n",
       "      <th>6</th>\n",
       "      <td>2.003230</td>\n",
       "      <td>2</td>\n",
       "    </tr>\n",
       "    <tr>\n",
       "      <th>7</th>\n",
       "      <td>9.001003</td>\n",
       "      <td>9</td>\n",
       "    </tr>\n",
       "    <tr>\n",
       "      <th>8</th>\n",
       "      <td>7.007780</td>\n",
       "      <td>7</td>\n",
       "    </tr>\n",
       "    <tr>\n",
       "      <th>9</th>\n",
       "      <td>7.016591</td>\n",
       "      <td>7</td>\n",
       "    </tr>\n",
       "    <tr>\n",
       "      <th>10</th>\n",
       "      <td>6.990978</td>\n",
       "      <td>7</td>\n",
       "    </tr>\n",
       "  </tbody>\n",
       "</table>\n",
       "</div>"
      ],
      "text/plain": [
       "    approximated minimizer  real minimizer\n",
       "0                 7.007495               7\n",
       "1                 4.991042               5\n",
       "2                 0.996860               1\n",
       "3                 8.008054               8\n",
       "4                 7.007733               7\n",
       "5                 7.978882               8\n",
       "6                 2.003230               2\n",
       "7                 9.001003               9\n",
       "8                 7.007780               7\n",
       "9                 7.016591               7\n",
       "10                6.990978               7"
      ]
     },
     "execution_count": 42,
     "metadata": {},
     "output_type": "execute_result"
    }
   ],
   "source": [
    "x_hat = cgm(init, problem_4, grad_problem_4)\n",
    "pd.DataFrame(data={'approximated minimizer': x_hat[:,0], 'real minimizer': minimizer_4[:,0]})"
   ]
  },
  {
   "cell_type": "markdown",
   "metadata": {
    "id": "Pre-2fphmXnm"
   },
   "source": [
    "### #5"
   ]
  },
  {
   "cell_type": "code",
   "execution_count": 43,
   "metadata": {
    "colab": {
     "base_uri": "https://localhost:8080/",
     "height": 424
    },
    "id": "92XxnNDvmXnm",
    "outputId": "d01d9fdb-6b22-402c-f82e-58b024a5fa34"
   },
   "outputs": [
    {
     "name": "stdout",
     "output_type": "stream",
     "text": [
      "performed 129 iterations.\n",
      "--- 0.032527923583984375 seconds ---\n"
     ]
    },
    {
     "data": {
      "text/html": [
       "<div>\n",
       "<style scoped>\n",
       "    .dataframe tbody tr th:only-of-type {\n",
       "        vertical-align: middle;\n",
       "    }\n",
       "\n",
       "    .dataframe tbody tr th {\n",
       "        vertical-align: top;\n",
       "    }\n",
       "\n",
       "    .dataframe thead th {\n",
       "        text-align: right;\n",
       "    }\n",
       "</style>\n",
       "<table border=\"1\" class=\"dataframe\">\n",
       "  <thead>\n",
       "    <tr style=\"text-align: right;\">\n",
       "      <th></th>\n",
       "      <th>approximated minimizer</th>\n",
       "      <th>real minimizer</th>\n",
       "    </tr>\n",
       "  </thead>\n",
       "  <tbody>\n",
       "    <tr>\n",
       "      <th>0</th>\n",
       "      <td>8.996667</td>\n",
       "      <td>9</td>\n",
       "    </tr>\n",
       "    <tr>\n",
       "      <th>1</th>\n",
       "      <td>3.003205</td>\n",
       "      <td>3</td>\n",
       "    </tr>\n",
       "    <tr>\n",
       "      <th>2</th>\n",
       "      <td>4.004251</td>\n",
       "      <td>4</td>\n",
       "    </tr>\n",
       "    <tr>\n",
       "      <th>3</th>\n",
       "      <td>-0.003377</td>\n",
       "      <td>0</td>\n",
       "    </tr>\n",
       "    <tr>\n",
       "      <th>4</th>\n",
       "      <td>8.997225</td>\n",
       "      <td>9</td>\n",
       "    </tr>\n",
       "    <tr>\n",
       "      <th>5</th>\n",
       "      <td>1.002900</td>\n",
       "      <td>1</td>\n",
       "    </tr>\n",
       "    <tr>\n",
       "      <th>6</th>\n",
       "      <td>8.998977</td>\n",
       "      <td>9</td>\n",
       "    </tr>\n",
       "    <tr>\n",
       "      <th>7</th>\n",
       "      <td>0.998100</td>\n",
       "      <td>1</td>\n",
       "    </tr>\n",
       "    <tr>\n",
       "      <th>8</th>\n",
       "      <td>4.003032</td>\n",
       "      <td>4</td>\n",
       "    </tr>\n",
       "    <tr>\n",
       "      <th>9</th>\n",
       "      <td>1.000733</td>\n",
       "      <td>1</td>\n",
       "    </tr>\n",
       "    <tr>\n",
       "      <th>10</th>\n",
       "      <td>7.998021</td>\n",
       "      <td>8</td>\n",
       "    </tr>\n",
       "  </tbody>\n",
       "</table>\n",
       "</div>"
      ],
      "text/plain": [
       "    approximated minimizer  real minimizer\n",
       "0                 8.996667               9\n",
       "1                 3.003205               3\n",
       "2                 4.004251               4\n",
       "3                -0.003377               0\n",
       "4                 8.997225               9\n",
       "5                 1.002900               1\n",
       "6                 8.998977               9\n",
       "7                 0.998100               1\n",
       "8                 4.003032               4\n",
       "9                 1.000733               1\n",
       "10                7.998021               8"
      ]
     },
     "execution_count": 43,
     "metadata": {},
     "output_type": "execute_result"
    }
   ],
   "source": [
    "x_hat = cgm(init, problem_5, grad_problem_5)\n",
    "pd.DataFrame(data={'approximated minimizer': x_hat[:,0], 'real minimizer': minimizer_5[:,0]})"
   ]
  },
  {
   "cell_type": "markdown",
   "metadata": {
    "id": "2b8x_o81mXnm"
   },
   "source": [
    "### #6"
   ]
  },
  {
   "cell_type": "code",
   "execution_count": 44,
   "metadata": {
    "colab": {
     "base_uri": "https://localhost:8080/"
    },
    "id": "y1Nk0_l6mXnm",
    "outputId": "ae41fb36-d407-4ff5-c5ce-1fbab9b5bc26"
   },
   "outputs": [
    {
     "name": "stdout",
     "output_type": "stream",
     "text": [
      "performed 11 iterations.\n",
      "--- 0.009007453918457031 seconds ---\n",
      "estimated minimizer: 20.0100901286198\n",
      "real minimizers: [  1  20 300]\n"
     ]
    }
   ],
   "source": [
    "x_hat = cgm(np.array([[100]], dtype=float), problem_6,  derivative_problem_6, epsilon=1e-5, max_steps=10)\n",
    "print(\"estimated minimizer: \" + str(x_hat[0][0]))\n",
    "print(\"real minimizers: \" + str(abc_6))"
   ]
  },
  {
   "cell_type": "markdown",
   "metadata": {
    "id": "sFplb0dUmXnn"
   },
   "source": [
    "### #7"
   ]
  },
  {
   "cell_type": "code",
   "execution_count": 45,
   "metadata": {
    "colab": {
     "base_uri": "https://localhost:8080/"
    },
    "id": "tOGw7UdemXnn",
    "outputId": "022ba412-11af-4f4e-8345-8ff9bc5d285d"
   },
   "outputs": [
    {
     "name": "stdout",
     "output_type": "stream",
     "text": [
      "performed 11 iterations.\n",
      "--- 0.010008573532104492 seconds ---\n",
      "estimated minimizer: 50.02040272108623\n",
      "real minimizers: [  4  50 600]\n"
     ]
    }
   ],
   "source": [
    "x_hat = cgm(np.array([[100]], dtype=float), problem_7,  derivative_problem_7, epsilon=1e-5, max_steps=10)\n",
    "print(\"estimated minimizer: \" + str(x_hat[0][0]))\n",
    "print(\"real minimizers: \" + str(abc_7))"
   ]
  },
  {
   "cell_type": "markdown",
   "metadata": {
    "id": "tZMazBj0mXnn"
   },
   "source": [
    "### #8"
   ]
  },
  {
   "cell_type": "code",
   "execution_count": 46,
   "metadata": {
    "colab": {
     "base_uri": "https://localhost:8080/"
    },
    "id": "-HaK1zn2mXnn",
    "outputId": "95d45b8b-6b59-4c18-e1d0-b0201432ada5"
   },
   "outputs": [
    {
     "name": "stdout",
     "output_type": "stream",
     "text": [
      "performed 4 iterations.\n",
      "--- 0.004003286361694336 seconds ---\n",
      "estimated minimizer: 80.0299469108301\n",
      "real minimizers: [  7  80 900]\n"
     ]
    }
   ],
   "source": [
    "x_hat = cgm(np.array([[85]], dtype=float), problem_8,  derivative_problem_8, epsilon=1e-5, max_steps=3)\n",
    "print(\"estimated minimizer: \" + str(x_hat[0][0]))\n",
    "print(\"real minimizers: \" + str(abc_8))"
   ]
  },
  {
   "cell_type": "markdown",
   "metadata": {
    "id": "Uzf8F5kQmXnn"
   },
   "source": [
    "### #9"
   ]
  },
  {
   "cell_type": "code",
   "execution_count": 47,
   "metadata": {
    "colab": {
     "base_uri": "https://localhost:8080/"
    },
    "id": "Coyt470imXnn",
    "outputId": "d069b69a-ec23-4d11-9d71-53d52e9231d8"
   },
   "outputs": [
    {
     "name": "stdout",
     "output_type": "stream",
     "text": [
      "performed 11 iterations.\n",
      "--- 0.00900721549987793 seconds ---\n",
      "estimated minimizer: 99.99673530443374\n",
      "real minimizers: [  1 100 200]\n"
     ]
    }
   ],
   "source": [
    "x_hat = cgm(np.array([[60]], dtype=float), problem_9,  derivative_problem_9, epsilon=1e-5, max_steps=10)\n",
    "print(\"estimated minimizer: \" + str(x_hat[0][0]))\n",
    "print(\"real minimizers: \" + str(abc_9))"
   ]
  },
  {
   "cell_type": "markdown",
   "metadata": {
    "id": "AqzeNuoNmXno"
   },
   "source": [
    "### #10"
   ]
  },
  {
   "cell_type": "code",
   "execution_count": 48,
   "metadata": {
    "id": "oCr_7SQ2mXno",
    "outputId": "a754cf2a-dda6-486e-f608-24acb735e901"
   },
   "outputs": [
    {
     "name": "stdout",
     "output_type": "stream",
     "text": [
      "performed 6 iterations.\n",
      "--- 0.005004167556762695 seconds ---\n",
      "estimated minimizer: 119.99441628784149\n",
      "real minimizers: [  2 120 200]\n"
     ]
    }
   ],
   "source": [
    "x_hat = cgm(np.array([[100]], dtype=float), problem_10,  derivative_problem_10, epsilon=1e-5, max_steps=5)\n",
    "print(\"estimated minimizer: \" + str(x_hat[0][0]))\n",
    "print(\"real minimizers: \" + str(abc_10))"
   ]
  },
  {
   "cell_type": "markdown",
   "metadata": {
    "id": "rlFmBHkimXno"
   },
   "source": [
    "## Quasi-Newton"
   ]
  },
  {
   "cell_type": "code",
   "execution_count": 49,
   "metadata": {
    "id": "0nOuXsvNmXno"
   },
   "outputs": [],
   "source": [
    "def bfgs(x0, fn, gradient_fn, epsilon = 1e-5, max_steps=1e6):\n",
    "    start_time = time.time()\n",
    "    k = 0\n",
    "    n = np.shape(x0)[0]\n",
    "    Bk = np.eye(n)\n",
    "        \n",
    "    while True:\n",
    "        gk = gradient_fn(x0)\n",
    "        \n",
    "        if stopping_criteria(np.linalg.norm(gk), k, epsilon, max_steps):\n",
    "            break\n",
    "            \n",
    "        p_k = -1.0*np.linalg.solve(Bk,gk)\n",
    "        \n",
    "        alpha = wolfe(x0, p_k, fn, gradient_fn, 0.55, 0.4, 0.7)\n",
    "        \n",
    "        x = x0 + alpha*p_k\n",
    "        sk = x - x0\n",
    "        yk = gradient_fn(x) - gk   \n",
    "        \n",
    "        if sk.T@yk > 0:    \n",
    "            Bs = Bk@sk\n",
    "            ys = yk.T@sk\n",
    "            sBs = sk.T@Bk@sk\n",
    "            Bk = Bk-((Bs*sk.T@Bk)/sBs) + (yk*yk.T/ys)\n",
    "        k += 1\n",
    "        x0 = x\n",
    "    print(\"performed \" + str(k+1) + \" iterations.\")\n",
    "    print(\"--- %s seconds ---\" % (time.time() - start_time))\n",
    "    return x0"
   ]
  },
  {
   "cell_type": "markdown",
   "metadata": {
    "id": "ieTbV1DymXno"
   },
   "source": [
    "### #1"
   ]
  },
  {
   "cell_type": "code",
   "execution_count": 50,
   "metadata": {
    "colab": {
     "base_uri": "https://localhost:8080/",
     "height": 424
    },
    "id": "lhEPLz4lmXnp",
    "outputId": "5a73e87f-3d9f-4d15-dcde-029c9ddfa13b"
   },
   "outputs": [
    {
     "name": "stdout",
     "output_type": "stream",
     "text": [
      "performed 22 iterations.\n",
      "--- 0.003503084182739258 seconds ---\n"
     ]
    },
    {
     "data": {
      "text/html": [
       "<div>\n",
       "<style scoped>\n",
       "    .dataframe tbody tr th:only-of-type {\n",
       "        vertical-align: middle;\n",
       "    }\n",
       "\n",
       "    .dataframe tbody tr th {\n",
       "        vertical-align: top;\n",
       "    }\n",
       "\n",
       "    .dataframe thead th {\n",
       "        text-align: right;\n",
       "    }\n",
       "</style>\n",
       "<table border=\"1\" class=\"dataframe\">\n",
       "  <thead>\n",
       "    <tr style=\"text-align: right;\">\n",
       "      <th></th>\n",
       "      <th>approximated minimizer</th>\n",
       "      <th>real minimizer</th>\n",
       "    </tr>\n",
       "  </thead>\n",
       "  <tbody>\n",
       "    <tr>\n",
       "      <th>0</th>\n",
       "      <td>5.000005</td>\n",
       "      <td>5</td>\n",
       "    </tr>\n",
       "    <tr>\n",
       "      <th>1</th>\n",
       "      <td>-0.000009</td>\n",
       "      <td>0</td>\n",
       "    </tr>\n",
       "    <tr>\n",
       "      <th>2</th>\n",
       "      <td>2.999998</td>\n",
       "      <td>3</td>\n",
       "    </tr>\n",
       "    <tr>\n",
       "      <th>3</th>\n",
       "      <td>3.000001</td>\n",
       "      <td>3</td>\n",
       "    </tr>\n",
       "    <tr>\n",
       "      <th>4</th>\n",
       "      <td>7.000004</td>\n",
       "      <td>7</td>\n",
       "    </tr>\n",
       "    <tr>\n",
       "      <th>5</th>\n",
       "      <td>8.999988</td>\n",
       "      <td>9</td>\n",
       "    </tr>\n",
       "    <tr>\n",
       "      <th>6</th>\n",
       "      <td>3.000003</td>\n",
       "      <td>3</td>\n",
       "    </tr>\n",
       "    <tr>\n",
       "      <th>7</th>\n",
       "      <td>5.000001</td>\n",
       "      <td>5</td>\n",
       "    </tr>\n",
       "    <tr>\n",
       "      <th>8</th>\n",
       "      <td>1.999998</td>\n",
       "      <td>2</td>\n",
       "    </tr>\n",
       "    <tr>\n",
       "      <th>9</th>\n",
       "      <td>4.000001</td>\n",
       "      <td>4</td>\n",
       "    </tr>\n",
       "    <tr>\n",
       "      <th>10</th>\n",
       "      <td>6.999999</td>\n",
       "      <td>7</td>\n",
       "    </tr>\n",
       "  </tbody>\n",
       "</table>\n",
       "</div>"
      ],
      "text/plain": [
       "    approximated minimizer  real minimizer\n",
       "0                 5.000005               5\n",
       "1                -0.000009               0\n",
       "2                 2.999998               3\n",
       "3                 3.000001               3\n",
       "4                 7.000004               7\n",
       "5                 8.999988               9\n",
       "6                 3.000003               3\n",
       "7                 5.000001               5\n",
       "8                 1.999998               2\n",
       "9                 4.000001               4\n",
       "10                6.999999               7"
      ]
     },
     "execution_count": 50,
     "metadata": {},
     "output_type": "execute_result"
    }
   ],
   "source": [
    "x_hat = bfgs(init, problem_1,  grad_problem_1)\n",
    "pd.DataFrame(data={'approximated minimizer': x_hat[:,0], 'real minimizer': minimizer_1[:,0]})"
   ]
  },
  {
   "cell_type": "markdown",
   "metadata": {
    "id": "q31jepfJmXnp"
   },
   "source": [
    "### #2"
   ]
  },
  {
   "cell_type": "code",
   "execution_count": 51,
   "metadata": {
    "colab": {
     "base_uri": "https://localhost:8080/",
     "height": 424
    },
    "id": "1MbUBIzqmXnp",
    "outputId": "f569b0c3-c769-47eb-b045-624fb0a59d7b"
   },
   "outputs": [
    {
     "name": "stdout",
     "output_type": "stream",
     "text": [
      "performed 22 iterations.\n",
      "--- 0.0030024051666259766 seconds ---\n"
     ]
    },
    {
     "data": {
      "text/html": [
       "<div>\n",
       "<style scoped>\n",
       "    .dataframe tbody tr th:only-of-type {\n",
       "        vertical-align: middle;\n",
       "    }\n",
       "\n",
       "    .dataframe tbody tr th {\n",
       "        vertical-align: top;\n",
       "    }\n",
       "\n",
       "    .dataframe thead th {\n",
       "        text-align: right;\n",
       "    }\n",
       "</style>\n",
       "<table border=\"1\" class=\"dataframe\">\n",
       "  <thead>\n",
       "    <tr style=\"text-align: right;\">\n",
       "      <th></th>\n",
       "      <th>approximated minimizer</th>\n",
       "      <th>real minimizer</th>\n",
       "    </tr>\n",
       "  </thead>\n",
       "  <tbody>\n",
       "    <tr>\n",
       "      <th>0</th>\n",
       "      <td>8.000007</td>\n",
       "      <td>8</td>\n",
       "    </tr>\n",
       "    <tr>\n",
       "      <th>1</th>\n",
       "      <td>7.999988</td>\n",
       "      <td>8</td>\n",
       "    </tr>\n",
       "    <tr>\n",
       "      <th>2</th>\n",
       "      <td>6.000017</td>\n",
       "      <td>6</td>\n",
       "    </tr>\n",
       "    <tr>\n",
       "      <th>3</th>\n",
       "      <td>2.000027</td>\n",
       "      <td>2</td>\n",
       "    </tr>\n",
       "    <tr>\n",
       "      <th>4</th>\n",
       "      <td>8.000004</td>\n",
       "      <td>8</td>\n",
       "    </tr>\n",
       "    <tr>\n",
       "      <th>5</th>\n",
       "      <td>6.999980</td>\n",
       "      <td>7</td>\n",
       "    </tr>\n",
       "    <tr>\n",
       "      <th>6</th>\n",
       "      <td>2.000000</td>\n",
       "      <td>2</td>\n",
       "    </tr>\n",
       "    <tr>\n",
       "      <th>7</th>\n",
       "      <td>0.999981</td>\n",
       "      <td>1</td>\n",
       "    </tr>\n",
       "    <tr>\n",
       "      <th>8</th>\n",
       "      <td>4.999991</td>\n",
       "      <td>5</td>\n",
       "    </tr>\n",
       "    <tr>\n",
       "      <th>9</th>\n",
       "      <td>4.000001</td>\n",
       "      <td>4</td>\n",
       "    </tr>\n",
       "    <tr>\n",
       "      <th>10</th>\n",
       "      <td>4.000002</td>\n",
       "      <td>4</td>\n",
       "    </tr>\n",
       "  </tbody>\n",
       "</table>\n",
       "</div>"
      ],
      "text/plain": [
       "    approximated minimizer  real minimizer\n",
       "0                 8.000007               8\n",
       "1                 7.999988               8\n",
       "2                 6.000017               6\n",
       "3                 2.000027               2\n",
       "4                 8.000004               8\n",
       "5                 6.999980               7\n",
       "6                 2.000000               2\n",
       "7                 0.999981               1\n",
       "8                 4.999991               5\n",
       "9                 4.000001               4\n",
       "10                4.000002               4"
      ]
     },
     "execution_count": 51,
     "metadata": {},
     "output_type": "execute_result"
    }
   ],
   "source": [
    "x_hat = bfgs(init, problem_2,  grad_problem_2)\n",
    "pd.DataFrame(data={'approximated minimizer': x_hat[:,0], 'real minimizer': minimizer_2[:,0]})"
   ]
  },
  {
   "cell_type": "markdown",
   "metadata": {
    "id": "9WYBG6icmXnp"
   },
   "source": [
    "### #3"
   ]
  },
  {
   "cell_type": "code",
   "execution_count": 52,
   "metadata": {
    "colab": {
     "base_uri": "https://localhost:8080/",
     "height": 424
    },
    "id": "rUCrEmlUmXnp",
    "outputId": "f5e8ed7c-bfa6-4f9e-b035-208b753a019e"
   },
   "outputs": [
    {
     "name": "stdout",
     "output_type": "stream",
     "text": [
      "performed 23 iterations.\n",
      "--- 0.003002643585205078 seconds ---\n"
     ]
    },
    {
     "data": {
      "text/html": [
       "<div>\n",
       "<style scoped>\n",
       "    .dataframe tbody tr th:only-of-type {\n",
       "        vertical-align: middle;\n",
       "    }\n",
       "\n",
       "    .dataframe tbody tr th {\n",
       "        vertical-align: top;\n",
       "    }\n",
       "\n",
       "    .dataframe thead th {\n",
       "        text-align: right;\n",
       "    }\n",
       "</style>\n",
       "<table border=\"1\" class=\"dataframe\">\n",
       "  <thead>\n",
       "    <tr style=\"text-align: right;\">\n",
       "      <th></th>\n",
       "      <th>approximated minimizer</th>\n",
       "      <th>real minimizer</th>\n",
       "    </tr>\n",
       "  </thead>\n",
       "  <tbody>\n",
       "    <tr>\n",
       "      <th>0</th>\n",
       "      <td>7.999999e+00</td>\n",
       "      <td>8</td>\n",
       "    </tr>\n",
       "    <tr>\n",
       "      <th>1</th>\n",
       "      <td>8.999997e+00</td>\n",
       "      <td>9</td>\n",
       "    </tr>\n",
       "    <tr>\n",
       "      <th>2</th>\n",
       "      <td>2.999998e+00</td>\n",
       "      <td>3</td>\n",
       "    </tr>\n",
       "    <tr>\n",
       "      <th>3</th>\n",
       "      <td>7.999998e+00</td>\n",
       "      <td>8</td>\n",
       "    </tr>\n",
       "    <tr>\n",
       "      <th>4</th>\n",
       "      <td>8.000000e+00</td>\n",
       "      <td>8</td>\n",
       "    </tr>\n",
       "    <tr>\n",
       "      <th>5</th>\n",
       "      <td>3.790002e-07</td>\n",
       "      <td>0</td>\n",
       "    </tr>\n",
       "    <tr>\n",
       "      <th>6</th>\n",
       "      <td>5.000001e+00</td>\n",
       "      <td>5</td>\n",
       "    </tr>\n",
       "    <tr>\n",
       "      <th>7</th>\n",
       "      <td>3.000003e+00</td>\n",
       "      <td>3</td>\n",
       "    </tr>\n",
       "    <tr>\n",
       "      <th>8</th>\n",
       "      <td>9.000000e+00</td>\n",
       "      <td>9</td>\n",
       "    </tr>\n",
       "    <tr>\n",
       "      <th>9</th>\n",
       "      <td>9.000002e+00</td>\n",
       "      <td>9</td>\n",
       "    </tr>\n",
       "    <tr>\n",
       "      <th>10</th>\n",
       "      <td>4.999996e+00</td>\n",
       "      <td>5</td>\n",
       "    </tr>\n",
       "  </tbody>\n",
       "</table>\n",
       "</div>"
      ],
      "text/plain": [
       "    approximated minimizer  real minimizer\n",
       "0             7.999999e+00               8\n",
       "1             8.999997e+00               9\n",
       "2             2.999998e+00               3\n",
       "3             7.999998e+00               8\n",
       "4             8.000000e+00               8\n",
       "5             3.790002e-07               0\n",
       "6             5.000001e+00               5\n",
       "7             3.000003e+00               3\n",
       "8             9.000000e+00               9\n",
       "9             9.000002e+00               9\n",
       "10            4.999996e+00               5"
      ]
     },
     "execution_count": 52,
     "metadata": {},
     "output_type": "execute_result"
    }
   ],
   "source": [
    "x_hat = bfgs(init, problem_3,  grad_problem_3)\n",
    "pd.DataFrame(data={'approximated minimizer': x_hat[:,0], 'real minimizer': minimizer_3[:,0]})"
   ]
  },
  {
   "cell_type": "markdown",
   "metadata": {
    "id": "il6Ng_1bmXnp"
   },
   "source": [
    "### #4"
   ]
  },
  {
   "cell_type": "code",
   "execution_count": 53,
   "metadata": {
    "colab": {
     "base_uri": "https://localhost:8080/",
     "height": 424
    },
    "id": "ai8srFepmXnq",
    "outputId": "a3ef5c27-df22-460c-8f43-6f7db47a0445"
   },
   "outputs": [
    {
     "name": "stdout",
     "output_type": "stream",
     "text": [
      "performed 19 iterations.\n",
      "--- 0.002501964569091797 seconds ---\n"
     ]
    },
    {
     "data": {
      "text/html": [
       "<div>\n",
       "<style scoped>\n",
       "    .dataframe tbody tr th:only-of-type {\n",
       "        vertical-align: middle;\n",
       "    }\n",
       "\n",
       "    .dataframe tbody tr th {\n",
       "        vertical-align: top;\n",
       "    }\n",
       "\n",
       "    .dataframe thead th {\n",
       "        text-align: right;\n",
       "    }\n",
       "</style>\n",
       "<table border=\"1\" class=\"dataframe\">\n",
       "  <thead>\n",
       "    <tr style=\"text-align: right;\">\n",
       "      <th></th>\n",
       "      <th>approximated minimizer</th>\n",
       "      <th>real minimizer</th>\n",
       "    </tr>\n",
       "  </thead>\n",
       "  <tbody>\n",
       "    <tr>\n",
       "      <th>0</th>\n",
       "      <td>6.999992</td>\n",
       "      <td>7</td>\n",
       "    </tr>\n",
       "    <tr>\n",
       "      <th>1</th>\n",
       "      <td>5.000001</td>\n",
       "      <td>5</td>\n",
       "    </tr>\n",
       "    <tr>\n",
       "      <th>2</th>\n",
       "      <td>0.999999</td>\n",
       "      <td>1</td>\n",
       "    </tr>\n",
       "    <tr>\n",
       "      <th>3</th>\n",
       "      <td>7.999991</td>\n",
       "      <td>8</td>\n",
       "    </tr>\n",
       "    <tr>\n",
       "      <th>4</th>\n",
       "      <td>6.999993</td>\n",
       "      <td>7</td>\n",
       "    </tr>\n",
       "    <tr>\n",
       "      <th>5</th>\n",
       "      <td>8.000013</td>\n",
       "      <td>8</td>\n",
       "    </tr>\n",
       "    <tr>\n",
       "      <th>6</th>\n",
       "      <td>1.999994</td>\n",
       "      <td>2</td>\n",
       "    </tr>\n",
       "    <tr>\n",
       "      <th>7</th>\n",
       "      <td>8.999993</td>\n",
       "      <td>9</td>\n",
       "    </tr>\n",
       "    <tr>\n",
       "      <th>8</th>\n",
       "      <td>7.000011</td>\n",
       "      <td>7</td>\n",
       "    </tr>\n",
       "    <tr>\n",
       "      <th>9</th>\n",
       "      <td>6.999999</td>\n",
       "      <td>7</td>\n",
       "    </tr>\n",
       "    <tr>\n",
       "      <th>10</th>\n",
       "      <td>7.000002</td>\n",
       "      <td>7</td>\n",
       "    </tr>\n",
       "  </tbody>\n",
       "</table>\n",
       "</div>"
      ],
      "text/plain": [
       "    approximated minimizer  real minimizer\n",
       "0                 6.999992               7\n",
       "1                 5.000001               5\n",
       "2                 0.999999               1\n",
       "3                 7.999991               8\n",
       "4                 6.999993               7\n",
       "5                 8.000013               8\n",
       "6                 1.999994               2\n",
       "7                 8.999993               9\n",
       "8                 7.000011               7\n",
       "9                 6.999999               7\n",
       "10                7.000002               7"
      ]
     },
     "execution_count": 53,
     "metadata": {},
     "output_type": "execute_result"
    }
   ],
   "source": [
    "x_hat = bfgs(init, problem_4,  grad_problem_4)\n",
    "pd.DataFrame(data={'approximated minimizer': x_hat[:,0], 'real minimizer': minimizer_4[:,0]})"
   ]
  },
  {
   "cell_type": "markdown",
   "metadata": {
    "id": "LP6zERDGmXnq"
   },
   "source": [
    "### #5"
   ]
  },
  {
   "cell_type": "code",
   "execution_count": 54,
   "metadata": {
    "colab": {
     "base_uri": "https://localhost:8080/",
     "height": 424
    },
    "id": "zZiVzzzkmXnq",
    "outputId": "c594018a-cd35-4f6f-ba5d-eb594d96c6bf"
   },
   "outputs": [
    {
     "name": "stdout",
     "output_type": "stream",
     "text": [
      "performed 26 iterations.\n",
      "--- 0.0035028457641601562 seconds ---\n"
     ]
    },
    {
     "data": {
      "text/html": [
       "<div>\n",
       "<style scoped>\n",
       "    .dataframe tbody tr th:only-of-type {\n",
       "        vertical-align: middle;\n",
       "    }\n",
       "\n",
       "    .dataframe tbody tr th {\n",
       "        vertical-align: top;\n",
       "    }\n",
       "\n",
       "    .dataframe thead th {\n",
       "        text-align: right;\n",
       "    }\n",
       "</style>\n",
       "<table border=\"1\" class=\"dataframe\">\n",
       "  <thead>\n",
       "    <tr style=\"text-align: right;\">\n",
       "      <th></th>\n",
       "      <th>approximated minimizer</th>\n",
       "      <th>real minimizer</th>\n",
       "    </tr>\n",
       "  </thead>\n",
       "  <tbody>\n",
       "    <tr>\n",
       "      <th>0</th>\n",
       "      <td>8.999990</td>\n",
       "      <td>9</td>\n",
       "    </tr>\n",
       "    <tr>\n",
       "      <th>1</th>\n",
       "      <td>3.000010</td>\n",
       "      <td>3</td>\n",
       "    </tr>\n",
       "    <tr>\n",
       "      <th>2</th>\n",
       "      <td>4.000015</td>\n",
       "      <td>4</td>\n",
       "    </tr>\n",
       "    <tr>\n",
       "      <th>3</th>\n",
       "      <td>-0.000012</td>\n",
       "      <td>0</td>\n",
       "    </tr>\n",
       "    <tr>\n",
       "      <th>4</th>\n",
       "      <td>8.999990</td>\n",
       "      <td>9</td>\n",
       "    </tr>\n",
       "    <tr>\n",
       "      <th>5</th>\n",
       "      <td>1.000011</td>\n",
       "      <td>1</td>\n",
       "    </tr>\n",
       "    <tr>\n",
       "      <th>6</th>\n",
       "      <td>8.999996</td>\n",
       "      <td>9</td>\n",
       "    </tr>\n",
       "    <tr>\n",
       "      <th>7</th>\n",
       "      <td>0.999994</td>\n",
       "      <td>1</td>\n",
       "    </tr>\n",
       "    <tr>\n",
       "      <th>8</th>\n",
       "      <td>4.000012</td>\n",
       "      <td>4</td>\n",
       "    </tr>\n",
       "    <tr>\n",
       "      <th>9</th>\n",
       "      <td>1.000001</td>\n",
       "      <td>1</td>\n",
       "    </tr>\n",
       "    <tr>\n",
       "      <th>10</th>\n",
       "      <td>7.999994</td>\n",
       "      <td>8</td>\n",
       "    </tr>\n",
       "  </tbody>\n",
       "</table>\n",
       "</div>"
      ],
      "text/plain": [
       "    approximated minimizer  real minimizer\n",
       "0                 8.999990               9\n",
       "1                 3.000010               3\n",
       "2                 4.000015               4\n",
       "3                -0.000012               0\n",
       "4                 8.999990               9\n",
       "5                 1.000011               1\n",
       "6                 8.999996               9\n",
       "7                 0.999994               1\n",
       "8                 4.000012               4\n",
       "9                 1.000001               1\n",
       "10                7.999994               8"
      ]
     },
     "execution_count": 54,
     "metadata": {},
     "output_type": "execute_result"
    }
   ],
   "source": [
    "x_hat = bfgs(init, problem_5,  grad_problem_5)\n",
    "pd.DataFrame(data={'approximated minimizer': x_hat[:,0], 'real minimizer': minimizer_5[:,0]})"
   ]
  },
  {
   "cell_type": "markdown",
   "metadata": {
    "id": "MQHoCsHlmXnq"
   },
   "source": [
    "### #6"
   ]
  },
  {
   "cell_type": "code",
   "execution_count": 55,
   "metadata": {
    "colab": {
     "base_uri": "https://localhost:8080/"
    },
    "id": "JOoKg9WPmXnq",
    "outputId": "90f9acd0-3b37-436d-b9a6-67e92894833c"
   },
   "outputs": [
    {
     "name": "stdout",
     "output_type": "stream",
     "text": [
      "performed 7 iterations.\n",
      "--- 0.001501321792602539 seconds ---\n",
      "estimated minimizer: 20.00000000000061\n",
      "real minimizers: [  1  20 300]\n"
     ]
    }
   ],
   "source": [
    "init=np.array([[6]])\n",
    "x_hat = bfgs(init, problem_6,  derivative_problem_6)\n",
    "print(\"estimated minimizer: \" + str(x_hat[0][0]))\n",
    "print(\"real minimizers: \" + str(abc_6))"
   ]
  },
  {
   "cell_type": "markdown",
   "metadata": {
    "id": "BWvjZypNmXnq"
   },
   "source": [
    "### #7"
   ]
  },
  {
   "cell_type": "code",
   "execution_count": 56,
   "metadata": {
    "colab": {
     "base_uri": "https://localhost:8080/"
    },
    "id": "7sew2MUkmXnr",
    "outputId": "88c11314-e5f2-4b87-b9c5-1fcb66eaff36"
   },
   "outputs": [
    {
     "name": "stdout",
     "output_type": "stream",
     "text": [
      "performed 7 iterations.\n",
      "--- 0.0025017261505126953 seconds ---\n",
      "estimated minimizer: 50.00000000000216\n",
      "real minimizers: [  4  50 600]\n"
     ]
    }
   ],
   "source": [
    "init=np.array([[60]])\n",
    "x_hat = bfgs(init, problem_7,  derivative_problem_7)\n",
    "print(\"estimated minimizer: \" + str(x_hat[0][0]))\n",
    "print(\"real minimizers: \" + str(abc_7))"
   ]
  },
  {
   "cell_type": "markdown",
   "metadata": {
    "id": "LUTEB82-mXnr"
   },
   "source": [
    "### #8"
   ]
  },
  {
   "cell_type": "code",
   "execution_count": 57,
   "metadata": {
    "colab": {
     "base_uri": "https://localhost:8080/"
    },
    "id": "vH3BPt1OmXnr",
    "outputId": "85a2270c-9761-4fef-d3d8-a15d5cca3998"
   },
   "outputs": [
    {
     "name": "stdout",
     "output_type": "stream",
     "text": [
      "performed 7 iterations.\n",
      "--- 0.0020020008087158203 seconds ---\n",
      "estimated minimizer: 80.0\n",
      "real minimizers: [  7  80 900]\n"
     ]
    }
   ],
   "source": [
    "init=np.array([[60]])\n",
    "x_hat = bfgs(init, problem_8,  derivative_problem_8)\n",
    "print(\"estimated minimizer: \" + str(x_hat[0][0]))\n",
    "print(\"real minimizers: \" + str(abc_8))"
   ]
  },
  {
   "cell_type": "markdown",
   "metadata": {
    "id": "lGdRpk-gmXnr"
   },
   "source": [
    "### #9"
   ]
  },
  {
   "cell_type": "code",
   "execution_count": 58,
   "metadata": {
    "colab": {
     "base_uri": "https://localhost:8080/"
    },
    "id": "gI3L78LHmXnr",
    "outputId": "2f72b1fa-361b-419b-a224-35fc97210410"
   },
   "outputs": [
    {
     "name": "stdout",
     "output_type": "stream",
     "text": [
      "performed 7 iterations.\n",
      "--- 0.0025022029876708984 seconds ---\n",
      "estimated minimizer: 100.0\n",
      "real minimizers: [  1 100 200]\n"
     ]
    }
   ],
   "source": [
    "init=np.array([[60]])\n",
    "x_hat = bfgs(init, problem_9,  derivative_problem_9)\n",
    "print(\"estimated minimizer: \" + str(x_hat[0][0]))\n",
    "print(\"real minimizers: \" + str(abc_9))"
   ]
  },
  {
   "cell_type": "markdown",
   "metadata": {
    "id": "nt6htc_AmXns"
   },
   "source": [
    "### #10"
   ]
  },
  {
   "cell_type": "code",
   "execution_count": 59,
   "metadata": {
    "colab": {
     "base_uri": "https://localhost:8080/"
    },
    "id": "hJnDhL5nmXns",
    "outputId": "d51a4c76-598b-4fc0-8f2e-03da3793729f"
   },
   "outputs": [
    {
     "name": "stdout",
     "output_type": "stream",
     "text": [
      "performed 8 iterations.\n",
      "--- 0.002501964569091797 seconds ---\n",
      "estimated minimizer: 120.0\n",
      "real minimizers: [  2 120 200]\n"
     ]
    }
   ],
   "source": [
    "init=np.array([[20]])\n",
    "x_hat = bfgs(init, problem_10,  derivative_problem_10)\n",
    "print(\"estimated minimizer: \" + str(x_hat[0][0]))\n",
    "print(\"real minimizers: \" + str(abc_10))"
   ]
  }
 ],
 "metadata": {
  "colab": {
   "collapsed_sections": [
    "pmQeqRH4mXnV",
    "F0pSOVB2mXnV",
    "VGUqO259mXnW",
    "dodqvlg9mXnW",
    "WBzAzUzxmXnX",
    "YNmxtb3BmXnX",
    "0rukaW2AmXnY",
    "db7PrUvCmXnY",
    "kt7onhpImXnZ",
    "w7RON4G1mXnZ",
    "aO7uwQ0YmXna",
    "yy9Hb1r4mXnb",
    "9wEYB7AnmXnc",
    "dk2KPBocmXnc",
    "gL3I1-rfmXnd",
    "FHG-KAPtmXnd",
    "uaVfQyxNmXnd",
    "OTx7uKvHmXne",
    "VQTBDVGGmXne",
    "EXTSyU4cmXne",
    "yh8WYET0mXnf",
    "NHLiZyzCmXnf",
    "lQEMaNJ4mXng",
    "0Rwru_yymXng",
    "UlI4YYdTmXng",
    "8XDE_xszmXnh",
    "Dc9qnmKYmXnh",
    "dgG_GUwXmXnh",
    "3GX_3Nh9mXni",
    "PD_DRGyHmXni",
    "q3a_EzpAmXni",
    "Oopn4hPHmXnj",
    "FBKTYJTrmXnl",
    "ldtwO_-VmXnl",
    "4U_SVypemXnl",
    "DWv7yt-PmXnm",
    "Pre-2fphmXnm",
    "2b8x_o81mXnm",
    "sFplb0dUmXnn",
    "tZMazBj0mXnn",
    "Uzf8F5kQmXnn",
    "AqzeNuoNmXno",
    "ieTbV1DymXno",
    "q31jepfJmXnp",
    "9WYBG6icmXnp",
    "il6Ng_1bmXnp",
    "LP6zERDGmXnq",
    "MQHoCsHlmXnq",
    "BWvjZypNmXnq",
    "LUTEB82-mXnr",
    "lGdRpk-gmXnr",
    "nt6htc_AmXns"
   ],
   "include_colab_link": true,
   "name": "NumOpt_Proj1.ipynb",
   "provenance": []
  },
  "kernelspec": {
   "display_name": "Python 3",
   "language": "python",
   "name": "python3"
  },
  "language_info": {
   "codemirror_mode": {
    "name": "ipython",
    "version": 3
   },
   "file_extension": ".py",
   "mimetype": "text/x-python",
   "name": "python",
   "nbconvert_exporter": "python",
   "pygments_lexer": "ipython3",
   "version": "3.9.1"
  }
 },
 "nbformat": 4,
 "nbformat_minor": 4
}
